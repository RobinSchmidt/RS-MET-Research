{
 "cells": [
  {
   "cell_type": "markdown",
   "metadata": {},
   "source": [
    "# Impulse Response of Ladder Filters"
   ]
  },
  {
   "cell_type": "markdown",
   "metadata": {},
   "source": [
    "We consider a series connection of 4 first order lowpass filters. This filter configuration, if implemented as analog electronic circuit in a particular way, as pioneered by the famous musical synthesizer designer Robert Moog, resembles a ladder - hence it's sometimes called ladder filter. The impulse response of each of 4 first order stages is given by:\n",
    "$$h_1(t) = e^{-a t} \\qquad \\text{for } t \\geq 0 \\text{, 0 otherwise}$$\n",
    "where $a$ is the decay rate which is related to the cutoff frequency $\\omega_c$ by $a = 2 \\pi \\omega_c$. The impulse response of a series connection of 2 such filters, which we shall denote by $h_2(t)$, is given by the convolution of $h_1(t)$ with itself:\n",
    "$$h_2(t) = h_1(t) * h_1(t) = \\int_{-\\infty}^{\\infty} h_1(t) h_1(t-\\tau) d\\tau$$\n",
    "Noting that $h_1(t) = 0$ for $t < 0$, we can replace the infinite integration limits by $0$ and $t$ respectively, so:\n",
    "$$h_2(t) = \\int_{0}^{t} h_1(t) h_1(t-\\tau) d\\tau = \\int_{0}^{t} e^{-a t} e^{-a (t-\\tau)} d\\tau$$\n",
    "To solve the integral, we'll use the sympy symbolic computation package for python:"
   ]
  },
  {
   "cell_type": "code",
   "execution_count": 1,
   "metadata": {
    "collapsed": false
   },
   "outputs": [
    {
     "data": {
      "text/latex": [
       "$$\\frac{1}{a} \\left(e^{a t} - 1\\right) e^{- 2 a t}$$"
      ],
      "text/plain": [
       "⎛ a⋅t    ⎞  -2⋅a⋅t\n",
       "⎝ℯ    - 1⎠⋅ℯ      \n",
       "──────────────────\n",
       "        a         "
      ]
     },
     "metadata": {},
     "output_type": "display_data"
    }
   ],
   "source": [
    "from sympy import *\n",
    "from IPython.display import display\n",
    "init_printing(use_latex='mathjax')\n",
    "t     = Symbol('t', nonnegative=True)      # time variable\n",
    "a     = Symbol('a', positive=True)         # decay rate\n",
    "tau   = Symbol('tau')                      # dummy integration variable\n",
    "h1    = exp(-a*t)                          # impulse response h1(t)\n",
    "h1tau = exp(-a*(t-tau))                    # h1(t-tau), for convolution\n",
    "h2    = integrate(h1*h1tau, (tau, 0, t))   # find h2 by doing convolution integral\n",
    "h2    = simplify(h2)\n",
    "display(h2)"
   ]
  },
  {
   "cell_type": "markdown",
   "metadata": {},
   "source": [
    "This $h_2(t)$ function would be the output, tapped off after the second stage of our ladder. Likewise, the impulse response after the 3rd and 4th stage, are found by convolving the impulse response of the preceding stage with $h_1(t)$ again. So, for the impulse responses of the 3rd and 4th stage we get:"
   ]
  },
  {
   "cell_type": "code",
   "execution_count": 2,
   "metadata": {
    "collapsed": false
   },
   "outputs": [
    {
     "data": {
      "text/latex": [
       "$$\\frac{1}{a^{2}} \\left(e^{2 a t} - 2 e^{a t} + 1\\right) e^{- 3 a t}$$"
      ],
      "text/plain": [
       "⎛ 2⋅a⋅t      a⋅t    ⎞  -3⋅a⋅t\n",
       "⎝ℯ      - 2⋅ℯ    + 1⎠⋅ℯ      \n",
       "─────────────────────────────\n",
       "               2             \n",
       "              a              "
      ]
     },
     "metadata": {},
     "output_type": "display_data"
    },
    {
     "data": {
      "text/latex": [
       "$$\\frac{1}{a^{3}} \\left(e^{3 a t} - 3 e^{2 a t} + 3 e^{a t} - 1\\right) e^{- 4 a t}$$"
      ],
      "text/plain": [
       "⎛ 3⋅a⋅t      2⋅a⋅t      a⋅t    ⎞  -4⋅a⋅t\n",
       "⎝ℯ      - 3⋅ℯ      + 3⋅ℯ    - 1⎠⋅ℯ      \n",
       "────────────────────────────────────────\n",
       "                    3                   \n",
       "                   a                    "
      ]
     },
     "metadata": {},
     "output_type": "display_data"
    }
   ],
   "source": [
    "h3 = integrate(h2*h1tau, (tau, 0, t))   # h3 = convolve h2 with h1\n",
    "h4 = integrate(h3*h1tau, (tau, 0, t))   # h4 = convolve h3 with h1\n",
    "h3 = simplify(h3)\n",
    "h4 = simplify(h4)\n",
    "display(h3, h4)"
   ]
  },
  {
   "cell_type": "markdown",
   "metadata": {},
   "source": [
    "So, in summary, for the impulse responses of the 4 successive stages of the ladder filter, we have:\n",
    "$$\n",
    "\\begin{aligned}\n",
    "h_1(t) &= e^{-\\alpha t} \\\\\n",
    "h_2(t) &= \\frac{1}{a} \\left(e^{a t} - 1\\right) e^{- 2 a t} \\\\\n",
    "h_3(t) &= \\frac{1}{a^{2}} \\left(e^{2 a t} - 2 e^{a t} + 1\\right) e^{- 3 a t} \\\\\n",
    "h_4(t) &= \\frac{1}{a^{3}} \\left(e^{3 a t} - 3 e^{2 a t} + 3 e^{a t} - 1\\right) e^{- 4 a t} \\\\\n",
    "\\end{aligned}\n",
    "$$\n"
   ]
  },
  {
   "cell_type": "markdown",
   "metadata": {},
   "source": [
    "Let's plot the 4 impulse response functions for a=1:"
   ]
  },
  {
   "cell_type": "code",
   "execution_count": 3,
   "metadata": {
    "collapsed": false
   },
   "outputs": [
    {
     "data": {
      "image/png": "[encoded data removed]",
      "text/plain": [
       "<matplotlib.figure.Figure at 0x73eb208>"
      ]
     },
     "metadata": {},
     "output_type": "display_data"
    }
   ],
   "source": [
    "import numpy as np\n",
    "from matplotlib.pyplot import *\n",
    "%matplotlib inline\n",
    "x  = np.linspace(0, 6, 201)\n",
    "y1 = np.exp(-x)\n",
    "y2 = (np.exp(x)-1)*np.exp(-2*x)\n",
    "y3 = (np.exp(2*x)-2*np.exp(x)+1)*np.exp(-3*x)\n",
    "y4 = (np.exp(3*x)-3*np.exp(2*x)+3*np.exp(x)-1)*np.exp(-4*x)\n",
    "plot(x, y1, x, y2, x, y3, x, y4)\n",
    "gcf().set_size_inches(12, 6)"
   ]
  },
  {
   "cell_type": "markdown",
   "metadata": {},
   "source": [
    "As we can see, all except the 1st give a kind of \"bump\" function which first rises to a maximum and then decays exponentially. Successive stages fo the filter smooth the attack of the bump more and more. We might be interested in the location of the bump's peak value. To find it, we would have to find the derivative of the respective impulse resonse function, set it 0 and solve for t. So let's find the expressions for the derivatives:"
   ]
  },
  {
   "cell_type": "code",
   "execution_count": 4,
   "metadata": {
    "collapsed": false
   },
   "outputs": [
    {
     "data": {
      "text/latex": [
       "$$\\left(- e^{a t} + 2\\right) e^{- 2 a t}$$"
      ],
      "text/plain": [
       "⎛   a⋅t    ⎞  -2⋅a⋅t\n",
       "⎝- ℯ    + 2⎠⋅ℯ      "
      ]
     },
     "metadata": {},
     "output_type": "display_data"
    },
    {
     "data": {
      "text/latex": [
       "$$\\frac{1}{a} \\left(- e^{2 a t} + 4 e^{a t} - 3\\right) e^{- 3 a t}$$"
      ],
      "text/plain": [
       "⎛   2⋅a⋅t      a⋅t    ⎞  -3⋅a⋅t\n",
       "⎝- ℯ      + 4⋅ℯ    - 3⎠⋅ℯ      \n",
       "───────────────────────────────\n",
       "               a               "
      ]
     },
     "metadata": {},
     "output_type": "display_data"
    },
    {
     "data": {
      "text/latex": [
       "$$\\frac{1}{a^{2}} \\left(- e^{3 a t} + 6 e^{2 a t} - 9 e^{a t} + 4\\right) e^{- 4 a t}$$"
      ],
      "text/plain": [
       "⎛   3⋅a⋅t      2⋅a⋅t      a⋅t    ⎞  -4⋅a⋅t\n",
       "⎝- ℯ      + 6⋅ℯ      - 9⋅ℯ    + 4⎠⋅ℯ      \n",
       "──────────────────────────────────────────\n",
       "                     2                    \n",
       "                    a                     "
      ]
     },
     "metadata": {},
     "output_type": "display_data"
    }
   ],
   "source": [
    "d2 = simplify(diff(h2, t))      # derivative of h2 with respect to t\n",
    "d3 = simplify(diff(h3, t))      # ...           h3 ...\n",
    "d4 = simplify(diff(h4, t))      # ...           h4 ...\n",
    "display(d2, d3, d4)"
   ]
  },
  {
   "cell_type": "markdown",
   "metadata": {},
   "source": [
    "...and solve the equations that result from setting these derivatives to zero:"
   ]
  },
  {
   "cell_type": "code",
   "execution_count": 5,
   "metadata": {
    "collapsed": false
   },
   "outputs": [
    {
     "data": {
      "text/latex": [
       "$$\\left [ \\frac{1}{a} \\log{\\left (2 \\right )}\\right ]$$"
      ],
      "text/plain": [
       "⎡log(2)⎤\n",
       "⎢──────⎥\n",
       "⎣  a   ⎦"
      ]
     },
     "metadata": {},
     "output_type": "display_data"
    },
    {
     "data": {
      "text/latex": [
       "$$\\left [ 0, \\quad \\frac{1}{a} \\log{\\left (3 \\right )}\\right ]$$"
      ],
      "text/plain": [
       "⎡   log(3)⎤\n",
       "⎢0, ──────⎥\n",
       "⎣     a   ⎦"
      ]
     },
     "metadata": {},
     "output_type": "display_data"
    },
    {
     "data": {
      "text/latex": [
       "$$\\left [ 0, \\quad \\frac{1}{a} \\log{\\left (4 \\right )}\\right ]$$"
      ],
      "text/plain": [
       "⎡   log(4)⎤\n",
       "⎢0, ──────⎥\n",
       "⎣     a   ⎦"
      ]
     },
     "metadata": {},
     "output_type": "display_data"
    }
   ],
   "source": [
    "display(solve(d2, t), solve(d3, t), solve(d4, t))"
   ]
  },
  {
   "cell_type": "markdown",
   "metadata": {},
   "source": [
    "We can see that the location of the peak is proportional to the reciprocal of the decay time constant $a$ where the proportionality constant is given by the logarithm of the number of stages after which we tap off the signal. After $N$ stages, the peak of the impulse response is found at:\n",
    "$$\n",
    "t_p = \\frac{\\log(N)}{a} = \\frac{\\log(N)}{2 \\pi \\omega_c}\n",
    "$$"
   ]
  },
  {
   "cell_type": "markdown",
   "metadata": {},
   "source": [
    "Another interesting question could be at which point the step response pass through 0.5. Let's get some expressions for the step responses:"
   ]
  },
  {
   "cell_type": "code",
   "execution_count": 6,
   "metadata": {
    "collapsed": false
   },
   "outputs": [
    {
     "data": {
      "text/latex": [
       "$$\\frac{1}{a} - \\frac{1}{a} e^{- a t}$$"
      ],
      "text/plain": [
       "     -a⋅t\n",
       "1   ℯ    \n",
       "─ - ─────\n",
       "a     a  "
      ]
     },
     "metadata": {},
     "output_type": "display_data"
    },
    {
     "data": {
      "text/latex": [
       "$$\\frac{e^{- 2 a t}}{2 a^{2}} \\left(e^{2 a t} - 2 e^{a t} + 1\\right)$$"
      ],
      "text/plain": [
       "⎛ 2⋅a⋅t      a⋅t    ⎞  -2⋅a⋅t\n",
       "⎝ℯ      - 2⋅ℯ    + 1⎠⋅ℯ      \n",
       "─────────────────────────────\n",
       "                2            \n",
       "             2⋅a             "
      ]
     },
     "metadata": {},
     "output_type": "display_data"
    },
    {
     "data": {
      "text/latex": [
       "$$\\frac{1}{a^{3}} \\left(\\frac{1}{3} e^{3 a t} - e^{2 a t} + e^{a t} - \\frac{1}{3}\\right) e^{- 3 a t}$$"
      ],
      "text/plain": [
       "⎛ 3⋅a⋅t                    ⎞        \n",
       "⎜ℯ         2⋅a⋅t    a⋅t   1⎟  -3⋅a⋅t\n",
       "⎜────── - ℯ      + ℯ    - ─⎟⋅ℯ      \n",
       "⎝  3                      3⎠        \n",
       "────────────────────────────────────\n",
       "                  3                 \n",
       "                 a                  "
      ]
     },
     "metadata": {},
     "output_type": "display_data"
    },
    {
     "data": {
      "text/latex": [
       "$$\\frac{e^{- 4 a t}}{4 a^{4}} \\left(e^{4 a t} - 4 e^{3 a t} + 6 e^{2 a t} - 4 e^{a t} + 1\\right)$$"
      ],
      "text/plain": [
       "⎛ 4⋅a⋅t      3⋅a⋅t      2⋅a⋅t      a⋅t    ⎞  -4⋅a⋅t\n",
       "⎝ℯ      - 4⋅ℯ      + 6⋅ℯ      - 4⋅ℯ    + 1⎠⋅ℯ      \n",
       "───────────────────────────────────────────────────\n",
       "                           4                       \n",
       "                        4⋅a                        "
      ]
     },
     "metadata": {},
     "output_type": "display_data"
    }
   ],
   "source": [
    "s1 = simplify(integrate(h1, (t, 0, t)))\n",
    "s2 = simplify(integrate(h2, (t, 0, t)))\n",
    "s3 = simplify(integrate(h3, (t, 0, t)))\n",
    "s4 = simplify(integrate(h4, (t, 0, t)))\n",
    "display(s1, s2, s3, s4)"
   ]
  },
  {
   "cell_type": "code",
   "execution_count": 11,
   "metadata": {
    "collapsed": false
   },
   "outputs": [
    {
     "data": {
      "text/latex": [
       "$$\\left [ \\frac{1}{a} \\log{\\left (- \\frac{2.0}{a - 2.0} \\right )}\\right ]$$"
      ],
      "text/plain": [
       "⎡   ⎛ -2.0  ⎞⎤\n",
       "⎢log⎜───────⎟⎥\n",
       "⎢   ⎝a - 2.0⎠⎥\n",
       "⎢────────────⎥\n",
       "⎣     a      ⎦"
      ]
     },
     "metadata": {},
     "output_type": "display_data"
    },
    {
     "data": {
      "text/latex": [
       "$$\\left [ \\frac{1}{a} \\log{\\left (\\frac{- a^{2} - a \\left(a - 1.0\\right) \\left(a + 1.0\\right) + 1.0}{\\left(a - 1.0\\right) \\left(a + 1.0\\right) \\left(a^{2} - 1.0\\right)} \\right )}\\right ]$$"
      ],
      "text/plain": [
       "⎡   ⎛   2                              ⎞⎤\n",
       "⎢   ⎜- a  - a⋅(a - 1.0)⋅(a + 1.0) + 1.0⎟⎥\n",
       "⎢log⎜──────────────────────────────────⎟⎥\n",
       "⎢   ⎜                      ⎛ 2      ⎞  ⎟⎥\n",
       "⎢   ⎝  (a - 1.0)⋅(a + 1.0)⋅⎝a  - 1.0⎠  ⎠⎥\n",
       "⎢───────────────────────────────────────⎥\n",
       "⎣                   a                   ⎦"
      ]
     },
     "metadata": {},
     "output_type": "display_data"
    }
   ],
   "source": [
    "display(solve(s1-1/2, t))  # -1/2 bcs we want to know, where s1 goes through 1/2\n",
    "display(solve(s2-1/2, t))\n",
    "#display(solve(s3-1/2, t)) # sympy can't solve this anymore\n",
    "# seems like the expressions get complicated rather quick with increasing order"
   ]
  },
  {
   "cell_type": "markdown",
   "metadata": {},
   "source": []
  }
 ],
 "metadata": {
  "kernelspec": {
   "display_name": "Python 3",
   "language": "python",
   "name": "python3"
  },
  "language_info": {
   "codemirror_mode": {
    "name": "ipython",
    "version": 3
   },
   "file_extension": ".py",
   "mimetype": "text/x-python",
   "name": "python",
   "nbconvert_exporter": "python",
   "pygments_lexer": "ipython3",
   "version": "3.4.3"
  }
 },
 "nbformat": 4,
 "nbformat_minor": 0
}
