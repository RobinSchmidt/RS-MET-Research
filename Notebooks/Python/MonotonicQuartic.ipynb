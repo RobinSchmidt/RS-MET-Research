{
 "cells": [
  {
   "cell_type": "markdown",
   "metadata": {},
   "source": [
    "# Monotonic Quartic For Saturation"
   ]
  },
  {
   "cell_type": "markdown",
   "metadata": {},
   "source": [
    "## Preliminary: Nonnegative Polynomials"
   ]
  },
  {
   "cell_type": "markdown",
   "metadata": {},
   "source": [
    "A polynomial $p(x)$ is nonnegative on an interval $[a,b]$, if it can be expressed as:\n",
    "\\begin{equation}\n",
    "\\begin{aligned}\n",
    "p(x) &= s(x) + (x-a)(b-x)t(x), \\quad \\text{for even degree} \\\\\n",
    "p(x) &= (x-a)s(x) + (b-x)t(x), \\quad \\text{for odd degree}\n",
    "\\end{aligned}\n",
    "\\end{equation}\n",
    "where $s(x),t(x)$ are sums-of-squares. A polynomial $s(x)$ is a sum-of-squares, iff it can be written as:\n",
    "$s(x) = \\sum_k q_k^2(x)$, where the $q_k(x)$ are polynomials."
   ]
  },
  {
   "cell_type": "markdown",
   "metadata": {
    "collapsed": true
   },
   "source": [
    "## A Monotonic Quartic for Saturation"
   ]
  },
  {
   "cell_type": "markdown",
   "metadata": {},
   "source": [
    "We want to construct a function $p(x)$ that lends itself for use as saturator. We are going to define it only for positive inputs and will symmetrize it around the origin for negative inputs. A general 4th order polynomial $p(x)$ has the form:\n",
    "$$\n",
    "p(x) = p_0 + p_1 x + p_2 x^2 + p_3 x^3 + p_4 x^4\n",
    "$$\n",
    "For continuity, we require it to pass through the origin: $p(0)=0$. Furthermore, we want to be able to specify its slope $k$ at the origin: $p'(0)=k$. These conditions determine $p_0=0, p_1=k$ directly, so our polynomial is:\n",
    "$$\n",
    "p(x) = k x + p_2 x^2 + p_3 x^3 + p_4 x^4\n",
    "$$\n",
    "We want the polynomial to have $p(1)=1, p'(1)=0$. Then we may use it in the following way for saturation: $f(x)=p(x)$, if $x<1$, $f(x)=1$, otherwise. At the moment, we have 4 contsraints, which would normally call for a 3rd order polynomial. However, we additionally require monotonicity on the interval $[0,1]$ and that's why we need another degree of freedom. Being monotonic on an interval means that the derivative must be nonnegative on that interval. That's why we construct the derivative our polynomial from the odd degree case of the nonnegative polynomial. For this, we define:\n",
    "\\begin{equation}\n",
    "\\begin{aligned}\n",
    "s(x) &= (a(x))^2 = (a_0 + a_1 x)^2 = a_0^2 + 2 a_0 a_1 x + a_1^2 \\\\\n",
    "t(x) &= (b(x))^2 = (b_0 + b_1 x)^2 = b_0^2 + 2 b_0 b_1 x + b_1^2\n",
    "\\end{aligned}\n",
    "\\end{equation}\n",
    "Inserting the limits $[a,b] = [0,1]$ gives for our derivative:\n",
    "$$\n",
    "p'(x) = (x-0) s(x) + (1-x) t(x) = x(s(x)-t(x)) + t(x)\n",
    "$$\n",
    "Inserting $s(x), t(x)$ and simplifying gives:\n",
    "$$\n",
    "p'(x) = b_0^2 + (a_0^2-b_0^2+2 b_0 b_1)x + (2 a_0 a_1 - 2 b_0 b_1 + b_1^2)x^2 + (a_1^2-b_1^2)x^3\n",
    "$$\n",
    "from which we construct our actual $p(x)$ by finding the antiderivative:\n",
    "$$\n",
    "p(x) = b_0^2 x + \\frac{a_0^2-b_0^2+2 b_0 b_1}{2} x^2 + \\frac{2 a_0 a_1 - 2 b_0 b_1 + b_1^2}{3} x^3 + \\frac{a_1^2-b_1^2}{4} x^4\n",
    "$$\n",
    "The integration constant was set to zero, since we already know $p_0 = 0$. We also already know $p_1 = b_0^2 = k$, so we have $b_0 = \\sqrt{k}$. Putting in our additional two constraints $p(1)=1, p'(1)=0$ gives:\n",
    "$$\n",
    "\\begin{aligned}\n",
    "1 &= k + \\frac{a_0^2-k+2 b_0 b_1}{2} + \\frac{2 a_0 a_1 - 2 b_0 b_1 + b_1^2}{3} + \\frac{a_1^2-b_1^2}{4} \\\\\n",
    "0 &= k +       a_0^2-k+2 b_0 b_1       +     2 a_0 a_1 - 2 b_0 b_1 + b_1^2     +       a_1^2-b_1^2\n",
    "\\end{aligned}\n",
    "$$\n",
    "where the 2nd line can be simplified to $(a_0 + a_1)^2 = 0$ which implies $a_0 = -a_1$. Putting this into the 1st line gives:\n",
    "$$\n",
    "1 = k + \\frac{a_0^2-k+2 b_0 b_1}{2} + \\frac{-2 a_0^2 - 2 b_0 b_1 + b_1^2}{3} + \\frac{a_0^2-b_1^2}{4}\n",
    "$$\n",
    "Solving this equation for $b_1$ gives:\n",
    "$$\n",
    "b_1 = -2 b_0 \\pm \\sqrt{12 - a_0^2 - 2k}\n",
    "$$\n",
    "This leaves us one free parameter $a_0^2$ - choosing a value for $a_0^2$ allows us to calculate everything else we need for our polynomial:\n",
    "$$\n",
    "b_0 = \\sqrt{k}, b_1 = -2 b_0 \\pm \\sqrt{12 - a_0^2 - 2k}, p_2 = \\frac{a_0^2-k+2 b_0 b_1}{2}, p_3 = \\frac{-2 a_0^2 - 2 b_0 b_1 + b_1^2}{3}, p_4 = \\frac{a_0^2-b_1^2}{4}\n",
    "$$\n",
    "We are still left with the question, how to choose $a_0^2$. In order for the square root to have a real result, we see that we need to have $k \\leq 6 - a_0^2/2$. This means, choosing $a_0^2 = 0$ gives us the greatest range for possible slopes at the origin $k$ - in this case, the slope can be chosen up to 6. Another interesting case is to set $p_2 = 0$. We get an additional equation $0 = a_0^2-k+2 b_0 b_1$ to solve along with the one which we formerly solved for $b_1$ - i.e. we solve now the 2 equstions for $b_1, a_0^2$ simultaneously. We get:\n",
    "$$\n",
    "c = \\sqrt{-6 k (k-2)}, a_0^2 = 3k \\pm 2c, b_1 = (-k \\pm c)/b_0\n",
    "$$\n",
    "The maximum allowed value for $k$ reduces to 2. Let's write Python functions to compute the polynomial coefficients for the general case and both special cases and test them. We use $k=1.8$, and $a_0^2=1$ for the general case:"
   ]
  },
  {
   "cell_type": "code",
   "execution_count": 32,
   "metadata": {
    "collapsed": false
   },
   "outputs": [
    {
     "data": {
      "text/plain": [
       "[<matplotlib.lines.Line2D at 0x880cb38>]"
      ]
     },
     "execution_count": 32,
     "metadata": {},
     "output_type": "execute_result"
    },
    {
     "data": {
      "image/png": "[encoded data removed]",
      "text/plain": [
       "<matplotlib.figure.Figure at 0x87647b8>"
      ]
     },
     "metadata": {},
     "output_type": "display_data"
    }
   ],
   "source": [
    "from numpy import *\n",
    "from matplotlib.pyplot import *\n",
    "%matplotlib inline\n",
    "\n",
    "def coeffs(k, a0sq):     # computes coeffcients for monotonic quartic polynomial\n",
    "    b0   = sqrt(k)\n",
    "    b1   = -2*b0 + sqrt(12-a0sq-2*k) # 2nd solution: ... -sqrt(...) gives turning points\n",
    "    p    = zeros(5)\n",
    "    p[4] = 0\n",
    "    p[3] = k\n",
    "    p[2] = (a0sq-k+2*b0*b1)/2\n",
    "    p[1] = (-2*a0sq-2*b0*b1+b1*b1)/3\n",
    "    p[0] = (a0sq-b1*b1)/4\n",
    "    return p\n",
    "    \n",
    "def coeffsNoA0(k):\n",
    "    b0   = sqrt(k)\n",
    "    b1   = -2*b0 + sqrt(12-2*k)\n",
    "    p    = zeros(5)\n",
    "    p[4] = 0\n",
    "    p[3] = k\n",
    "    p[2] = (-k+2*b0*b1)/2\n",
    "    p[1] = (-2*b0*b1+b1*b1)/3\n",
    "    p[0] = (-b1*b1)/4\n",
    "    return p\n",
    "    \n",
    "def coeffsNoP2(k):\n",
    "    b0   = sqrt(k)\n",
    "    c    = sqrt(-6*k*(k-2))\n",
    "    a0sq = 3*k + 2*c                    # or: a0sq = 3*k - 2*c\n",
    "    b1   = (-k - c)/b0                  #     b1   = (-k + c)/b0\n",
    "    #b1   = -2*b0 + sqrt(12-a0sq-2*k)   # with + sqrt, it rises more quickly\n",
    "    p    = zeros(5)\n",
    "    p[4] = 0\n",
    "    p[3] = k\n",
    "    p[2] = (a0sq-k+2*b0*b1)/2  # should be 0\n",
    "    p[1] = (-2*a0sq-2*b0*b1+b1*b1)/3\n",
    "    p[0] = (a0sq-b1*b1)/4\n",
    "    return p\n",
    "\n",
    "N = 201\n",
    "x = linspace(0.0, 1.0, N)     # x-axis values\n",
    "k = 1.8\n",
    "\n",
    "p = coeffsNoA0(k)\n",
    "y = polyval(p, x)\n",
    "plot(x, y)\n",
    "\n",
    "p = coeffsNoP2(k)\n",
    "y = polyval(p, x)\n",
    "plot(x, y)\n",
    "\n",
    "p = coeffs(k, 1)\n",
    "y = polyval(p, x)\n",
    "plot(x, y)"
   ]
  },
  {
   "cell_type": "markdown",
   "metadata": {},
   "source": [
    "## Putting the Quartic to Use"
   ]
  },
  {
   "cell_type": "markdown",
   "metadata": {},
   "source": [
    "We demonstrate the use of the function as saturation function with adjustable saturation level $k$. At k=1.8, the function reaches its saturating value."
   ]
  },
  {
   "cell_type": "code",
   "execution_count": 2,
   "metadata": {
    "collapsed": false
   },
   "outputs": [
    {
     "data": {
      "text/plain": [
       "[<matplotlib.lines.Line2D at 0x6d4af28>]"
      ]
     },
     "execution_count": 2,
     "metadata": {},
     "output_type": "execute_result"
    },
    {
     "data": {
      "image/png": "[encoded data removed]",
      "text/plain": [
       "<matplotlib.figure.Figure at 0x4df07b8>"
      ]
     },
     "metadata": {},
     "output_type": "display_data"
    }
   ],
   "source": [
    "x = linspace(0.0, 2.0, N)\n",
    "y = polyval(p, x/k)\n",
    "plot(x, y)"
   ]
  },
  {
   "cell_type": "markdown",
   "metadata": {},
   "source": [
    "By dividing the input x to the polynomial by k, we achieve unit slope at the origin and move the saturating value from 1 to k."
   ]
  }
 ],
 "metadata": {
  "kernelspec": {
   "display_name": "Python 3",
   "language": "python",
   "name": "python3"
  },
  "language_info": {
   "codemirror_mode": {
    "name": "ipython",
    "version": 3
   },
   "file_extension": ".py",
   "mimetype": "text/x-python",
   "name": "python",
   "nbconvert_exporter": "python",
   "pygments_lexer": "ipython3",
   "version": "3.4.3"
  }
 },
 "nbformat": 4,
 "nbformat_minor": 0
}
