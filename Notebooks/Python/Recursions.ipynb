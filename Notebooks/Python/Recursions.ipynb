{
 "cells": [
  {
   "cell_type": "code",
   "execution_count": 35,
   "metadata": {},
   "outputs": [
    {
     "data": {
      "text/plain": [
       "[0, 1, 2, 6, 24, 120, 720, 5040, 40320, 362880]"
      ]
     },
     "execution_count": 35,
     "metadata": {},
     "output_type": "execute_result"
    }
   ],
   "source": [
    "#1234567890123456789012345678901234567890123456789012345678901234567890123456789\n",
    "\n",
    "# recursion that simulates a while loop\n",
    "# p: predicate that implements the loop condition\n",
    "# f: function that advances data from one iteration to the next\n",
    "# x: value/tuple encoding data that is used inside the loop\n",
    "def rwhile(p, f, x):\n",
    "    #print(x);\n",
    "    if p(x):\n",
    "        return rwhile(p, f, f(x))\n",
    "    else:\n",
    "        return x\n",
    "    \n",
    "# uses rwhile to compute the factorial via a simulated while-loop - for technical\n",
    "# reasons, it must operate on tuples containing the factorial computed so far and \n",
    "# the loop variable:\n",
    "def factorial_help(n):\n",
    "    return rwhile(lambda t: t[0] > 1, lambda t: (t[0]-1, t[1]*(t[0]-1)), (n,n))\n",
    "\n",
    "# uses factorial_help to get the factorial together with the loop variable as \n",
    "# tuple and just extracts the actual factorial value:\n",
    "def factorial(n):\n",
    "    return factorial_help(n)[1]\n",
    "\n",
    "# Test produces [0, 1, 2, 6, 24, 120, 720, 5040, 40320, 362880]:\n",
    "[factorial(i) for i in range(0,10)]"
   ]
  },
  {
   "cell_type": "code",
   "execution_count": null,
   "metadata": {
    "collapsed": true
   },
   "outputs": [],
   "source": []
  }
 ],
 "metadata": {
  "kernelspec": {
   "display_name": "Python 3",
   "language": "python",
   "name": "python3"
  },
  "language_info": {
   "codemirror_mode": {
    "name": "ipython",
    "version": 3
   },
   "file_extension": ".py",
   "mimetype": "text/x-python",
   "name": "python",
   "nbconvert_exporter": "python",
   "pygments_lexer": "ipython3",
   "version": "3.4.3"
  }
 },
 "nbformat": 4,
 "nbformat_minor": 2
}
