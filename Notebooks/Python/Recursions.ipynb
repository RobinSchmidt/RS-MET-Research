{
 "cells": [
  {
   "cell_type": "code",
   "execution_count": null,
   "metadata": {
    "collapsed": true
   },
   "outputs": [],
   "source": [
    "# recursion that simulates a while loop - \n",
    "# p: predicate, f: function, x: value\n",
    "def rwhile(p, f, x):\n",
    "    if p(x):\n",
    "        return rwhile(p, f, f(x))\n",
    "    else:\n",
    "        return x\n",
    "    \n",
    "# use rwhile to compute the factorial via a simulated while-loop:\n",
    "def factorial(n):\n",
    "    return rwhile(lambda t: t[0] >= 1, lambda t: (t[0]-1, t[1]*(t[1]-1)), (n,n) )\n",
    "\n",
    "\n",
    "    \n",
    "    \n",
    "    "
   ]
  }
 ],
 "metadata": {
  "kernelspec": {
   "display_name": "Python 3",
   "language": "python",
   "name": "python3"
  },
  "language_info": {
   "codemirror_mode": {
    "name": "ipython",
    "version": 3
   },
   "file_extension": ".py",
   "mimetype": "text/x-python",
   "name": "python",
   "nbconvert_exporter": "python",
   "pygments_lexer": "ipython3",
   "version": "3.4.3"
  }
 },
 "nbformat": 4,
 "nbformat_minor": 2
}
