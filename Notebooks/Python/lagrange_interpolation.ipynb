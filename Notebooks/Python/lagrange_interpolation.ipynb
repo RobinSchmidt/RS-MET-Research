{
 "cells": [
  {
   "cell_type": "markdown",
   "metadata": {},
   "source": [
    "# Lagrange Interpolation"
   ]
  },
  {
   "cell_type": "markdown",
   "metadata": {},
   "source": [
    "If we are given $N+1$ datapoints $(x_0, y_0), \\ldots, (x_N, y_N)$, we may fit a unique $N$th order polynomial:\n",
    "$$\n",
    "p(x) = \\sum_{n=0}^N a_n x^n\n",
    "$$\n",
    "through these points by solving the linear system of equations:\n",
    "$$\n",
    "\\begin{aligned}\n",
    "a_0 + a_1 x_0 + a_2 x_0^2 + \\ldots + a_N x_0^N &= y_0 \\\\\n",
    "a_0 + a_1 x_1 + a_2 x_1^2 + \\ldots + a_N x_1^N &= y_1 \\\\\n",
    "\\vdots \\\\\n",
    "a_0 + a_1 x_N + a_2 x_N^2 + \\ldots + a_N x_N^N &= y_N\n",
    "\\end{aligned}\n",
    "$$\n",
    "or, expressed in matrix notation:\n",
    "$$\n",
    "\\begin{pmatrix}\n",
    "1      & x_0    & x_0^2  & \\cdots & x_0^N  \\\\\n",
    "1      & x_1    & x_1^2  & \\cdots & x_1^N  \\\\\n",
    "\\vdots & \\vdots & \\vdots & \\vdots & \\vdots \\\\\n",
    "1      & x_N    & x_N^2  & \\cdots & x_N^N\n",
    "\\end{pmatrix}\n",
    "\\begin{pmatrix}\n",
    "a_0    \\\\\n",
    "a_1    \\\\\n",
    "\\vdots \\\\\n",
    "a_N\n",
    "\\end{pmatrix}\n",
    "= \n",
    "\\begin{pmatrix}\n",
    "y_0    \\\\\n",
    "y_1    \\\\\n",
    "\\vdots \\\\\n",
    "y_N\n",
    "\\end{pmatrix}\n",
    "$$\n",
    "The matrix containing the powers of $x$ is often called Vandermonde matrix. Let's examine an example where we want to find a 3rd order interpolant that passes through sample values given at $x_0 = -1, x_1 = 0, x_2 = 1, x_3 = 2$ as $y_0 = 1, y_1 = 2, y_2 = -1, y_3 = 1$. In order to use the matrix equation directly, we will have to establish the Vandermonde matrix from the $x$-values, take the $y$-values as right hand side vector and invoke a linear system solver to find our vector of polynomial coefficients. Let's write some python code for that:"
   ]
  },
  {
   "cell_type": "code",
   "execution_count": 1,
   "metadata": {
    "collapsed": false
   },
   "outputs": [],
   "source": [
    "from numpy import *\n",
    "\n",
    "def intpoly1(x, y):             # computes polynomial interpolation coefficients\n",
    "    N = len(x)                  # supposed to be the same as len(y)\n",
    "    v = zeros((N, N))           # allocate Vandermonde matrix\n",
    "    for i in range(0, N):\n",
    "        for j in range(0, N):\n",
    "            v[i, j] = x[i]**j   # values of Vandermode matrix\n",
    "    a = linalg.solve(v, y)      # solve the linear system\n",
    "    return a\n",
    "        \n",
    "x = array([-1, 0,  1, 2])       # example x-values\n",
    "y = array([ 1, 2, -1, 1])       # example y-values\n",
    "a = intpoly1(x, y)"
   ]
  },
  {
   "cell_type": "markdown",
   "metadata": {},
   "source": [
    "Our vector $a$ now contains the coefficients for the interpolating polynomial - let's use them to produce a densely sampled (pseudo-continuous) interpolated function plot which also show the original datapoints:"
   ]
  },
  {
   "cell_type": "code",
   "execution_count": 2,
   "metadata": {
    "collapsed": false
   },
   "outputs": [
    {
     "data": {
      "text/plain": [
       "<matplotlib.collections.PathCollection at 0x6f32550>"
      ]
     },
     "execution_count": 2,
     "metadata": {},
     "output_type": "execute_result"
    },
    {
     "data": {
      "image/png": "[encoded data removed]",
      "text/plain": [
       "<matplotlib.figure.Figure at 0x5493080>"
      ]
     },
     "metadata": {},
     "output_type": "display_data"
    }
   ],
   "source": [
    "from matplotlib.pyplot import *\n",
    "%matplotlib inline\n",
    "\n",
    "Np = 201\n",
    "xp = linspace(-1.5, 2.5, Np)     # x-axis values\n",
    "yp = zeros(Np)\n",
    "for i in range(0, Np):\n",
    "    yp[i] = a[0] + a[1]*xp[i] + a[2]*xp[i]**2 + a[3]*xp[i]**3\n",
    "plot(xp, yp)\n",
    "scatter(x, y)"
   ]
  },
  {
   "cell_type": "markdown",
   "metadata": {},
   "source": [
    "As we can see, the interpolating function passes through our datapoints, as it should be. Throwing a general linear system solver such as Gaussian elimination at the system will require memory of order $\\mathcal{O}(N^2)$ for storing the matrix and computation time of order $\\mathcal{O}(N^3)$ for the execution of the elimination algorithm. A more efficient approach can be found by considering the Lagrange interpolation formula, which is given by:\n",
    "$$\n",
    "p(x) = \\sum_{n=0}^N y_n \\prod_{k=0, k\\neq n}^{N} \\frac{x - x_k}{x_n - x_k}\n",
    "$$\n",
    "As it stands, the formula only allows us to produce interpolated function values at arbitrary abscissa values - it doesn't really tell us much about the polynomial coefficients $a_n$. We may, however, derive an algorithm for obtaining these coefficients from the formula. We see that the formula computes a weighted sum of products. The products themselves are $N$th order polynomials in product form, i.e. expressed as product of differences between the $x$-value and the roots of the polynomial. The denominators are actually just numbers that can be computed by a multiplicative accumulation in a loop over $k$. The numerators are polynomials of order $N$ which may also be computed by multiplicative accumulation loop - just that in this case, we need to use polynomial multiplication - which is convolution. We can accumulate numerator and denominator inside the same loop. To perform the sum, we would wrap an outer loop over $n$ around the $k$-loop. This outer loop performs an additive weighted accumulation of the actual polynomial coefficients. The overall algorithm could look like:"
   ]
  },
  {
   "cell_type": "code",
   "execution_count": 3,
   "metadata": {
    "collapsed": false
   },
   "outputs": [],
   "source": [
    "def intpoly2(x, y):\n",
    "    N = len(x)                  # supposed to be the same as len(y)\n",
    "    a = zeros(N)                # allocate Vandermonde matrix\n",
    "    for n in range(0, N):\n",
    "        num = 1\n",
    "        den = 1        \n",
    "        for k in range(0, N):\n",
    "            if k != n:\n",
    "                num  = convolve(num, [-x[k], 1])\n",
    "                den *= (x[n] - x[k])\n",
    "        a += (y[n]/den) * num\n",
    "    return a"
   ]
  },
  {
   "cell_type": "markdown",
   "metadata": {},
   "source": [
    "Note that the accumulative convolution just convolves with a $1$st order polynomial at a time, so it's not as expensive as it may look at first. Perhaps a specifically optimized function that multiplies a polynomial by a monomial could be used for that in production code. This function computes the same vector of polynomial coefficients without allocating a matrix and without invoking a linear system solver. It uses only $\\mathcal{O}(N)$ of memory and $\\mathcal{O}(N^2)$ of time. Let's verify that the algorithm actually computes the correct coefficients for our example:"
   ]
  },
  {
   "cell_type": "code",
   "execution_count": 4,
   "metadata": {
    "collapsed": false
   },
   "outputs": [
    {
     "name": "stdout",
     "output_type": "stream",
     "text": [
      "[ 2.  -2.5 -2.   1.5]\n",
      "[ 2.  -2.5 -2.   1.5]\n"
     ]
    }
   ],
   "source": [
    "a2 = intpoly2(x, y)\n",
    "print(a)\n",
    "print(a2)"
   ]
  },
  {
   "cell_type": "markdown",
   "metadata": {},
   "source": [
    "Yep - it seems to work.\n",
    "\n",
    "In some applications, the $x$-values are fixed but we get a lot of different $y$-values. In this case, it makes sense to precompute all the basis polynomials (the products inside the sum) such that only the outer loop (the sum over $n$) has to be performed to obtain different coefficient vectors. The <code>lagpolys</code> function precomputes The Lagrange basis polynomials defined as:\n",
    "$$\n",
    "L_{nk}(x) = \\prod_{k=0, k\\neq n}^{N} \\frac{x - x_k}{x_n - x_k}\n",
    "$$\n",
    "and stores them in a matrix for later use:"
   ]
  },
  {
   "cell_type": "code",
   "execution_count": 5,
   "metadata": {
    "collapsed": false
   },
   "outputs": [
    {
     "name": "stdout",
     "output_type": "stream",
     "text": [
      "[ 2.  -2.5 -2.   1.5]\n",
      "[[-0.         -0.33333333  0.5        -0.16666667]\n",
      " [ 1.         -0.5        -1.          0.5       ]\n",
      " [-0.          1.          0.5        -0.5       ]\n",
      " [ 0.         -0.16666667  0.          0.16666667]]\n"
     ]
    }
   ],
   "source": [
    "def diffprod(x, n):        # product of differences x[n]-x[k] for all k!=n\n",
    "    p = 1\n",
    "    for k in range(0, len(x)):\n",
    "        if k != n:\n",
    "            p *= x[n]-x[k]\n",
    "    return p\n",
    "\n",
    "def lagpoly(x, n):         # n-th Lagrange basis polynomial\n",
    "    p = 1\n",
    "    for k in range(0, len(x)):\n",
    "        if k != n:\n",
    "            p = convolve(p, [-x[k], 1])\n",
    "    return p / diffprod(x, n)\n",
    "\n",
    "def lagpolys(x):           # matrix of all Lagrange basis polynomials\n",
    "    N = len(x)\n",
    "    L = zeros((N, N))\n",
    "    for n in range(0, N):\n",
    "        L[n, :] = lagpoly(x, n)\n",
    "    return L\n",
    "\n",
    "\n",
    "L  = lagpolys(x)           # precompute Lagrange basis polynomials\n",
    "a3 = zeros(4)\n",
    "for n in range(0, 4):\n",
    "    a3 += y[n] * L[n, :]   # construct interpolating polynomial\n",
    "print(a3)                  # verify that the result is correct\n",
    "print(L)                   # print the basis polynomials"
   ]
  },
  {
   "cell_type": "markdown",
   "metadata": {},
   "source": [
    "As another optimization, we could note that we have to perform $n$ polynomial products where for each $n$ we just leave out one single linear factor (the $k=n$ case). Instead of recomputing the product each time (for each $n$) from scratch, we might compute the product with the $k=n$ case included and then divide out one $x - x_k$ factor at a time. That would replace the repeated convolutions (polynomial multiplications) with a single deconvolution (polynomial division) for each $n$. Unfortunately, that doesn't seem to work - why?"
   ]
  },
  {
   "cell_type": "code",
   "execution_count": 6,
   "metadata": {
    "collapsed": false
   },
   "outputs": [
    {
     "name": "stdout",
     "output_type": "stream",
     "text": [
      "[[-0.         -0.33333333  0.5        -0.16666667]\n",
      " [        nan         nan         nan         nan]\n",
      " [ 0.          1.          0.5        -0.5       ]\n",
      " [-0.         -0.16666667 -0.          0.16666667]]\n"
     ]
    },
    {
     "name": "stderr",
     "output_type": "stream",
     "text": [
      "C:\\Users\\Rob\\Anaconda3\\lib\\site-packages\\numpy\\lib\\polynomial.py:892: RuntimeWarning: divide by zero encountered in double_scalars\n",
      "  scale = 1. / v[0]\n",
      "C:\\Users\\Rob\\Anaconda3\\lib\\site-packages\\numpy\\lib\\polynomial.py:896: RuntimeWarning: invalid value encountered in double_scalars\n",
      "  d = scale * r[k]\n"
     ]
    }
   ],
   "source": [
    "def lagpolys2(x):\n",
    "    N = len(x)\n",
    "    L = zeros((N, N))      \n",
    "    p = 1\n",
    "    for k in range(0, N):\n",
    "        p = convolve(p, [-x[k], 1])     # master polynomial\n",
    "    for n in range(0, N):\n",
    "        q, r = polydiv(p, [-x[n], 1])   # divide out single factor at a time\n",
    "        L[n, :] = q / diffprod(x, n)   \n",
    "    return L\n",
    "\n",
    "L2 = lagpolys2(x)\n",
    "print(L2)"
   ]
  }
 ],
 "metadata": {
  "kernelspec": {
   "display_name": "Python 3",
   "language": "python",
   "name": "python3"
  },
  "language_info": {
   "codemirror_mode": {
    "name": "ipython",
    "version": 3
   },
   "file_extension": ".py",
   "mimetype": "text/x-python",
   "name": "python",
   "nbconvert_exporter": "python",
   "pygments_lexer": "ipython3",
   "version": "3.4.3"
  }
 },
 "nbformat": 4,
 "nbformat_minor": 0
}
