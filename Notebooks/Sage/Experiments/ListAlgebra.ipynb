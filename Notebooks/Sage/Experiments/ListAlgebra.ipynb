{
 "cells": [
  {
   "cell_type": "markdown",
   "metadata": {},
   "source": [
    "We define various operations on lists of modular integers with the goal to etablish one of the known algebraic structures (ideally, a field) in which the elements are lists. In order to be a field, we need to define an addition and a multiplication operation on lists that satisfy certain rules (associativity, distributivity, commutativity (for addition), ...)"
   ]
  },
  {
   "cell_type": "code",
   "execution_count": null,
   "metadata": {},
   "outputs": [],
   "source": [
    "def truncateTrailingZeros(L):\n",
    "    while len(L) > 0 and L[len(L)-1] == 0:\n",
    "        L = L[0:len(L)-2]\n",
    "    return L\n",
    "\n",
    "# element-wise modular addition, the shorter list is treated as if \n",
    "# it's zero-padded to match the length of the longer, trailing zeros of\n",
    "# the result are chopped off,\n",
    "# neutral elements would be all lists that have only zero elements \n",
    "# (including the empty list) ...hmm...but the neutral element is \n",
    "# supposed to be unique\n",
    "def op1(a, b, m):        # a, b: the two lists, m: modulus\n",
    "    if len(a) > len(b):\n",
    "        L, S = a, b      # L: longer list, S: shorter list\n",
    "    else:\n",
    "        L, S = b, a\n",
    "    R = L                # R: result\n",
    "    for i in range(len(b)):\n",
    "        R[i] = (R[i]+b[i]) % m\n",
    "    return truncateTrailingZeros(R)"
   ]
  }
 ],
 "metadata": {
  "kernelspec": {
   "display_name": "Python 2",
   "language": "python",
   "name": "python2"
  },
  "language_info": {
   "codemirror_mode": {
    "name": "ipython",
    "version": 2
   },
   "file_extension": ".py",
   "mimetype": "text/x-python",
   "name": "python",
   "nbconvert_exporter": "python",
   "pygments_lexer": "ipython2",
   "version": "2.7.15"
  }
 },
 "nbformat": 4,
 "nbformat_minor": 2
}
