{
 "cells": [
  {
   "cell_type": "markdown",
   "metadata": {},
   "source": [
    "This video has a method of creating all possible Pythagorean triples:  \n",
    "https://www.youtube.com/watch?v=QJYmyhnaaek  \n",
    "These are related to rational points on the unit circle - maybe these rational points can be used to implement a recursive oscillator based on rational numbers? Like a filter with a pole pair on the unit circle but operating entirely on rational numbers? Maybe like `zNew = a*zOld` where a,z are rational complex numbers both on the unit circle.\n",
    "- maybe then looking only at the numerator and/or denominator gives interesting patterns?  \n",
    "- or maybe we can also apply a modulo operation on the num or den or mangle them in other ways?  \n",
    "- maybe use two oscillators with different frequencies and somehow mangle the \n",
    " numerators/denominators of both with a formula to produce a final output \n",
    " ...like y = (den(x1) + den(x2)) mod num(x1) ...or whatever  "
   ]
  },
  {
   "cell_type": "code",
   "execution_count": 45,
   "metadata": {},
   "outputs": [
    {
     "data": {
      "text/plain": [
       "[1,\n",
       " 4/5*I - 3/5,\n",
       " -24/25*I - 7/25,\n",
       " 44/125*I + 117/125,\n",
       " 336/625*I - 527/625,\n",
       " -3116/3125*I + 237/3125,\n",
       " 10296/15625*I + 11753/15625,\n",
       " 16124/78125*I - 76443/78125,\n",
       " -354144/390625*I + 164833/390625,\n",
       " 1721764/1953125*I + 922077/1953125,\n",
       " -1476984/9765625*I - 9653287/9765625]"
      ]
     },
     "execution_count": 45,
     "metadata": {},
     "output_type": "execute_result"
    }
   ],
   "source": [
    "#from __future__ import print_function, division\n",
    "#from fractions import Fraction\n",
    "#from math import sqrt\n",
    "\n",
    "z  = 1 + 2*I # the complex number, we base our Pythogrean triple on\n",
    "z2 = z**2\n",
    "a  = real(z2)\n",
    "b  = imag(z2)\n",
    "c2 = a*a + b*b\n",
    "c  = sqrt(c2)\n",
    "k  = a/c + I*b/c  # recursion coefficient\n",
    "\n",
    "a, b, c, k # print the triple and filter coeff\n",
    "\n",
    "# now re-use the name z for the rotating phasor:\n",
    "z = 1    # initial position of the phasor\n",
    "N = 10   # number of iterations\n",
    "y = [z]\n",
    "for i in range(N):\n",
    "    z = k*z\n",
    "    y.append(z)\n",
    "\n",
    "y\n",
    "\n",
    "# damn! the numerators and denominators blow up in size, so this \n",
    "# is not useful :'-(\n",
    "\n",
    "# but it is a useful machine to generate rational points on the unit\n",
    "# circle that may be useful for unit test of filters, for example:\n",
    "\n",
    "# 1+2i ->  0.8  +  0.6i\n",
    "# 1+7i -> 0.96  + 0.28i\n",
    "# 2+4i -> 0.352 + 0.936 # appears in line 44/125 - but we may use all lines\n",
    "\n",
    "# We actually only want those fractions that have a finite and short \n",
    "# decimal expansion ...maybe it would be interesting to know which points\n",
    "# on the unit circle have a finte and short binary expansion - using these\n",
    "# in a recursive implementation would avoid rounding errors...or would it?\n",
    "\n",
    "\n"
   ]
  },
  {
   "cell_type": "code",
   "execution_count": null,
   "metadata": {},
   "outputs": [],
   "source": []
  }
 ],
 "metadata": {
  "kernelspec": {
   "display_name": "SageMath 8.4",
   "language": "",
   "name": "sagemath"
  },
  "language_info": {
   "codemirror_mode": {
    "name": "ipython",
    "version": 2
   },
   "file_extension": ".py",
   "mimetype": "text/x-python",
   "name": "python",
   "nbconvert_exporter": "python",
   "pygments_lexer": "ipython2",
   "version": "2.7.15"
  }
 },
 "nbformat": 4,
 "nbformat_minor": 2
}
