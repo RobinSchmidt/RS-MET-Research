{
 "cells": [
  {
   "cell_type": "markdown",
   "metadata": {},
   "source": [
    "We want to find an algebraic operation op(x,y) between two numbers that is in between addition \n",
    "and multiplication:  \n",
    "\n",
    "-should be parametrized by a parameter p, such that  op(x,y,p) = x+y if p==0 and x*y if p == 1  \n",
    "-op(x,y,p) should be associative and commutative for any value of p  \n",
    "-the landscape z = op(x,y) above the xy-plane must include z(x,0)=x, z(0,y)=y for p=0 and z(x,0)=0, (0,y)=0 for p=1  \n",
    "\n",
    "-consider the special case: x=y:  \n",
    " op(x,x,0) = x+x = 2 x, op(x,x,1) = x x = x^2  \n",
    " we see that for p=0, we get the derivative of the function for p=1\n",
    " -maybe that calls for defining the operation such that when x=y, the p-th fractional derivative results? ..but how to do that?  \n",
    " \n",
    "-maybe the definition should involve the half-derivative with respect to x followed by the half-derivative with respect to y, such that when x=y we get the full derivative with respect to x or y? ...or maybe the p-th derivative with respect to x followed by the (1-p)th derivative with respect to y...or vice versa?\n",
    "-let q = 1-p,  maybe for x=y, we should have:  \n",
    " op(x,x) = f(x) = d^p/dx^p( d^q/dx^q (x^2)) where d^p/dx^p means: take p-th derivative with respect to x...generalize to:  \n",
    " op(x,x) = f(x,y) = d^p/dx^p( d^q/dy^q (x y)) ...or maybe swap p,q or x,y?  \n",
    " ..try it with x=y and p=0.5  \n",
    " or: let q=1-p, r=q/2, f(x,y) = d^r/dx^r ( d^r/dy^r (x y))   \n",
    " ...so the basic function is x*y and we may take partial fractional derivatives according to the parameter p:  \n",
    " for p=1, we have r=0 and the derivatives vanish and we have x y, for p=0, we have r=1/2, so we have half-derivatives with respect to x and y, and when then x=y, we have the full derivative with repect to x (or y)...what do we get when x=0 - we should get y  \n",
    " \n",
    "https://en.wikipedia.org/wiki/Fractional_calculus  \n",
    "https://math.stackexchange.com/questions/1269643/continuum-between-addition-multiplication-and-exponentiation  \n",
    "https://www.quora.com/Is-there-any-partial-arithmetic-operation-between-addition-and-multiplication-between-multiplication-and-exponentiation-or-between-exponentiation-and-tetration-etc  \n",
    "https://en.wikipedia.org/wiki/Hyperoperation#Commutative_hyperoperations  \n",
    "https://www.jstor.org/stable/2007124?seq=1#metadata_info_tab_contents  "
   ]
  },
  {
   "cell_type": "markdown",
   "metadata": {},
   "source": [
    "Ok - as a first candidate, let's consider the following definition - let $q=1-p, r=q/2$:  \n",
    "\n",
    "$f(x,y) = \\frac{\\partial^r}{\\partial x^r} \\left( \\frac{\\partial^r}{\\partial y^r} (x y) \\right)$  \n",
    "\n",
    "if $p=1$, we have $q=0$ and so $r=0$, so the $r-th$ (fractional) derivatives vanish and we are left with $x y$. Check. If $p=0$, we have $q=1$ and so $r=1/2$, so we have half-derivatives with respect to $x$ and $y$. If now $x=y$, we get the full derivative of $x^2$ which is $2 x$. Check. Now we want to check, what happens when $x \\neq y$. We want to end up with $f_p(x,y) = x+y$ where we use the index $p$ to denote that $f$ is a $p$-paramterized function of $x$ and $y$. We now really have to evaluate the partial half-derivatives with respect to $x$ and $y$ because they do not combine to a single full-derivative with respect to a single variable anymore. ...now it will get hairy...\n",
    "\n",
    "The $r$-th fractional derivative of a function $f(x)$ is defined as:  \n",
    "\n",
    "$\\frac{d^r}{dx^r} f(x) = \\frac{1}{\\Gamma(r)} \\int_0^x (x-t)^{r-1} \\; f(t) \\; dt$\n",
    "\n",
    "see: https://en.wikipedia.org/wiki/Fractional_calculus. Let's see, if sage can evaluate this integral for some simple function $f(x) = y x$ where $y$ is a considered a constant in this case."
   ]
  },
  {
   "cell_type": "code",
   "execution_count": 7,
   "metadata": {},
   "outputs": [
    {
     "data": {
      "text/plain": [
       "x^(r + 1)*y/((r + 1)*r*gamma(r))"
      ]
     },
     "execution_count": 7,
     "metadata": {},
     "output_type": "execute_result"
    }
   ],
   "source": [
    "var(\"x y t r\")\n",
    "f(t,y) = t*y  # y is a constant, for the time being, x will be used as integration limit\n",
    "assume(x>0)\n",
    "assume(r>0)\n",
    "F = (1/gamma(r)) * integral((x-t)^(r-1) * f(t), t, 0, x)\n",
    "F"
   ]
  },
  {
   "cell_type": "markdown",
   "metadata": {},
   "source": [
    "OK - this seems to work. ..wait - is this really the regular derivative, when r=1? we seem to get soemthing with x^2 - which looks more like an integral. it should be just y. when r=1, the factor (x-t)^(r-1) becomes 1 and we just integrate f(t) from 0 to x. this is an integral! how is this a derivative?! is the definition on wikipedia wrong? see this video which seems to use a different definition:\n",
    "\n",
    "https://www.youtube.com/watch?v=eB3OUl5TVSY   \n",
    "https://www.youtube.com/playlist?list=PLJb1qAQIrmmB_ma3YrfuOXTPOQawokYV_  \n",
    "\n",
    "maybe use the definition at 5:30 here:\n",
    "https://www.youtube.com/watch?v=gaAhCTDc6oA&list=PLJb1qAQIrmmB_ma3YrfuOXTPOQawokYV_  \n",
    "...there are actually no integrals involved! we just need the gamma function\n",
    "\n",
    "see here for other definitions of fractional derivatives:  \n",
    "https://www.hindawi.com/journals/mpe/2014/238459/  \n",
    "https://www.sciencedirect.com/science/article/pii/S0377042714000065  \n",
    "there are actually many different definitions of frcational derivatives? which one should we pick? i think, the one from the peyam video looks most suitable.\n",
    "\n",
    "\n",
    "Now for the definition of the partial fractional derivatives..\n",
    "\n",
    "$f(x,y) = \\frac{\\partial^r}{\\partial x^r} \\left( \\frac{\\partial^r}{\\partial y^r} (x y) \\right)  \n",
    " = \\frac{1}{(\\Gamma(r))^2} \\int_0^x (x-s)^{r-1} \\; \\left( \\int_0^y (y-t)^{r-1} \\; (st) \\; dt \\right) \\; ds $  \n",
    " \n",
    " ...is this correct?"
   ]
  },
  {
   "cell_type": "code",
   "execution_count": 19,
   "metadata": {},
   "outputs": [
    {
     "data": {
      "text/plain": [
       "x^(r + 1)*y^(r + 1)/((r + 1)^2*r^2*gamma(r)^2)"
      ]
     },
     "execution_count": 19,
     "metadata": {},
     "output_type": "execute_result"
    }
   ],
   "source": [
    "var(\"x y s t r\")\n",
    "#f(s,t) = s*t\n",
    "assume(x>0)\n",
    "assume(y>0)\n",
    "assume(r>0)\n",
    "k = 1 / (gamma(r))^2\n",
    "inner = integral((y-t)^(r-1) * s*t, t, 0, y) \n",
    "# inner integral (with respect to y) - this is a function of s which in turn must be\n",
    "# integrated over s with x as upper limit\n",
    "outer = integral((x-s)^(r-1) * inner, s, 0, x)\n",
    "#inner, outer\n",
    "k * outer\n",
    "\n",
    "\n"
   ]
  },
  {
   "cell_type": "markdown",
   "metadata": {},
   "source": [
    "hmm...will this evaluate to 2x, if x=y and r=1/2? ...it doesn't look like it...something..seems wrong..what if r=0 - we should end up with f(x,y) = x*y...this seems to work, except for a factor...wait - no - we divide by zero!"
   ]
  },
  {
   "cell_type": "code",
   "execution_count": null,
   "metadata": {},
   "outputs": [],
   "source": []
  }
 ],
 "metadata": {
  "kernelspec": {
   "display_name": "SageMath 8.4",
   "language": "",
   "name": "sagemath"
  }
 },
 "nbformat": 4,
 "nbformat_minor": 2
}
