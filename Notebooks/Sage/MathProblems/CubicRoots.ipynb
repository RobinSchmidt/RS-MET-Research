{
 "cells": [
  {
   "cell_type": "code",
   "execution_count": 1,
   "metadata": {},
   "outputs": [
    {
     "data": {
      "text/plain": [
       "x |--> z^3 - 1/3*z*(b^2/a^2 - 3*c/a) + 2/27*b^3/a^3 - 1/3*b*c/a^2 + d/a"
      ]
     },
     "execution_count": 1,
     "metadata": {},
     "output_type": "execute_result"
    }
   ],
   "source": [
    "# Finding coefficients for the reduced cubic equation z^3 = p*z + q:\n",
    "reset()\n",
    "var(\"a b c d z\")             # declare symbolic variables\n",
    "f(x) = a*x^3 + b*x^2 + c*x + d  # define a symbolic function\n",
    "g = f.subs(x = z - b/(3*a))     # substitue z-b/(3*a) for x, removes x^2 term\n",
    "h = g/a                         # divide resulting expression by a\n",
    "h.collect(z)                    # collect terms with respect to z"
   ]
  },
  {
   "cell_type": "code",
   "execution_count": 2,
   "metadata": {},
   "outputs": [
    {
     "data": {
      "text/plain": [
       "[[x |--> 2/27*b^3/a^3 - 1/3*b*c/a^2 + d/a, x |--> 0],\n",
       " [x |--> -1/3*b^2/a^2 + c/a, x |--> 1],\n",
       " [x |--> 1, x |--> 3]]"
      ]
     },
     "execution_count": 2,
     "metadata": {},
     "output_type": "execute_result"
    }
   ],
   "source": [
    "# -p equals the z^1 coeff and -q the z^0 coeff, print coeffs only:\n",
    "h = h.collect(z)                # collect again, but this time re-assign h\n",
    "h.coefficients(z)               # gives coefficients for powers of z"
   ]
  },
  {
   "cell_type": "code",
   "execution_count": 3,
   "metadata": {},
   "outputs": [
    {
     "data": {
      "text/plain": [
       "[(-(b*x^2 + c*x + d)/x^3, 1)]"
      ]
     },
     "execution_count": 3,
     "metadata": {},
     "output_type": "execute_result"
    }
   ],
   "source": [
    "f.roots()                       # this actually produces the complex roots"
   ]
  },
  {
   "cell_type": "code",
   "execution_count": 4,
   "metadata": {},
   "outputs": [
    {
     "data": {
      "text/plain": [
       "x |--> a"
      ]
     },
     "execution_count": 4,
     "metadata": {},
     "output_type": "execute_result"
    }
   ],
   "source": [
    "f.coefficient(x^3)              # returns the leading coefficient (scale factor)"
   ]
  },
  {
   "cell_type": "code",
   "execution_count": null,
   "metadata": {},
   "outputs": [],
   "source": []
  }
 ],
 "metadata": {
  "kernelspec": {
   "display_name": "SageMath 8.4",
   "language": "",
   "name": "sagemath"
  },
  "language_info": {
   "codemirror_mode": {
    "name": "ipython",
    "version": 2
   },
   "file_extension": ".py",
   "mimetype": "text/x-python",
   "name": "python",
   "nbconvert_exporter": "python",
   "pygments_lexer": "ipython2",
   "version": "2.7.15"
  }
 },
 "nbformat": 4,
 "nbformat_minor": 2
}
