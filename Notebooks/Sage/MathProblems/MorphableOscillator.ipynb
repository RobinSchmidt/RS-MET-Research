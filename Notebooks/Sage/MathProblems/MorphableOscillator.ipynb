{
 "cells": [
  {
   "cell_type": "code",
   "execution_count": 24,
   "metadata": {},
   "outputs": [
    {
     "data": {
      "application/vnd.jupyter.widget-view+json": {
       "model_id": "6ffa35c3635b4ab7b070c718e9feff41",
       "version_major": 2,
       "version_minor": 0
      },
      "text/plain": [
       "SW50ZXJhY3RpdmUgZnVuY3Rpb24gPGZ1bmN0aW9uIG9zY1Rlc3QgYXQgMHg2ZmYyNzg1N2Q3MD4gd2l0aCAzIHdpZGdldHMKICBoOiBUcmFuc2Zvcm1GbG9hdFNsaWRlcih2YWx1ZT0wLjUsIGTigKY=\n"
      ]
     },
     "metadata": {},
     "output_type": "display_data"
    }
   ],
   "source": [
    "@interact\n",
    "def oscTest(h = slider( 0, 1, 0.1, 0.5), \n",
    "            s = slider(-2, 2, 0.1, 1),\n",
    "            d = slider(-12, 12, 0.1, 0)):\n",
    "    a1 = (s+d)/h           # correct (maybe up to a constant)\n",
    "    b1 = 1/(4*h) - a1*h/2  # normalizes singed area of 1st section to 1/4\n",
    "    a2 = (s-d)/h\n",
    "    b2 = -1/4*(2*a2*h^2 - 2*a2 - 1)/(h - 1)\n",
    "    y  = piecewise([ ((0,h),a1*x+b1), ((h,1),a2*x+b2) ])\n",
    "    p = plot(y(x), 0, 1)\n",
    "    #p.show()\n",
    "    \n",
    "# idea: have 3 user params (h (transition point), slope1, slope2) and 2 \n",
    "# constraints: signed area of 1st half-wave +1/4, 2nd: -1/4\n",
    "# slope1/2 directly determine a1/a2 "
   ]
  },
  {
   "cell_type": "markdown",
   "metadata": {},
   "source": [
    "a1, a2 are given from user params: a1 = (s+d)/h, a2 = (s-d)/h, where s is the desired average slope and d is the slope-difference between 1st and 2nd section. h is given as a user parameter anyway. What remains to calculate the two offsets b1,b2. To do this, we apply the following constraints:  \n",
    "(1)  no DC: integral over the waveform from 0 to 1 must be 0\n",
    "(2)  fixed energy: integral over the square of the waveform must have given value E"
   ]
  },
  {
   "cell_type": "code",
   "execution_count": 9,
   "metadata": {},
   "outputs": [
    {
     "data": {
      "text/plain": [
       "[[b1 == -1/6*(3*a1*h^2 + sqrt(3*(a1^2 - a2^2)*h^5 - 18*a2^2*h^3 - 3*(a1^2 - 4*a2^2)*h^4 + 3*(4*a2^2 - 1)*h^2 - 3*(a2^2 - 1)*h))/h, b2 == -1/6*(3*a2*h^2 - 3*a2 + sqrt(3*(a1^2 - a2^2)*h^5 - 18*a2^2*h^3 - 3*(a1^2 - 4*a2^2)*h^4 + 3*(4*a2^2 - 1)*h^2 - 3*(a2^2 - 1)*h))/(h - 1)], [b1 == -1/6*(3*a1*h^2 - sqrt(3*(a1^2 - a2^2)*h^5 - 18*a2^2*h^3 - 3*(a1^2 - 4*a2^2)*h^4 + 3*(4*a2^2 - 1)*h^2 - 3*(a2^2 - 1)*h))/h, b2 == -1/6*(3*a2*h^2 - 3*a2 - sqrt(3*(a1^2 - a2^2)*h^5 - 18*a2^2*h^3 - 3*(a1^2 - 4*a2^2)*h^4 + 3*(4*a2^2 - 1)*h^2 - 3*(a2^2 - 1)*h))/(h - 1)]]"
      ]
     },
     "execution_count": 9,
     "metadata": {},
     "output_type": "execute_result"
    }
   ],
   "source": [
    "var(\"x a1 b1 a2 b2 h E\")\n",
    "y1(x) = a1*x + b1  # 1st segment\n",
    "y2(x) = a2*x + b2  # 2nd segment\n",
    "A = integral( y1(x),    x, 0, h) + integral( y2(x),    x, h, 1) # signed area\n",
    "E = integral(abs(y1(x)), x, 0, h) + integral(abs(y2(x)), x, h, 1) # energy\n",
    "# gives:\n",
    "# A = 1/2*a1*h^2 - 1/2*a2*h^2 + b1*h - b2*h + 1/2*a2 + b2\n",
    "# E = 1/3*a1^2*h^3 - 1/3*a2^2*h^3 + a1*b1*h^2 - a2*b2*h^2 \n",
    "#     + b1^2*h - b2^2*h + 1/3*a2^2 + a2*b2 + b2^2\n",
    "# A should be zero (no DC) and E should be 1/2 (energy of saw-wave with\n",
    "# amplitude 1), so we get two equations and solve them for b1,b2:\n",
    "eq1 = 0   == 1/2*a1*h^2 - 1/2*a2*h^2 + b1*h - b2*h + 1/2*a2 + b2\n",
    "eq2 = 1/12 == 1/3*a1^2*h^3 - 1/3*a2^2*h^3 + a1*b1*h^2 - a2*b2*h^2 + b1^2*h - b2^2*h + 1/3*a2^2 + a2*b2 + b2^2\n",
    "solve([eq1,eq2],[b1,b2])\n",
    "# ok - this works - but the solutions are complicated and contain square roots"
   ]
  },
  {
   "cell_type": "code",
   "execution_count": 15,
   "metadata": {},
   "outputs": [
    {
     "data": {
      "text/plain": [
       "-1/6*(3*a1*h^2 + sqrt(3*(a1^2 - a2^2)*h^5 - 18*a2^2*h^3 - 3*(a1^2 - 4*a2^2)*h^4 + 6*(2*a2^2 - 3)*h^2 - 3*(a2^2 - 6)*h))/h"
      ]
     },
     "execution_count": 15,
     "metadata": {},
     "output_type": "execute_result"
    }
   ],
   "source": [
    "(-1/6*(3*a1*h^2 + sqrt(3*(a1^2 - a2^2)*h^5 - 18*a2^2*h^3 - 3*(a1^2 - 4*a2^2)*h^4 + 6*(2*a2^2 - 3)*h^2 - 3*(a2^2 - 6)*h))/h).full_simplify()"
   ]
  },
  {
   "cell_type": "code",
   "execution_count": null,
   "metadata": {},
   "outputs": [],
   "source": [
    "E = integral(abs(y1(x)), x, 0, h) + integral(abs(y2(x)), x, h, 1)\n",
    "eq1 = 0   == 1/2*a1*h^2 - 1/2*a2*h^2 + b1*h - b2*h + 1/2*a2 + b2\n",
    "eq2 = 1/2 == 1/2*(a1*h + b1)*abs(a1*h + b1)/a1 - 1/2*(a2*h + b2)*abs(a2*h + b2)/a2 + 1/2*(a2 + b2)*abs(a2 + b2)/a2 - 1/2*b1*abs(b1)/a1\n",
    "solve([eq1,eq2],[b1,b2])"
   ]
  },
  {
   "cell_type": "code",
   "execution_count": 8,
   "metadata": {},
   "outputs": [
    {
     "data": {
      "text/plain": [
       "1/12"
      ]
     },
     "execution_count": 8,
     "metadata": {},
     "output_type": "execute_result"
    }
   ],
   "source": [
    "#2 * integral(2*x, x, 0, 1/2) # energy of unit amplitude saw (wrong)\n",
    "2 * integral(x^2, x, 0, 1/2) # energy of unit amplitude saw"
   ]
  },
  {
   "cell_type": "code",
   "execution_count": null,
   "metadata": {},
   "outputs": [],
   "source": []
  }
 ],
 "metadata": {
  "kernelspec": {
   "display_name": "SageMath 8.4",
   "language": "",
   "name": "sagemath"
  },
  "language_info": {
   "codemirror_mode": {
    "name": "ipython",
    "version": 2
   },
   "file_extension": ".py",
   "mimetype": "text/x-python",
   "name": "python",
   "nbconvert_exporter": "python",
   "pygments_lexer": "ipython2",
   "version": "2.7.15"
  }
 },
 "nbformat": 4,
 "nbformat_minor": 2
}
