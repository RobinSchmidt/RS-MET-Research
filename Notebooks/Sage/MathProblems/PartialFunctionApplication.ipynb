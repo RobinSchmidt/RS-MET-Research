{
 "cells": [
  {
   "cell_type": "markdown",
   "metadata": {},
   "source": [
    "We want to find a way, how to apply a function $f(x)$ to an input $x$ $a$ times where $a$ can be any real number. We use the notation $f^1(x) = f(x)$, $f^2(x) = f(f(x))$, $f^3(x) = f(f(f(x)))$, etc. and we also want $f^{-1}(x)$ to mean the inverse function and $f^0(x) = x$ to mean the identity function. In general, we write $f^a(x)$. How could we define the function $f^a(x)$ in terms of $f(x)$ in a meaningful way? What would it mean to apply the function halfway, i.e. $a=1/2$? Let's look at a couple of simple functions, propose a rule, and verify that function inversion works out the way we want it to. Let's start by adding a constant $c$ to our input $x$:\n",
    "$$f(x) = x + c, \\; f^a(x) = x + a c \\rightarrow f^{-1}(x) = x -c$$\n",
    "Next, consider multiplying $x$ by a constant $c$:\n",
    "$$f(x) = c x, \\; f^a(x) = c^a x \\rightarrow f^{-1}(x) = c^{-1} x = x/c$$\n",
    "Next, we want to raise $x$ to the $c$-th power:\n",
    "$$f(x) = x^c, \\; f^a(x) = x^{c^a} \\rightarrow f^{-1}(x) = x^{c^{-1}} = x^{(1/c)}$$\n",
    "So with these definitions of $f^a(x)$ our inversion $f^{-1}(x)$ works out as desired. It can also be readily verified that setting $a=0$ gives the identity function in each case and setting $a=2$ corresponds to applying the function twice (really? ...verify that!). Now that we have rules for these simple functions, the idea is to generalize to arbitrary functions by applying these rules to the power series expansions of those functions.....t.b.c.....\n"
   ]
  },
  {
   "cell_type": "code",
   "execution_count": null,
   "metadata": {},
   "outputs": [],
   "source": []
  }
 ],
 "metadata": {
  "kernelspec": {
   "display_name": "SageMath 8.4",
   "language": "",
   "name": "sagemath"
  },
  "language_info": {
   "codemirror_mode": {
    "name": "ipython",
    "version": 2
   },
   "file_extension": ".py",
   "mimetype": "text/x-python",
   "name": "python",
   "nbconvert_exporter": "python",
   "pygments_lexer": "ipython2",
   "version": "2.7.15"
  }
 },
 "nbformat": 4,
 "nbformat_minor": 2
}
