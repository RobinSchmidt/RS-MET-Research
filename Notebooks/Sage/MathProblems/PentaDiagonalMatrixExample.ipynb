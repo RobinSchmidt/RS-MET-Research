{
 "cells": [
  {
   "cell_type": "code",
   "execution_count": 54,
   "metadata": {},
   "outputs": [
    {
     "data": {
      "text/plain": [
       "[4 1 1 0 0 0 0 1]\n",
       "[1 4 1 1 0 0 0 2]\n",
       "[1 1 4 1 1 0 0 3]\n",
       "[0 1 1 4 1 1 0 4]\n",
       "[0 0 1 1 4 1 1 5]\n",
       "[0 0 0 1 1 4 1 6]\n",
       "[0 0 0 0 1 1 4 7]"
      ]
     },
     "execution_count": 54,
     "metadata": {},
     "output_type": "execute_result"
    }
   ],
   "source": [
    "# We carry out the row operations that occur in Gaussian elimination\n",
    "# manually with a pentadiagonla example matrix (as augmented \n",
    "# coefficient matrix)\n",
    "\n",
    "M = matrix([[ 4, 1, 1, 0, 0, 0, 0, 1],\n",
    "            [ 1, 4, 1, 1, 0, 0, 0, 2],\n",
    "            [ 1, 1, 4, 1, 1, 0, 0, 3],\n",
    "            [ 0, 1, 1, 4, 1, 1, 0, 4],\n",
    "            [ 0, 0, 1, 1, 4, 1, 1, 5],\n",
    "            [ 0, 0, 0, 1, 1, 4, 1, 6],\n",
    "            [ 0, 0, 0, 0, 1, 1, 4, 7]])\n",
    "M           "
   ]
  },
  {
   "cell_type": "code",
   "execution_count": 68,
   "metadata": {},
   "outputs": [
    {
     "data": {
      "text/plain": [
       "[         4          1          1          0          0          0          0          1]\n",
       "[         0       15/4        3/4          1          0          0          0        7/4]\n",
       "[         0          0       18/5        4/5          1          0          0       12/5]\n",
       "[         0          0          0       32/9        7/9          1          0          3]\n",
       "[         0          0          0          0     341/96      25/32          1     353/96]\n",
       "[         0          0          0          0          0   2419/682    266/341   2965/682]\n",
       "[         0          0          0          0          0          0  8580/2419 12116/2419]"
      ]
     },
     "execution_count": 68,
     "metadata": {},
     "output_type": "execute_result"
    }
   ],
   "source": [
    "A = copy(M)\n",
    "A = A.change_ring(QQ)\n",
    "\n",
    "A.add_multiple_of_row(1,0,-A[1][0]/A[0][0]);\n",
    "A.add_multiple_of_row(2,0,-A[2][0]/A[0][0]);\n",
    "\n",
    "A.add_multiple_of_row(2,1,-A[2][1]/A[1][1]);\n",
    "A.add_multiple_of_row(3,1,-A[3][1]/A[1][1]);\n",
    "\n",
    "A.add_multiple_of_row(3,2,-A[3][2]/A[2][2]);\n",
    "A.add_multiple_of_row(4,2,-A[4][2]/A[2][2]);\n",
    "\n",
    "A.add_multiple_of_row(4,3,-A[4][3]/A[3][3]);\n",
    "A.add_multiple_of_row(5,3,-A[5][3]/A[3][3]);\n",
    "\n",
    "A.add_multiple_of_row(5,4,-A[5][4]/A[4][4]);\n",
    "A.add_multiple_of_row(6,4,-A[6][4]/A[4][4]);\n",
    "\n",
    "A.add_multiple_of_row(6,5,-A[6][5]/A[5][5]);\n",
    "\n",
    "A"
   ]
  },
  {
   "cell_type": "code",
   "execution_count": 72,
   "metadata": {},
   "outputs": [
    {
     "data": {
      "text/plain": [
       "[      1       0       0       0       0       0       0  13/165]\n",
       "[      0       1       0       0       0       0       0  41/165]\n",
       "[      0       0       1       0       0       0       0   24/55]\n",
       "[      0       0       0       1       0       0       0   27/55]\n",
       "[      0       0       0       0       1       0       0   24/55]\n",
       "[      0       0       0       0       0       1       0 151/165]\n",
       "[      0       0       0       0       0       0       1 233/165]"
      ]
     },
     "execution_count": 72,
     "metadata": {},
     "output_type": "execute_result"
    }
   ],
   "source": [
    "#A[6][7]/A[6][6]\n",
    "AE = A.echelon_form()\n",
    "AE"
   ]
  },
  {
   "cell_type": "code",
   "execution_count": null,
   "metadata": {},
   "outputs": [],
   "source": []
  }
 ],
 "metadata": {
  "kernelspec": {
   "display_name": "SageMath 8.4",
   "language": "",
   "name": "sagemath"
  },
  "language_info": {
   "codemirror_mode": {
    "name": "ipython",
    "version": 2
   },
   "file_extension": ".py",
   "mimetype": "text/x-python",
   "name": "python",
   "nbconvert_exporter": "python",
   "pygments_lexer": "ipython2",
   "version": "2.7.15"
  }
 },
 "nbformat": 4,
 "nbformat_minor": 2
}
