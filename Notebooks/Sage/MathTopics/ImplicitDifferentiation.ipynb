{
 "cells": [
  {
   "cell_type": "markdown",
   "metadata": {},
   "source": [
    "## Implicit Functions\n",
    "We are given an implicit expression of two variables $x,y$ in the form $F(x,y) = 0$. The set of points $\\in \\mathbb{R}^2$ that satisfies this equation will typically be a curve. If, in some neighbourhood of $x_0$, there exists only one single $y$ for any given $x$, such that the equation is satisfied, we say that the equation locally defines a function $y = f(x)$ in that neighbourhood. The interesting thing is that we can give an expression for the local slope $f'(x)$ even without knowing an explicit formula for $f(x)$. The formula for that is:  \n",
    "$$f'(x) = \\frac{dy}{dx} = - \\frac{\\partial F / \\partial x}{\\partial F / \\partial y} = - \\frac{F_x(x,y)}{F_y(x,y)}$$\n",
    "\n"
   ]
  },
  {
   "cell_type": "code",
   "execution_count": null,
   "metadata": {},
   "outputs": [],
   "source": []
  }
 ],
 "metadata": {
  "kernelspec": {
   "display_name": "SageMath 8.4",
   "language": "",
   "name": "sagemath"
  },
  "language_info": {
   "codemirror_mode": {
    "name": "ipython",
    "version": 2
   },
   "file_extension": ".py",
   "mimetype": "text/x-python",
   "name": "python",
   "nbconvert_exporter": "python",
   "pygments_lexer": "ipython2",
   "version": "2.7.15"
  }
 },
 "nbformat": 4,
 "nbformat_minor": 2
}
