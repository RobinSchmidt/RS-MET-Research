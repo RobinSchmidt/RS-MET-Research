{
 "cells": [
  {
   "cell_type": "markdown",
   "metadata": {},
   "source": [
    "Math is about  \n",
    "-discovering computational shortcuts  \n",
    " -save time  \n",
    " -example: sum of first N integers - naive: O(N), formula: O(1)\n",
    "\n",
    "-invent notational shortcuts  \n",
    " -save paper / space  \n",
    " -think in terms of higher level constructs  \n",
    " -example: matrix notation of linear equations: A*x = b in matrix notation  \n",
    "  uses 3 high-level variables - writing out an NxN system would require  \n",
    "  N^2+2N variables -> from O(N^2) to O(1)   \n",
    " \n",
    "-find abstractions  \n",
    " -generalize knowledge to make applicable in a wider range of applications  \n",
    "\n"
   ]
  },
  {
   "cell_type": "code",
   "execution_count": null,
   "metadata": {},
   "outputs": [],
   "source": []
  }
 ],
 "metadata": {
  "kernelspec": {
   "display_name": "SageMath 8.4",
   "language": "",
   "name": "sagemath"
  },
  "language_info": {
   "codemirror_mode": {
    "name": "ipython",
    "version": 2
   },
   "file_extension": ".py",
   "mimetype": "text/x-python",
   "name": "python",
   "nbconvert_exporter": "python",
   "pygments_lexer": "ipython2",
   "version": "2.7.15"
  }
 },
 "nbformat": 4,
 "nbformat_minor": 2
}
