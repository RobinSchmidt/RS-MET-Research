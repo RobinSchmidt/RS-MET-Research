{
 "cells": [
  {
   "cell_type": "markdown",
   "metadata": {},
   "source": [
    "## Legendre Transformation Example\n",
    "\n",
    "Consider a scalar-valued function $f(\\mathbf{x})$ that takes a vector $\\mathbf{x}$ as input. As an example, we consider a two dimensional vector $\\mathbf{x} = (x_1,x_2)^T$ and our example function is:\n",
    "\n",
    "$f(\\mathbf{x}) = f(x_1,x_2) = x_1^2 e^{3 x_2}$\n",
    "\n",
    "We define the vector-valued function $\\mathbf{y} = (y_1,y_2) = \\mathbf{y(x)}$ to be the gradient of $f$:\n",
    "\n",
    "$\\mathbf{y(x)} \n",
    " = (\\partial f / \\partial x_1, \\partial f / \\partial x_2)^T \n",
    " = ( 2 x_1 e^{3 x_2}, 3 x_1^2 e^{3 x_2})^T $\n",
    " \n",
    " Let's have sage verify the gradient for us:"
   ]
  },
  {
   "cell_type": "code",
   "execution_count": 10,
   "metadata": {},
   "outputs": [
    {
     "data": {
      "text/plain": [
       "((x1, x2) |--> x1^2*e^(3*x2),\n",
       " (x1, x2) |--> 2*x1*e^(3*x2),\n",
       " (x1, x2) |--> 3*x1^2*e^(3*x2),\n",
       " (x1, x2) |--> (2*x1*e^(3*x2), 3*x1^2*e^(3*x2)))"
      ]
     },
     "execution_count": 10,
     "metadata": {},
     "output_type": "execute_result"
    }
   ],
   "source": [
    "var(\"x1 x2 y1 y2\")\n",
    "f(x1,x2)  = x1^2 *  exp(3 * x2) # define our example function\n",
    "f1(x1,x2) = diff(f(x1,x2), x1)  # partial derivative with respect to x1, df/dx1\n",
    "f2(x1,x2) = diff(f(x1,x2), x2)  # partial derivative with respect to x2, df/dx2\n",
    "grd       = diff(f)             # gradient (df/dx1, df/dx2) as tuple\n",
    "f, f1, f2, grd"
   ]
  },
  {
   "cell_type": "markdown",
   "metadata": {},
   "source": [
    "This function y(x) defines a 2D vector field - for each two dimensional input vector x, it returns a two dimensional output vector y. Next, we invert the function y(x), i.e. we obtain expressions for x-given-y from our known expressions for y-given-x. There are some conditions for when this is possible, but we don't want to bother ourselves with these details just yet. In our example, we need to solve the following system of equations:  \n",
    "$\n",
    "y_1 = 2 x_1   e^{3 x_2} \\\\\n",
    "y_2 = 3 x_1^2 e^{3 x_2}\n",
    "$  \n",
    "for $x_1,x_2$. We can manipulate this into:\n",
    "\n",
    "$y_1 / (2 x_ 1) = e^{3 x_2} = y_2 / (3 x_1^2)$\n",
    "\n",
    "forgetting about the term in the middle and multiplying left and right terms \n",
    "by $x_1$, we get:\n",
    "\n",
    "$y_1 / 2 = y_2 / (3 x_1)$\n",
    "\n",
    "which we can solve for $x_1$:\n",
    "\n",
    "$x_1 = (2 y_2) / (3 y_1)$\n",
    "\n",
    "plugging this into the first equation above ($y_1 = ...$) and solving for $x_2$ gives:\n",
    "\n",
    "$x_2 = \\log( (3 y_1^2) / (4 y_2) ) / 3$\n",
    "\n",
    "so here they are, our expressions for x-given-y, i.e. (x1,x2)-given-(y1,y2). Let's verify our calculations with sage:"
   ]
  },
  {
   "cell_type": "code",
   "execution_count": 11,
   "metadata": {},
   "outputs": [
    {
     "data": {
      "text/plain": [
       "[2*x1*e^(3*x2) == y1, 3*x1^2*e^(3*x2) == y2]"
      ]
     },
     "execution_count": 11,
     "metadata": {},
     "output_type": "execute_result"
    }
   ],
   "source": [
    "eq1 = f1(x1,x2) == y1\n",
    "eq2 = f2(x1,x2) == y2\n",
    "solve([eq1,eq2],[x1,x2])"
   ]
  },
  {
   "cell_type": "markdown",
   "metadata": {},
   "source": [
    "...huh? sage can't solve this? wtf?! Anyway, let's continue:  \n",
    "\n",
    "What we now want is a scalar-valued function g(y) of y=(y1,y2) whose gradient the above vector-valued function is. To find such a function, we use the following \"magic\" formula that is at the heart of the Legendre transformation:  \n",
    "\n",
    "g(y) = x(y) * y - f( x(y) )  \n",
    "\n",
    "where x(y) * y is to be understood as the scalar-product of the vector x  (of y, as given by our formulas above) and the vector y itself. We must also plug x(y) into the scalar-valued function f and subtract that. Let's write that function g down for our example:   \n",
    "\n",
    "g(y) = (1/3) * y2 * ( 1 + log((3*y1^2)/(4*y2)) )\n",
    "\n",
    "now, let's have sage verify, that the gradient of the so found function g is indeed our expression for x in terms of y: "
   ]
  },
  {
   "cell_type": "code",
   "execution_count": 13,
   "metadata": {},
   "outputs": [
    {
     "data": {
      "text/plain": [
       "(y1, y2) |--> (2/3*y2/y1, 1/3*log(3/4*y1^2/y2))"
      ]
     },
     "execution_count": 13,
     "metadata": {},
     "output_type": "execute_result"
    }
   ],
   "source": [
    "g(y1,y2) = (1/3) * y2 * ( 1 + log((3*y1^2)/(4*y2)) )\n",
    "diff(g)"
   ]
  },
  {
   "cell_type": "markdown",
   "metadata": {},
   "source": [
    "...yep - that checks out. It's indeed what we have found for $x_1, x_2$ in terms of $y_1, y_2$ above. In summary, for a given scalar-valued function $f$ of a vector, we have found an associated other scalar-valued function $g$ of a vector. That other function $g$ is called the Legendre transform of $f$. The transform is symmetric: applying the same recipie to $g$, we obtain back our original $f$.  ...maybe verify that later..."
   ]
  },
  {
   "cell_type": "code",
   "execution_count": null,
   "metadata": {},
   "outputs": [],
   "source": []
  },
  {
   "cell_type": "code",
   "execution_count": null,
   "metadata": {},
   "outputs": [],
   "source": []
  }
 ],
 "metadata": {
  "kernelspec": {
   "display_name": "SageMath 8.4",
   "language": "",
   "name": "sagemath"
  },
  "language_info": {
   "codemirror_mode": {
    "name": "ipython",
    "version": 2
   },
   "file_extension": ".py",
   "mimetype": "text/x-python",
   "name": "python",
   "nbconvert_exporter": "python",
   "pygments_lexer": "ipython2",
   "version": "2.7.15"
  }
 },
 "nbformat": 4,
 "nbformat_minor": 2
}
