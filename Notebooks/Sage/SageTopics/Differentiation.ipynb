{
 "cells": [
  {
   "cell_type": "code",
   "execution_count": 1,
   "metadata": {},
   "outputs": [
    {
     "data": {
      "text/plain": [
       "(x |--> c*x^2 + b*x + a, x |--> 2*c*x + b, x |--> 2*c, x |--> 0)"
      ]
     },
     "execution_count": 1,
     "metadata": {},
     "output_type": "execute_result"
    }
   ],
   "source": [
    "var(\"x a b c\")             # declare symbolic variables\n",
    "f(x) = a + b*x + c*x^2     # define symbolic function of x\n",
    "f1(x) = diff(f(x), x)      # derivative with respect ot x\n",
    "f2(x) = diff(f(x), x, 2)   # 2nd derivative\n",
    "f3(x) = diff(f(x), x, 3)   # 3rd derivative\n",
    "f, f1, f2, f3"
   ]
  },
  {
   "cell_type": "code",
   "execution_count": 11,
   "metadata": {},
   "outputs": [
    {
     "data": {
      "text/plain": [
       "((x, y) |--> e^(a*x)*sin(b*y),\n",
       " (x, y) |--> a*e^(a*x)*sin(b*y),\n",
       " (x, y) |--> b*cos(b*y)*e^(a*x),\n",
       " (x, y) |--> a^2*e^(a*x)*sin(b*y),\n",
       " (x, y) |--> -b^2*e^(a*x)*sin(b*y),\n",
       " (x, y) |--> a*b*cos(b*y)*e^(a*x),\n",
       " (y, x) |--> a*b*cos(b*y)*e^(a*x),\n",
       " (x, y) |--> (a*e^(a*x)*sin(b*y), b*cos(b*y)*e^(a*x)))"
      ]
     },
     "execution_count": 11,
     "metadata": {},
     "output_type": "execute_result"
    }
   ],
   "source": [
    "# partial derivatives of bivariate function\n",
    "var(\"x y a b c\")\n",
    "f(x,y)   = exp(a*x)*sin(b*y)   # define bivariate function\n",
    "fx(x,y)  = diff(f(x,y), x)     # partial derivative with respect to x, df/dx\n",
    "fy(x,y)  = diff(f(x,y), y)     # partial derivative with respect to y, df/dy\n",
    "fxx(x,y) = diff(f(x,y), x, x)  # d^2f/dx^2\n",
    "fyy(x,y) = diff(f(x,y), y, y)  # d^2f/dy^2\n",
    "fxy(x,y) = diff(f(x,y), x, y)  # d^2f/dxdy\n",
    "fyx(y,x) = diff(f(x,y), y, x)  # d^2f/dydx (== d^2f/dxdy)\n",
    "f, fx, fy, fxx, fyy, fxy, fyx, g"
   ]
  },
  {
   "cell_type": "code",
   "execution_count": 13,
   "metadata": {},
   "outputs": [
    {
     "data": {
      "text/plain": [
       "(\n",
       "(x, y) |--> (a*e^(a*x)*sin(b*y), b*cos(b*y)*e^(a*x)),\n",
       "\n",
       "[ (x, y) |--> a^2*e^(a*x)*sin(b*y)  (x, y) |--> a*b*cos(b*y)*e^(a*x)]\n",
       "[ (x, y) |--> a*b*cos(b*y)*e^(a*x) (x, y) |--> -b^2*e^(a*x)*sin(b*y)]\n",
       ")"
      ]
     },
     "execution_count": 13,
     "metadata": {},
     "output_type": "execute_result"
    }
   ],
   "source": [
    "g = diff(f)             # gradient (df/dx, df/dy) as tuple\n",
    "h = diff(diff(f))       # Hessian matrix [d^2f/dx^2 d^2f/dxdy] \n",
    "g, h                    # ..as 2 arrays  [d^2f/dydx d^2f/dy^2]"
   ]
  },
  {
   "cell_type": "code",
   "execution_count": 24,
   "metadata": {},
   "outputs": [
    {
     "data": {
      "text/plain": [
       "[ (x, y) |--> a^2*e^(a*x)*sin(b*y)  (x, y) |--> a*b*cos(b*y)*e^(a*x)]\n",
       "[ (x, y) |--> a*b*cos(b*y)*e^(a*x) (x, y) |--> -b^2*e^(a*x)*sin(b*y)]"
      ]
     },
     "execution_count": 24,
     "metadata": {},
     "output_type": "execute_result"
    }
   ],
   "source": [
    "f.hessian()             # gives also the Hessian matrix"
   ]
  },
  {
   "cell_type": "code",
   "execution_count": 25,
   "metadata": {},
   "outputs": [
    {
     "data": {
      "text/plain": [
       "(\n",
       "[  3*x^2*sin(y)     x^3*cos(y)]  [    x^3*cos(y)   3*x^2*sin(y)]\n",
       "[-sin(x)*sin(y)  cos(x)*cos(y)]  [ cos(x)*cos(y) -sin(x)*sin(y)]\n",
       "[           e^x              0], [             0            e^x]\n",
       ")"
      ]
     },
     "execution_count": 25,
     "metadata": {},
     "output_type": "execute_result"
    }
   ],
   "source": [
    "f = (x^3*sin(y), cos(x)*sin(y), exp(x)) # f is now a tuple of functions\n",
    "jxy = jacobian(f, (x,y))                # matrix of derivatives df1/dx, df1/dy, ..\n",
    "jyx = jacobian(f, (y,x))                # we may reverse the arguments\n",
    "jxy, jyx"
   ]
  },
  {
   "cell_type": "code",
   "execution_count": null,
   "metadata": {},
   "outputs": [],
   "source": []
  },
  {
   "cell_type": "markdown",
   "metadata": {},
   "source": [
    "ToDo: implicit differentiation, gradient, divergence, curl, maybe plot vector fields  \n",
    "http://localhost:8888/kernelspecs/sagemath/doc/reference/manifolds/sage/manifolds/operators.html"
   ]
  },
  {
   "cell_type": "code",
   "execution_count": null,
   "metadata": {},
   "outputs": [],
   "source": []
  }
 ],
 "metadata": {
  "kernelspec": {
   "display_name": "SageMath 8.4",
   "language": "",
   "name": "sagemath"
  },
  "language_info": {
   "codemirror_mode": {
    "name": "ipython",
    "version": 2
   },
   "file_extension": ".py",
   "mimetype": "text/x-python",
   "name": "python",
   "nbconvert_exporter": "python",
   "pygments_lexer": "ipython2",
   "version": "2.7.15"
  }
 },
 "nbformat": 4,
 "nbformat_minor": 2
}
