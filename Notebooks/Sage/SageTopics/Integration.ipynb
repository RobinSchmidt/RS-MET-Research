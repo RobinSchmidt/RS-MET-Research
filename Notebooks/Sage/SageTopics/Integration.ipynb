{
 "cells": [
  {
   "cell_type": "code",
   "execution_count": 2,
   "metadata": {},
   "outputs": [
    {
     "data": {
      "text/plain": [
       "(x |--> c*x^2 + b*x + a, x |--> 1/3*c*x^3 + 1/2*b*x^2 + a*x)"
      ]
     },
     "execution_count": 2,
     "metadata": {},
     "output_type": "execute_result"
    }
   ],
   "source": [
    "var(\"x a b c\")                  # declare symbolic variables\n",
    "f(x) = a + b*x + c*x^2          # define symbolic function of x\n",
    "F(x) = integral(f(x), x)        # antiderivative\n",
    "f, F                            # output: sage sets integration constant to 0"
   ]
  },
  {
   "cell_type": "code",
   "execution_count": 4,
   "metadata": {},
   "outputs": [
    {
     "data": {
      "text/plain": [
       "-1/3*c*x0^3 + 1/3*c*x1^3 - 1/2*b*x0^2 + 1/2*b*x1^2 - a*x0 + a*x1"
      ]
     },
     "execution_count": 4,
     "metadata": {},
     "output_type": "execute_result"
    }
   ],
   "source": [
    "var(\"x0, x1\")\n",
    "integral(f(x), x, x0, x1)       # definite integral from x0 to x1"
   ]
  },
  {
   "cell_type": "code",
   "execution_count": 10,
   "metadata": {},
   "outputs": [
    {
     "data": {
      "text/plain": [
       "-1/2*sqrt(pi)*erf(x0) + 1/2*sqrt(pi)*erf(x1)"
      ]
     },
     "execution_count": 10,
     "metadata": {},
     "output_type": "execute_result"
    }
   ],
   "source": [
    "integral(exp(-x^2), x, x0, x1)  # non-elementary integral as special function"
   ]
  },
  {
   "cell_type": "code",
   "execution_count": 11,
   "metadata": {},
   "outputs": [
    {
     "data": {
      "text/plain": [
       "sqrt(pi)"
      ]
     },
     "execution_count": 11,
     "metadata": {},
     "output_type": "execute_result"
    }
   ],
   "source": [
    "integral(exp(-x^2), x, -oo, oo) # total area under Gaussian bell function"
   ]
  },
  {
   "cell_type": "code",
   "execution_count": 14,
   "metadata": {},
   "outputs": [
    {
     "data": {
      "text/plain": [
       "1/4*x^4 + 30*log(x) - 1/4"
      ]
     },
     "execution_count": 14,
     "metadata": {},
     "output_type": "execute_result"
    }
   ],
   "source": [
    "reset(); var(\"t\")\n",
    "assume(x > 1)                   # assumption is required to solve the integral\n",
    "integral((t^3+30/t), t, 1, x)"
   ]
  },
  {
   "cell_type": "markdown",
   "metadata": {},
   "source": [
    "ToDo:  \n",
    "* algorithm=\"maxima\"|\"mathematica_free\"|\"fricas\"|\"sympy\"|\"giac\"\n",
    "-integrals with poles in the integration interval (split them manually? maybe atan or atanh?  \n",
    "-maybe add plots to visualize the area that is computed \n",
    " line/path integral (define a bivariate function, f(x,y) and a curve x(t)=cos(t),y(t)=sin(t)\n",
    " double integral, \n",
    " surface integral, \n",
    "triple integral (maybe compute surface area, mass of a torus(needs a density function, too)), \n",
    "numerical_integral (maybe), find a potential function (a scalar function with given gradient),\n",
    "maybe write functions pathIntegral, doubleIntegral, tripleIntegral, maybe they need different\n",
    "versions depending on the type of integrand (scalar-product, cross-product, etc.), maybe\n",
    "write a function to find a potential function"
   ]
  },
  {
   "cell_type": "code",
   "execution_count": null,
   "metadata": {},
   "outputs": [],
   "source": []
  }
 ],
 "metadata": {
  "kernelspec": {
   "display_name": "SageMath 8.4",
   "language": "",
   "name": "sagemath"
  },
  "language_info": {
   "codemirror_mode": {
    "name": "ipython",
    "version": 2
   },
   "file_extension": ".py",
   "mimetype": "text/x-python",
   "name": "python",
   "nbconvert_exporter": "python",
   "pygments_lexer": "ipython2",
   "version": "2.7.15"
  }
 },
 "nbformat": 4,
 "nbformat_minor": 2
}
