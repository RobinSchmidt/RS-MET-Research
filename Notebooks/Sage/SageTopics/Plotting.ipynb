{
 "cells": [
  {
   "cell_type": "code",
   "execution_count": 85,
   "metadata": {},
   "outputs": [],
   "source": [
    "# because we don't want to store the output data of the plot commands \n",
    "# in the repo, sow we have a switch her to de/activate all plots for \n",
    "# the whole notebook:\n",
    "showPlots = False\n",
    "# ...but that doesn't seem to work with 3D plots"
   ]
  },
  {
   "cell_type": "code",
   "execution_count": 68,
   "metadata": {},
   "outputs": [],
   "source": [
    "# trigonometric functions:\n",
    "p =  plot(sin(x), 0, 3*pi, color=\"blue\")\n",
    "p += plot(cos(x), 0, 3*pi, color =\"green\")\n",
    "p += plot(tan(x), 0, 3*pi, ymin=-3, ymax=3, color =\"red\", detect_poles=\"show\")\n",
    "if(showPlots):\n",
    "    p.show(ticks=pi/4, tick_formatter=pi)"
   ]
  },
  {
   "cell_type": "code",
   "execution_count": 59,
   "metadata": {},
   "outputs": [],
   "source": [
    "# non-symbolic python functions they should be wrapped in lambda for plot:\n",
    "#plot(lambda x:fibonacci(round(x)), (x,1,10))\n"
   ]
  },
  {
   "cell_type": "code",
   "execution_count": 98,
   "metadata": {},
   "outputs": [],
   "source": [
    "#Function family\n",
    "reset()\n",
    "def b(n): return lambda x: bessel_J(n, x)\n",
    "#plot([b(n) for n in [1..5]], 0, 20, fill='axis')"
   ]
  },
  {
   "cell_type": "code",
   "execution_count": 86,
   "metadata": {},
   "outputs": [],
   "source": [
    "# parametric plot in 2D\n",
    "n, m = 2, 3\n",
    "t = var('t')\n",
    "x = cos(n*t)\n",
    "y = sin(m*t+pi/4)\n",
    "g = parametric_plot((x, y), (t, 0, 2*pi), plot_points=500, fill=True)\n",
    "if(showPlots):\n",
    "    g.show(aspect_ratio=1)"
   ]
  },
  {
   "cell_type": "code",
   "execution_count": 100,
   "metadata": {},
   "outputs": [],
   "source": [
    "# Polar plot - radius as function of angle\n",
    "#polar_plot(sin(5*x)^2, (x, 0, 2*pi), color='blue')"
   ]
  },
  {
   "cell_type": "code",
   "execution_count": 9,
   "metadata": {},
   "outputs": [],
   "source": [
    "# bivariate function as height\n",
    "x, y = var('x, y')\n",
    "h = lambda x,y: x^2 * y^3 + sin(2*pi*x*y)/2\n",
    "#if(showPlots):\n",
    "#plot3d(h, (x,-1,1), (y,-1,1), viewer=\"threejs\")"
   ]
  },
  {
   "cell_type": "code",
   "execution_count": 46,
   "metadata": {},
   "outputs": [],
   "source": [
    "# parametric curve in 3D (a trefoil knot)\n",
    "k = 1  # change for variations\n",
    "knot = line3d([(sin(k*t)+2*sin(2*t),\\\n",
    "                cos(k*t)-2*cos(2*t),\\\n",
    "                -sin(3*t)) for t in srange(0,6.4,.05)],\n",
    "                radius=.1, viewer=\"threejs\", aspect_ratio=[1,1,1])\n",
    "#if(showPlots):\n",
    "#knot.plot()"
   ]
  },
  {
   "cell_type": "code",
   "execution_count": 111,
   "metadata": {},
   "outputs": [],
   "source": [
    "# various graphical objects:\n",
    "reset()\n",
    "g  = Graphics()\n",
    "g += plot(cos(x), (x, -5, 5), thickness=1, color='green', title='A plot')\n",
    "g += plot(cos(x), (x, -2, 3), thickness=2, color='green', \n",
    "          fill=True, fillcolor=\"green\", fillalpha=0.2) # how do we set fill color?\n",
    "g += circle((1,2), 3)  # circe of radius 3 with center at 1,2\n",
    "g += polygon([[1,2], [5,6], [5,0]], color='red', alpha=0.2) # how can we switch to non-filled?\n",
    "g += text('some text', (1, 4), color=\"black\")\n",
    "g += text(\"$\\\\int_{a}^b f(x) dx$\", (-3, 5), fontsize=16, color='black')\n",
    "g += line([(2,0),(2,2),(0,2)], thickness=2)\n",
    "g += points([(2,0),(2,2),(0,2)], pointsize=50)\n",
    "g += arrow((0,0), (-2,4), width=2, arrowsize=5)\n",
    "#g"
   ]
  },
  {
   "cell_type": "markdown",
   "metadata": {},
   "source": [
    "http://localhost:8888/kernelspecs/sagemath/doc/reference/plotting/sage/plot/arrow.html#sage.plot.arrow.arrow  \n",
    "http://localhost:8888/kernelspecs/sagemath/doc/reference/plotting/sage/plot/circle.html#sage.plot.circle.circle\n",
    "http://localhost:8888/kernelspecs/sagemath/doc/reference/plotting/sage/plot/ellipse.html#sage.plot.ellipse.ellipse"
   ]
  },
  {
   "cell_type": "code",
   "execution_count": 94,
   "metadata": {},
   "outputs": [],
   "source": [
    "# Multiple plots in a grid/table\n",
    "reset()\n",
    "f(x) = sin(x)\n",
    "g(x) = sin(2*x)\n",
    "h(x) = sin(4*x)\n",
    "p1 = plot(f,(-2*pi,2*pi),color=hue(0.5)) # long time\n",
    "p2 = plot(g,(-2*pi,2*pi),color=hue(0.9)) # long time\n",
    "p3 = parametric_plot((f,g),(0,2*pi),color=hue(0.6)) # long time\n",
    "p4 = parametric_plot((f,h),(0,2*pi),color=hue(1.0)) # long time\n",
    "#graphics_array(((p1,p2),(p3,p4))) # long time"
   ]
  },
  {
   "cell_type": "code",
   "execution_count": 91,
   "metadata": {},
   "outputs": [],
   "source": [
    "# Filling options\n",
    "reset()\n",
    "p1 = plot(sin(x), -pi, pi, fill='axis')\n",
    "p2 = plot(sin(x), -pi, pi, fill='min', fillalpha=1)\n",
    "p3 = plot(sin(x), -pi, pi, fill='max')\n",
    "p4 = plot(sin(x), -pi, pi, fill=(1-x)/3, fillcolor='blue', fillalpha=.2)\n",
    "#graphics_array([[p1, p2], [p3, p4]]).show(frame=True, axes=False) # long time"
   ]
  },
  {
   "cell_type": "code",
   "execution_count": 102,
   "metadata": {},
   "outputs": [],
   "source": [
    "# Fill area between function in polar plot\n",
    "#polar_plot(cos(4*x) + 1.5, 0, 2*pi, fill=0.5 * cos(4*x) + 2.5, fillcolor='orange')"
   ]
  },
  {
   "cell_type": "code",
   "execution_count": 92,
   "metadata": {},
   "outputs": [],
   "source": [
    "# Filling between function graphs\n",
    "reset()\n",
    "var(\"t\")\n",
    "(f1, f2) = x*exp(-1*x^2)/.35, x*exp(-2*x^2)/.35\n",
    "p1 = plot([f1, f2], -pi, pi, fill={1: [0]}, fillcolor='blue', fillalpha=.25, color='blue')\n",
    "p2 = plot([f1, f2], -pi, pi, fill={0: x/3, 1:[0]}, color=['blue'])\n",
    "p3 = plot([f1, f2], -pi, pi, fill=[0, [0]], fillcolor=['orange','red'], fillalpha=1, color={1: 'blue'})\n",
    "p4 = plot([f1, f2], (x,-pi, pi), fill=[x/3, 0], fillcolor=['grey'], color=['red', 'blue'])\n",
    "#graphics_array([[p1, p2], [p3, p4]]).show(frame=True, axes=False) # long time"
   ]
  },
  {
   "cell_type": "code",
   "execution_count": 7,
   "metadata": {},
   "outputs": [],
   "source": [
    "# contour plot\n",
    "reset()\n",
    "var(\"x y\")\n",
    "f(x,y) = x*y\n",
    "#contour_plot(f, [-5, 5], [-5,5], labels=True, colorbar=True)"
   ]
  },
  {
   "cell_type": "markdown",
   "metadata": {},
   "source": [
    "contour_plot(f, xrange, yrange, axes=False, linestyles=None, region=None, labels=False, plot_points=100, linewidths=None, colorbar=False, contours=None, aspect_ratio=1, legend_label=None, frame=True, fill=True, label_inline=None, label_fmt='%1.2f', label_fontsize=9, label_colors='blue', label_inline_spacing=3, colorbar_spacing=None, colorbar_orientation='vertical', colorbar_format=None, **options)\n",
    "http://localhost:8888/kernelspecs/sagemath/doc/reference/plotting/sage/plot/contour_plot.html#sage.plot.contour_plot.contour_plot\n"
   ]
  },
  {
   "cell_type": "code",
   "execution_count": 40,
   "metadata": {},
   "outputs": [],
   "source": [
    "# 3 interfering radial sinc functions\n",
    "reset()\n",
    "d = 3       # distance between sincs\n",
    "r = 20      # plot range\n",
    "pp = 150    # plot_points (number of samples for plots)\n",
    "x,y = var('x,y')\n",
    "def sinc(x, y): \n",
    "    r = sqrt(x^2 + y^2)\n",
    "    k = 10\n",
    "    if(r == 0):\n",
    "        return k\n",
    "    else:\n",
    "        return k*sin(r)/r\n",
    "def sinc1(x, y):\n",
    "    return sinc(x-d, y-d)    \n",
    "def sinc2(x, y):\n",
    "    return sinc(x+d, y+d)\n",
    "P = plot3d(sinc1, (x,-r,r),(y,-r,r), opacity=0.4, color='blue', viewer=\"threejs\", plot_points=pp)\n",
    "R = plot3d(sinc,  (x,-r,r),(y,-r,r), opacity=0.4, color='green', viewer=\"threejs\", plot_points=pp)\n",
    "Q = plot3d(sinc2, (x,-r,r),(y,-r,r), opacity=0.4, color='red', viewer=\"threejs\", plot_points=pp)\n",
    "#P + Q + R"
   ]
  },
  {
   "cell_type": "code",
   "execution_count": 28,
   "metadata": {},
   "outputs": [],
   "source": [
    "plot3d?"
   ]
  },
  {
   "cell_type": "markdown",
   "metadata": {},
   "source": [
    "see:\n",
    "http://localhost:8888/kernelspecs/sagemath/doc/reference/plotting/index.html http://localhost:8888/kernelspecs/sagemath/doc/reference/plotting/sage/plot/plot.html#sage.plot.plot.plot  \n",
    "options for Grahpics.show: gridlines=False|True|\"minor\"\n",
    "\n",
    "\n",
    "plot(funcs, exclude=None, fillalpha=0.5, detect_poles=False, plot_points=200, thickness=1, adaptive_tolerance=0.01, fillcolor='automatic', adaptive_recursion=5, aspect_ratio='automatic', alpha=1, legend_label=None, fill=False, *args, **kwds)\n",
    "http://localhost:8888/kernelspecs/sagemath/doc/reference/plotting/sage/plot/plot.html#sage.plot.plot.plot\n"
   ]
  },
  {
   "cell_type": "code",
   "execution_count": 2,
   "metadata": {},
   "outputs": [
    {
     "data": {
      "application/vnd.jupyter.widget-view+json": {
       "model_id": "bd38d59b6b114328a73a1a6185bc7505",
       "version_major": 2,
       "version_minor": 0
      },
      "text/plain": [
       "SW50ZXJhY3RpdmUgZnVuY3Rpb24gPGZ1bmN0aW9uIGludGVyYWN0M0QgYXQgMHg2ZmY0Zjk2ZmY1MD4gd2l0aCAxIHdpZGdldAogIFNpbmU6IFRyYW5zZm9ybUZsb2F0U2xpZGVyKHZhbHVlPTHigKY=\n"
      ]
     },
     "metadata": {},
     "output_type": "display_data"
    }
   ],
   "source": [
    "@interact\n",
    "def interact3D(Sine = slider(0, 2, 0.01, 1.0)):\n",
    "    x, y = var('x, y')\n",
    "    h = lambda x,y: x^2 * y^3 + sin(2*pi*x*y)/2\n",
    "    print \"Sine =\", Sine\n",
    "    #plot3d(h, (x,-1,1), (y,-1,1), viewer=\"threejs\") # doesn't seem to work"
   ]
  },
  {
   "cell_type": "code",
   "execution_count": null,
   "metadata": {},
   "outputs": [],
   "source": [
    "#  plot a bivariate function:\n",
    "x, y = var('x, y')\n",
    "h = lambda x,y: x^2 * y^3 + sin(2*pi*x*y)/2\n",
    "#plot3d(h, (x,-1,1), (y,-1,1), viewer=\"threejs\")"
   ]
  }
 ],
 "metadata": {
  "kernelspec": {
   "display_name": "SageMath 8.4",
   "language": "",
   "name": "sagemath"
  },
  "language_info": {
   "codemirror_mode": {
    "name": "ipython",
    "version": 2
   },
   "file_extension": ".py",
   "mimetype": "text/x-python",
   "name": "python",
   "nbconvert_exporter": "python",
   "pygments_lexer": "ipython2",
   "version": "2.7.15"
  }
 },
 "nbformat": 4,
 "nbformat_minor": 2
}
