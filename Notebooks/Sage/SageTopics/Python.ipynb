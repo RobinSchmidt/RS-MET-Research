{
 "cells": [
  {
   "cell_type": "markdown",
   "metadata": {},
   "source": [
    "keywords: and, as, assert, break, class, continue, def, del, elif, else, except, exec, finally, for, from, global, if, import, in, is, lambda, not, or, pass, print, raise, return, try, while, with, yield\n",
    "\n",
    "primitive datatypes: int, float, complex, boolean (True, False), str, list, tuple, set, dict"
   ]
  },
  {
   "cell_type": "code",
   "execution_count": 1,
   "metadata": {},
   "outputs": [
    {
     "data": {
      "text/plain": [
       "(2, 5, 5)"
      ]
     },
     "execution_count": 1,
     "metadata": {},
     "output_type": "execute_result"
    }
   ],
   "source": [
    "x = 42                      # variable assignment\n",
    "x, y = 2, 5                 # two assignments at once\n",
    "z = x if x > y else y       # ternary if/else\n",
    "x,y,z"
   ]
  },
  {
   "cell_type": "code",
   "execution_count": 2,
   "metadata": {},
   "outputs": [
    {
     "data": {
      "text/plain": [
       "(100, <type 'sage.rings.integer.Integer'>)"
      ]
     },
     "execution_count": 2,
     "metadata": {},
     "output_type": "execute_result"
    }
   ],
   "source": [
    "z = 0                 # re-init z\n",
    "cmd = \"z += 10\"       # a string to be executed\n",
    "for i in range(10):   # for-loop and range iterator\n",
    "    exec(cmd)         # executes string as command\n",
    "z, type(z)            # infer the type of z"
   ]
  },
  {
   "cell_type": "code",
   "execution_count": 3,
   "metadata": {},
   "outputs": [
    {
     "data": {
      "text/plain": [
       "([1, 2, 3],\n",
       " [2, pi, 3/7, 2.73000000000000],\n",
       " [2*I + 1, True, 'foo', [1, 2, 3]],\n",
       " (False, 2, 4, 'eight'),\n",
       " {'blue', 'green', 'red'})"
      ]
     },
     "execution_count": 3,
     "metadata": {},
     "output_type": "execute_result"
    }
   ],
   "source": [
    "# built in datastructures:\n",
    "reset()                          # forget all variables\n",
    "l1 = [1, 2, 3]                   # list of 3 numbers\n",
    "l2 = [2, pi, 3/7, 2.73]          # a heterogenous list\n",
    "l3 = [1 + 2*I, True, \"foo\", l1]  # another one\n",
    "t1 = (False, 2, 4, 'eight')      # a heterogenous tuple\n",
    "s1 = set([\"red\",\"green\",\"blue\"]) # an unordered set\n",
    "l1, l2, l3, t1, s1"
   ]
  },
  {
   "cell_type": "code",
   "execution_count": 4,
   "metadata": {},
   "outputs": [
    {
     "data": {
      "text/plain": [
       "({'blue', 'red'}, [3, 5, 7])"
      ]
     },
     "execution_count": 4,
     "metadata": {},
     "output_type": "execute_result"
    }
   ],
   "source": [
    "s2 = set([\"blue\", \"purple\", \"red\"]) # another set\n",
    "s3 = s1.intersection(s2)            # set intersection\n",
    "l4 = [2*x+1 for x in l1]            # list comprehension\n",
    "s3, l4"
   ]
  },
  {
   "cell_type": "code",
   "execution_count": 5,
   "metadata": {},
   "outputs": [
    {
     "data": {
      "text/plain": [
       "('beta',\n",
       " {'A': 'alpha', 'B': 'beta', 'D': 'delta', 'S': 'sigma'},\n",
       " <type 'dict'>)"
      ]
     },
     "execution_count": 5,
     "metadata": {},
     "output_type": "execute_result"
    }
   ],
   "source": [
    "d1 = { \"A\" : \"alpha\",   # a little dictionary\n",
    "       \"B\" : \"beta\",\n",
    "       \"S\" : \"sigma\",   # we may enter entries it in any order\n",
    "       \"D\" : \"delta\"  }\n",
    "d1[\"B\"], d1, type(d1)   # the output is ordered nonetheless"
   ]
  },
  {
   "cell_type": "code",
   "execution_count": 6,
   "metadata": {},
   "outputs": [
    {
     "data": {
      "text/plain": [
       "['First Line\\n', 'Second Line\\n']"
      ]
     },
     "execution_count": 6,
     "metadata": {},
     "output_type": "execute_result"
    }
   ],
   "source": [
    "# simple file I/O:\n",
    "filename = \"TestFile.txt\" # ends up in the notebook directory\n",
    "f = open(filename, \"w\")   # w for writing\n",
    "f.write(\"First Line\\n\")\n",
    "f.close()\n",
    "f = open(filename, \"a\")   # a for appending\n",
    "f.write(\"Second Line\\n\")\n",
    "f.close()\n",
    "\n",
    "f = open(filename, \"r\")   # r for reading\n",
    "data = []\n",
    "for line in f:\n",
    "    data.append(line)\n",
    "f.close()\n",
    "data"
   ]
  },
  {
   "cell_type": "code",
   "execution_count": null,
   "metadata": {},
   "outputs": [],
   "source": []
  }
 ],
 "metadata": {
  "kernelspec": {
   "display_name": "SageMath 8.4",
   "language": "",
   "name": "sagemath"
  },
  "language_info": {
   "codemirror_mode": {
    "name": "ipython",
    "version": 2
   },
   "file_extension": ".py",
   "mimetype": "text/x-python",
   "name": "python",
   "nbconvert_exporter": "python",
   "pygments_lexer": "ipython2",
   "version": "2.7.15"
  }
 },
 "nbformat": 4,
 "nbformat_minor": 2
}
