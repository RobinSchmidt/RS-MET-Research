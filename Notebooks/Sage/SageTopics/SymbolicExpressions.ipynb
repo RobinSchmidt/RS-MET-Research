{
 "cells": [
  {
   "cell_type": "markdown",
   "metadata": {},
   "source": [
    "# Manipulating Expressions"
   ]
  },
  {
   "cell_type": "code",
   "execution_count": null,
   "metadata": {},
   "outputs": [],
   "source": []
  },
  {
   "cell_type": "markdown",
   "metadata": {},
   "source": [
    "see here:\n",
    "http://localhost:8888/kernelspecs/sagemath/doc/reference/calculus/sage/symbolic/expression.html  \n",
    "arguments, coefficient, coefficients, collect, collect_common_factors, \n",
    "combine, denominator, distribute, expand_log, expand_rational, expand_sum,\n",
    "expand_trig, factor, factor_list"
   ]
  },
  {
   "cell_type": "markdown",
   "metadata": {},
   "source": [
    "\n",
    "# Solving Equations\n"
   ]
  },
  {
   "cell_type": "code",
   "execution_count": 2,
   "metadata": {},
   "outputs": [
    {
     "data": {
      "text/plain": [
       "[x == -(d*y - b)/(c*y - a)]"
      ]
     },
     "execution_count": 2,
     "metadata": {},
     "output_type": "execute_result"
    }
   ],
   "source": [
    "# solve equation y = (a*x+b)/(c*x+d) for x:\n",
    "var(\"a b c d x y\")  # x is actually predefined in sage\n",
    "solve(y == (a*x+b)/(c*x+d), x)"
   ]
  },
  {
   "cell_type": "code",
   "execution_count": 3,
   "metadata": {},
   "outputs": [
    {
     "data": {
      "text/plain": [
       "[[a == -(r*t - q*u)/(q*s - p*t), b == (r*s - p*u)/(q*s - p*t)]]"
      ]
     },
     "execution_count": 3,
     "metadata": {},
     "output_type": "execute_result"
    }
   ],
   "source": [
    "# solve a system of 2 equations:\n",
    "var(\"a b x y p q r s t u\")\n",
    "f(x,y) = a*x + b*y       # define bivariate model function\n",
    "eq1 = f(p,q) == r        # 1st requirement\n",
    "eq2 = f(s,t) == u        # 2nd requirement\n",
    "solve([eq1,eq2],[a,b])   # find model parameters a,b"
   ]
  },
  {
   "cell_type": "markdown",
   "metadata": {},
   "source": [
    "# Polynomials"
   ]
  },
  {
   "cell_type": "code",
   "execution_count": 39,
   "metadata": {},
   "outputs": [
    {
     "data": {
      "text/plain": [
       "x |--> k*x^3 - k*x^2*x1 - k*x^2*x2 + k*x*x1*x2 - k*x^2*x3 + k*x*x1*x3 + k*x*x2*x3 - k*x1*x2*x3"
      ]
     },
     "execution_count": 39,
     "metadata": {},
     "output_type": "execute_result"
    }
   ],
   "source": [
    "# expansion of polynomial given in product form with symbolic roots:\n",
    "reset()                         # reset all variable definitions\n",
    "var(\"x k x1 x2 x3\")             # x, scale factor and roots\n",
    "f(x) = k*(x-x1)*(x-x2)*(x-x3)   # define polynomial in product form\n",
    "fe = expand(f); fe              # expand to sum/coefficient form"
   ]
  },
  {
   "cell_type": "code",
   "execution_count": 5,
   "metadata": {},
   "outputs": [
    {
     "data": {
      "text/plain": [
       "x |--> k*(x - x1)*(x - x2)*(x - x3)"
      ]
     },
     "execution_count": 5,
     "metadata": {},
     "output_type": "execute_result"
    }
   ],
   "source": [
    "# factor it again:\n",
    "factor(fe)"
   ]
  },
  {
   "cell_type": "markdown",
   "metadata": {},
   "source": [
    "# Sums and Products "
   ]
  },
  {
   "cell_type": "code",
   "execution_count": 22,
   "metadata": {},
   "outputs": [
    {
     "data": {
      "text/plain": [
       "1/6*(2*n + 1)*(n + 1)*n"
      ]
     },
     "execution_count": 22,
     "metadata": {},
     "output_type": "execute_result"
    }
   ],
   "source": [
    "# sum of the first n squares:\n",
    "var(\"k, n\")\n",
    "sum(k^2, k, 1, n).factor()"
   ]
  },
  {
   "cell_type": "code",
   "execution_count": 27,
   "metadata": {},
   "outputs": [
    {
     "data": {
      "text/plain": [
       "1/6*pi^2"
      ]
     },
     "execution_count": 27,
     "metadata": {},
     "output_type": "execute_result"
    }
   ],
   "source": [
    "# infinite sum over 1/k^2, a famous result by Euler, \n",
    "# equals Riemann's zeta function at s=2:\n",
    "sum(1/k^2, k, 1, oo)"
   ]
  },
  {
   "cell_type": "code",
   "execution_count": 31,
   "metadata": {},
   "outputs": [
    {
     "data": {
      "text/plain": [
       "-a/(q - 1)"
      ]
     },
     "execution_count": 31,
     "metadata": {},
     "output_type": "execute_result"
    }
   ],
   "source": [
    "# Geometric series:\n",
    "var(\"a, q, k, n\")\n",
    "assume(abs(q) < 1)     # sum diverges for |q| >= 1\n",
    "sum(a*q^k, k, 0, oo)\n",
    "# maybe we should reset the assumption via forget()?"
   ]
  },
  {
   "cell_type": "code",
   "execution_count": 42,
   "metadata": {},
   "outputs": [],
   "source": [
    "#var(\"n\")\n",
    "#prod((2*n)^2/((2*n-1)*(2*n+1)) , n, 1, oo)\n",
    "# this is the Wallis product and equals pi/2\n",
    "# https://en.wikipedia.org/wiki/Wallis_product\n",
    "# hmm...infinite products don't seem to work\n",
    "# maybe the can be transformed into a sum by taking the log\n",
    "# and exponentiate the result like here:\n",
    "# https://ask.sagemath.org/question/9047/symbolic-product-in-sage/"
   ]
  },
  {
   "cell_type": "markdown",
   "metadata": {},
   "source": [
    "# Limits, Derivatives and Integrals"
   ]
  },
  {
   "cell_type": "code",
   "execution_count": 33,
   "metadata": {},
   "outputs": [
    {
     "data": {
      "text/plain": [
       "(-Infinity, +Infinity)"
      ]
     },
     "execution_count": 33,
     "metadata": {},
     "output_type": "execute_result"
    }
   ],
   "source": [
    "f(x) = 1/x                              # f has a pole at x=0\n",
    "limL = limit(f(x), x = 0, dir='minus')  # limit, approaching the pole from left\n",
    "limR = limit(f(x), x = 0, dir='plus')   # limit, approaching the pole from right\n",
    "limL, limR"
   ]
  },
  {
   "cell_type": "code",
   "execution_count": 35,
   "metadata": {},
   "outputs": [
    {
     "data": {
      "text/plain": [
       "Infinity"
      ]
     },
     "execution_count": 35,
     "metadata": {},
     "output_type": "execute_result"
    }
   ],
   "source": [
    "limit(f(x), x = 0)   # by default, the limit is approached from right"
   ]
  },
  {
   "cell_type": "code",
   "execution_count": null,
   "metadata": {},
   "outputs": [],
   "source": []
  },
  {
   "cell_type": "markdown",
   "metadata": {},
   "source": [
    "# Series Expansions"
   ]
  },
  {
   "cell_type": "code",
   "execution_count": 21,
   "metadata": {},
   "outputs": [
    {
     "data": {
      "text/plain": [
       "1/720*(x - 1)^6*e + 1/120*(x - 1)^5*e + 1/24*(x - 1)^4*e + 1/6*(x - 1)^3*e + 1/2*(x - 1)^2*e + (x - 1)*e + e"
      ]
     },
     "execution_count": 21,
     "metadata": {},
     "output_type": "execute_result"
    }
   ],
   "source": [
    "# Taylor series expansion of exponential function:\n",
    "taylor(exp(x),x,1,6) # 6th order taylor polynomial of e^x around x=1"
   ]
  },
  {
   "cell_type": "code",
   "execution_count": null,
   "metadata": {},
   "outputs": [],
   "source": [
    "# Fourier series expansion of sawtooth function"
   ]
  },
  {
   "cell_type": "code",
   "execution_count": 19,
   "metadata": {},
   "outputs": [
    {
     "data": {
      "text/plain": [
       "(1/3*z^3 + 3*z^2 + 12*z + 20)/(z^2 - 8*z + 20)"
      ]
     },
     "execution_count": 19,
     "metadata": {},
     "output_type": "execute_result"
    }
   ],
   "source": [
    "# Pade approximation, Laurent series, maybe expansion in Chebychev polynomials?\n",
    "# pade code copied from here:\n",
    "# https://trac.sagemath.org/ticket/14720\n",
    "z = PowerSeriesRing(QQ, 'z').gen() \n",
    "exp(z).pade(3,2)"
   ]
  },
  {
   "cell_type": "code",
   "execution_count": 3,
   "metadata": {},
   "outputs": [
    {
     "name": "stdout",
     "output_type": "stream",
     "text": [
      "[[1, 0], [1, 1], [1/2, 2], [1/6, 3], [1/24, 4], [1/120, 5], [1/720, 6], [1/5040, 7], [1/40320, 8], [1/362880, 9], [1/3628800, 10], [1/39916800, 11], [1/479001600, 12], [1/6227020800, 13], [1/87178291200, 14], [1/1307674368000, 15], [1/20922789888000, 16], [1/355687428096000, 17], [1/6402373705728000, 18]]\n"
     ]
    },
    {
     "data": {
      "text/plain": [
       "(e^x,\n",
       " 1 + 1*x + 1/2*x^2 + 1/6*x^3 + 1/24*x^4 + 1/120*x^5 + 1/720*x^6 + 1/5040*x^7 + 1/40320*x^8 + 1/362880*x^9 + 1/3628800*x^10 + 1/39916800*x^11 + 1/479001600*x^12 + 1/6227020800*x^13 + 1/87178291200*x^14 + 1/1307674368000*x^15 + 1/20922789888000*x^16 + 1/355687428096000*x^17 + 1/6402373705728000*x^18 + 1/121645100408832000*x^19)"
      ]
     },
     "execution_count": 3,
     "metadata": {},
     "output_type": "execute_result"
    }
   ],
   "source": [
    "# how can we find a closed form formula for th k-th coeff in an infinite Taylor \n",
    "# expansion in terms of k - like 1/factorial(k) for exp(x)?\n",
    "f = exp(x)\n",
    "g = f.series(x==0, oo)\n",
    "print g.coefficients()\n",
    "f, g"
   ]
  },
  {
   "cell_type": "markdown",
   "metadata": {},
   "source": [
    "# Other stuff\n",
    "Compostion and iteration of functions:   \n",
    "http://doc.sagemath.org/html/en/reference/misc/sage/misc/misc.html#sage.misc.misc.compose  \n",
    "http://doc.sagemath.org/html/en/reference/misc/sage/misc/misc.html#sage.misc.misc.nest\n"
   ]
  },
  {
   "cell_type": "code",
   "execution_count": null,
   "metadata": {},
   "outputs": [],
   "source": []
  }
 ],
 "metadata": {
  "kernelspec": {
   "display_name": "SageMath 8.4",
   "language": "",
   "name": "sagemath"
  },
  "language_info": {
   "codemirror_mode": {
    "name": "ipython",
    "version": 2
   },
   "file_extension": ".py",
   "mimetype": "text/x-python",
   "name": "python",
   "nbconvert_exporter": "python",
   "pygments_lexer": "ipython2",
   "version": "2.7.15"
  }
 },
 "nbformat": 4,
 "nbformat_minor": 1
}
