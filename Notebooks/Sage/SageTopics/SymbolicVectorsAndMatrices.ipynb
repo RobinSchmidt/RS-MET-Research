{
 "cells": [
  {
   "cell_type": "code",
   "execution_count": 1,
   "metadata": {},
   "outputs": [
    {
     "data": {
      "text/plain": [
       "(\n",
       "               [a b]                                            \n",
       "        [a b]  [c d]  [a c e]                                   \n",
       "(x, y), [c d], [e f], [b d f], (a*x + b*y, c*x + d*y, e*x + f*y)\n",
       ")"
      ]
     },
     "execution_count": 1,
     "metadata": {},
     "output_type": "execute_result"
    }
   ],
   "source": [
    "var(\"a b c d e f x y\")        # we want symbolic vectors and matrices\n",
    "v = vector([x, y])            # init vector with a list\n",
    "A = matrix([[a, b], [c, d]])  # init matrix with a list of lists\n",
    "B = matrix([[a, b], [c, d], [e, f]]) \n",
    "C = B.transpose()\n",
    "v, A, B, C, B*v"
   ]
  },
  {
   "cell_type": "code",
   "execution_count": 2,
   "metadata": {},
   "outputs": [
    {
     "data": {
      "text/plain": [
       "sqrt(abs(x)^2 + abs(y)^2)"
      ]
     },
     "execution_count": 2,
     "metadata": {},
     "output_type": "execute_result"
    }
   ],
   "source": [
    "norm(v)                       # norm of v"
   ]
  },
  {
   "cell_type": "code",
   "execution_count": 3,
   "metadata": {},
   "outputs": [
    {
     "data": {
      "text/plain": [
       "(a*x + b*y)*x + (c*x + d*y)*y"
      ]
     },
     "execution_count": 3,
     "metadata": {},
     "output_type": "execute_result"
    }
   ],
   "source": [
    "v.dot_product(A*v)            # dot product of v with A*v"
   ]
  },
  {
   "cell_type": "code",
   "execution_count": 4,
   "metadata": {},
   "outputs": [
    {
     "data": {
      "text/plain": [
       "((a*x + b*y, c*x + d*y, e*x + f*y), (0, 0, 0))"
      ]
     },
     "execution_count": 4,
     "metadata": {},
     "output_type": "execute_result"
    }
   ],
   "source": [
    "w = B*v                       # w is 3 dimensional\n",
    "w, w.cross_product(w)         # needs 3 or 7 dimensional vectors"
   ]
  },
  {
   "cell_type": "code",
   "execution_count": 5,
   "metadata": {},
   "outputs": [
    {
     "data": {
      "text/plain": [
       "-b*c + a*d"
      ]
     },
     "execution_count": 5,
     "metadata": {},
     "output_type": "execute_result"
    }
   ],
   "source": [
    "det(A)                        # determinant of A"
   ]
  },
  {
   "cell_type": "code",
   "execution_count": 6,
   "metadata": {},
   "outputs": [
    {
     "data": {
      "text/plain": [
       "(\n",
       "[a^2 + b*c a*b + b*d]\n",
       "[a*c + c*d b*c + d^2],\n",
       "\n",
       "[(a^2 + b*c)*a + (a*b + b*d)*c (a^2 + b*c)*b + (a*b + b*d)*d]\n",
       "[(a*c + c*d)*a + (b*c + d^2)*c (a*c + c*d)*b + (b*c + d^2)*d]\n",
       ")"
      ]
     },
     "execution_count": 6,
     "metadata": {},
     "output_type": "execute_result"
    }
   ],
   "source": [
    "A^2, A^3                      # powers of A         "
   ]
  },
  {
   "cell_type": "code",
   "execution_count": 7,
   "metadata": {},
   "outputs": [
    {
     "data": {
      "text/plain": [
       "[1/a - b*c/(a^2*(b*c/a - d))           b/(a*(b*c/a - d))]\n",
       "[          c/(a*(b*c/a - d))              -1/(b*c/a - d)]"
      ]
     },
     "execution_count": 7,
     "metadata": {},
     "output_type": "execute_result"
    }
   ],
   "source": [
    "A^-1                          # inverse matrix, 1/A, A.inverse() would also work"
   ]
  },
  {
   "cell_type": "code",
   "execution_count": 8,
   "metadata": {},
   "outputs": [
    {
     "data": {
      "text/plain": [
       "[1/2*a + 1/2*d - 1/2*sqrt(a^2 + 4*b*c - 2*a*d + d^2),\n",
       " 1/2*a + 1/2*d + 1/2*sqrt(a^2 + 4*b*c - 2*a*d + d^2)]"
      ]
     },
     "execution_count": 8,
     "metadata": {},
     "output_type": "execute_result"
    }
   ],
   "source": [
    "A.eigenvalues()               # values such that A*x = l*x, l is the eigenvalue"
   ]
  },
  {
   "cell_type": "code",
   "execution_count": 15,
   "metadata": {},
   "outputs": [
    {
     "data": {
      "text/plain": [
       "[(1/2*a + 1/2*d - 1/2*sqrt(a^2 + 4*b*c - 2*a*d + d^2),\n",
       "  [(1, -1/2*(a - d + sqrt(a^2 + 4*b*c - 2*a*d + d^2))/c)],\n",
       "  1),\n",
       " (1/2*a + 1/2*d + 1/2*sqrt(a^2 + 4*b*c - 2*a*d + d^2),\n",
       "  [(1, -1/2*(a - d - sqrt(a^2 + 4*b*c - 2*a*d + d^2))/c)],\n",
       "  1)]"
      ]
     },
     "execution_count": 15,
     "metadata": {},
     "output_type": "execute_result"
    }
   ],
   "source": [
    "A.eigenvectors_left()\n",
    "# The output is a bit hard to decypher - it has the following format:\n",
    "# [(l1,v1,m1),(l2,v2,m2)] where li is the i-th eigenvalue, vi the corresponding\n",
    "# eigenvector and mi its multiplicity. The vi themselves are the in the format\n",
    "# vi = [(vi1,vi2,...)] - it looks a bit messy...."
   ]
  },
  {
   "cell_type": "code",
   "execution_count": 18,
   "metadata": {},
   "outputs": [
    {
     "data": {
      "text/plain": [
       "[(1/2*a + 1/2*d - 1/2*sqrt(a^2 + 4*b*c - 2*a*d + d^2),\n",
       "  [(1, -1/2*(a - d + sqrt(a^2 + 4*b*c - 2*a*d + d^2))/b)],\n",
       "  1),\n",
       " (1/2*a + 1/2*d + 1/2*sqrt(a^2 + 4*b*c - 2*a*d + d^2),\n",
       "  [(1, -1/2*(a - d - sqrt(a^2 + 4*b*c - 2*a*d + d^2))/b)],\n",
       "  1)]"
      ]
     },
     "execution_count": 18,
     "metadata": {},
     "output_type": "execute_result"
    }
   ],
   "source": [
    "A.eigenvectors_right()\n",
    "# More typically, we want the right eigenvectors such that A*x = l*x whereas\n",
    "# the left eigenvectors satisfy x*A = l*x where l is the eigenvalue (l for lambda\n",
    "# which is commonly used) - the eigenvalues are the same for left and right but \n",
    "# the eigenvectors are generally not"
   ]
  },
  {
   "cell_type": "code",
   "execution_count": 55,
   "metadata": {},
   "outputs": [
    {
     "data": {
      "text/plain": [
       "t^2 + (-a - d)*t - b*c + a*d"
      ]
     },
     "execution_count": 55,
     "metadata": {},
     "output_type": "execute_result"
    }
   ],
   "source": [
    "cp = A.charpoly(\"t\"); cp      # chareteristic polynomial, using t as variable"
   ]
  },
  {
   "cell_type": "code",
   "execution_count": 56,
   "metadata": {},
   "outputs": [
    {
     "data": {
      "text/plain": [
       "[0 0]\n",
       "[0 0]"
      ]
     },
     "execution_count": 56,
     "metadata": {},
     "output_type": "execute_result"
    }
   ],
   "source": [
    "# evaluating the characteristic polynomial with the matrix itself\n",
    "# as agrument yields the zero matrix - always:\n",
    "cp(A) "
   ]
  },
  {
   "cell_type": "code",
   "execution_count": 57,
   "metadata": {},
   "outputs": [
    {
     "data": {
      "text/plain": [
       "[1/2*a + 1/2*d, 2]"
      ]
     },
     "execution_count": 57,
     "metadata": {},
     "output_type": "execute_result"
    }
   ],
   "source": [
    "cp.roots()                   # roots of characteristic polynomial - eigenvalues\n",
    "# but something is wrong - the 2nd value is constant 2 but should depend\n",
    "# on a,b,c,d"
   ]
  },
  {
   "cell_type": "code",
   "execution_count": 58,
   "metadata": {},
   "outputs": [],
   "source": [
    "_ = exp(A)                   # matrix exponential - we don't want to see it"
   ]
  },
  {
   "cell_type": "code",
   "execution_count": 59,
   "metadata": {},
   "outputs": [
    {
     "data": {
      "text/plain": [
       "[1/2*((a^2*e^(1/2*a) + 4*b*c*e^(1/2*a) - 2*a*d*e^(1/2*a) + d^2*e^(1/2*a))*e^(1/2*d) + (a^2*e^(1/2*a) + 4*b*c*e^(1/2*a) - 2*a*d*e^(1/2*a) + d^2*e^(1/2*a))*e^(1/2*d + sqrt(a^2 + 4*b*c - 2*a*d + d^2)) - sqrt(a^2 + 4*b*c - 2*a*d + d^2)*((a*e^(1/2*a) - d*e^(1/2*a))*e^(1/2*d) - (a*e^(1/2*a) - d*e^(1/2*a))*e^(1/2*d + sqrt(a^2 + 4*b*c - 2*a*d + d^2))))*e^(-1/2*sqrt(a^2 + 4*b*c - 2*a*d + d^2))/(a^2 + 4*b*c - 2*a*d + d^2)                                                                                                                                                                                                                                                                         (b*e^(1/2*a + 1/2*d + sqrt(a^2 + 4*b*c - 2*a*d + d^2)) - b*e^(1/2*a + 1/2*d))*e^(-1/2*sqrt(a^2 + 4*b*c - 2*a*d + d^2))/sqrt(a^2 + 4*b*c - 2*a*d + d^2)]\n",
       "[                                                                                                                                                                                                                                                                        (c*e^(1/2*a + 1/2*d + sqrt(a^2 + 4*b*c - 2*a*d + d^2)) - c*e^(1/2*a + 1/2*d))*e^(-1/2*sqrt(a^2 + 4*b*c - 2*a*d + d^2))/sqrt(a^2 + 4*b*c - 2*a*d + d^2) 1/2*((a^2*e^(1/2*a) + 4*b*c*e^(1/2*a) - 2*a*d*e^(1/2*a) + d^2*e^(1/2*a))*e^(1/2*d) + (a^2*e^(1/2*a) + 4*b*c*e^(1/2*a) - 2*a*d*e^(1/2*a) + d^2*e^(1/2*a))*e^(1/2*d + sqrt(a^2 + 4*b*c - 2*a*d + d^2)) + sqrt(a^2 + 4*b*c - 2*a*d + d^2)*((a*e^(1/2*a) - d*e^(1/2*a))*e^(1/2*d) - (a*e^(1/2*a) - d*e^(1/2*a))*e^(1/2*d + sqrt(a^2 + 4*b*c - 2*a*d + d^2))))*e^(-1/2*sqrt(a^2 + 4*b*c - 2*a*d + d^2))/(a^2 + 4*b*c - 2*a*d + d^2)]"
      ]
     },
     "execution_count": 59,
     "metadata": {},
     "output_type": "execute_result"
    }
   ],
   "source": [
    "_                            # ...or do we? uuhh...that's ugly!"
   ]
  },
  {
   "cell_type": "code",
   "execution_count": 60,
   "metadata": {},
   "outputs": [],
   "source": [
    "#sin(A) # that doesn't work - but maybe we can create it from the exponential"
   ]
  },
  {
   "cell_type": "markdown",
   "metadata": {},
   "source": [
    "maybe create a 2x3 matrix B, demonstrate transpose, create a 3D vector w\n",
    "out of v by multiplying with 3x2 matrix, compute eigenvectors, inverse,\n",
    "pseudoinverse, maybe show also how to use numeric matrices, compute compound\n",
    "rotation matrix symbolically (in terms of Euler angles ax, ay, az)\n",
    "see:  \n",
    "http://localhost:8888/kernelspecs/sagemath/doc/reference/matrices/sage/matrix/matrix_symbolic_dense.html"
   ]
  },
  {
   "cell_type": "code",
   "execution_count": 61,
   "metadata": {},
   "outputs": [],
   "source": [
    "#var(\"t\")\n",
    "#solve([cp == 0], [t])"
   ]
  },
  {
   "cell_type": "code",
   "execution_count": 65,
   "metadata": {},
   "outputs": [
    {
     "data": {
      "text/plain": [
       "(\n",
       "[ a  b| a  b]                                   \n",
       "[ c  d| c  d]                                   \n",
       "[-----+-----]                                   \n",
       "[ a  b|-a -b]                                   \n",
       "[ c  d|-c -d], 4*b^2*c^2 - 8*a*b*c*d + 4*a^2*d^2\n",
       ")"
      ]
     },
     "execution_count": 65,
     "metadata": {},
     "output_type": "execute_result"
    }
   ],
   "source": [
    "A2 = block_matrix([[A, A],[A, -A]]); \n",
    "A2, det(A2)"
   ]
  },
  {
   "cell_type": "code",
   "execution_count": 1,
   "metadata": {},
   "outputs": [
    {
     "data": {
      "text/plain": [
       "((cos(2*pi*t), sin(2*pi*t)),\n",
       " (-2*pi*sin(2*pi*t), 2*pi*cos(2*pi*t)),\n",
       " (-4*pi^2*cos(2*pi*t), -4*pi^2*sin(2*pi*t)),\n",
       " (6.12323399573677e-17, 1.00000000000000))"
      ]
     },
     "execution_count": 1,
     "metadata": {},
     "output_type": "execute_result"
    }
   ],
   "source": [
    "# 2D vector valued function with scalar input (curve in the plane)\n",
    "var(\"t\")\n",
    "r = vector((cos(2*pi*t), sin(2*pi*t))) # position as function of t\n",
    "v = r.diff(t)                          # velocity\n",
    "a = v.diff(t)                          # acceleration\n",
    "r, v, a, n(r(t=0.25))                  # print, evaluate numerically"
   ]
  },
  {
   "cell_type": "markdown",
   "metadata": {},
   "source": [
    "maybe move this into a new file VectorCalculus see:  \n",
    "http://doc.sagemath.org/html/en/prep/Quickstarts/Multivariable-Calculus.html\n",
    "http://doc.sagemath.org/html/en/reference/manifolds/sage/manifolds/operators.html"
   ]
  },
  {
   "cell_type": "code",
   "execution_count": null,
   "metadata": {},
   "outputs": [],
   "source": []
  }
 ],
 "metadata": {
  "kernelspec": {
   "display_name": "SageMath 8.4",
   "language": "",
   "name": "sagemath"
  },
  "language_info": {
   "codemirror_mode": {
    "name": "ipython",
    "version": 2
   },
   "file_extension": ".py",
   "mimetype": "text/x-python",
   "name": "python",
   "nbconvert_exporter": "python",
   "pygments_lexer": "ipython2",
   "version": "2.7.15"
  }
 },
 "nbformat": 4,
 "nbformat_minor": 2
}
