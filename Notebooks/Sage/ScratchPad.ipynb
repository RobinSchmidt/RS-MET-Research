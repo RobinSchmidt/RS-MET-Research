{
 "cells": [
  {
   "cell_type": "code",
   "execution_count": 1,
   "metadata": {},
   "outputs": [
    {
     "data": {
      "text/plain": [
       "(x |--> x^2, x |--> 1/3*x^3)"
      ]
     },
     "execution_count": 1,
     "metadata": {},
     "output_type": "execute_result"
    }
   ],
   "source": [
    "reset()\n",
    "x = var(\"x\")\n",
    "f(x) = x^2\n",
    "#f(x) = x / sqrt(x^4 + 10*x^2 - 96*x - 71)\n",
    "F(x) = integral(f(x), x, algorithm=\"sympy\")\n",
    "f, F"
   ]
  },
  {
   "cell_type": "code",
   "execution_count": 1,
   "metadata": {},
   "outputs": [],
   "source": [
    "reset()\n",
    "a = animate([[sin(x), taylor(sin(x), x, 0, 2*k+1)] for k in range(0, 14)], \n",
    "            xmin=-14, xmax=14, ymin=-2, ymax=2, figsize=[8, 4])   \n",
    "#a.show(); \n",
    "#a.save('path/animation.gif') // produces error"
   ]
  },
  {
   "cell_type": "code",
   "execution_count": null,
   "metadata": {},
   "outputs": [],
   "source": [
    "# maybe draw a lissajous figure, let a point trace out the path\n",
    "# and draw the trail up the point in each frame"
   ]
  },
  {
   "cell_type": "code",
   "execution_count": 5,
   "metadata": {},
   "outputs": [
    {
     "data": {
      "text/plain": [
       "(lazy list [3, 22/7, 333/106, ...],\n",
       " <type 'sage.misc.lazy_list.lazy_list_from_iterator'>)"
      ]
     },
     "execution_count": 5,
     "metadata": {},
     "output_type": "execute_result"
    }
   ],
   "source": [
    "reset()\n",
    "cf  = continued_fraction(pi)\n",
    "cnv = cf.convergents()\n",
    "#cnv.list(10)\n",
    "cnv, type(cnv)\n",
    "# see Bard, p.188 ...but what is a lazy list? how do i expand it?"
   ]
  },
  {
   "cell_type": "code",
   "execution_count": 11,
   "metadata": {},
   "outputs": [],
   "source": [
    "# trefoil knot\n",
    "reset()\n",
    "B = BraidGroup(2)\n",
    "K = Knot(B([1,1,1]))\n",
    "K\n",
    "#K.plot()\n",
    "Knot??"
   ]
  },
  {
   "cell_type": "code",
   "execution_count": null,
   "metadata": {},
   "outputs": [],
   "source": [
    "#%typeset_mode True  # does not work in sage"
   ]
  },
  {
   "cell_type": "code",
   "execution_count": 8,
   "metadata": {},
   "outputs": [
    {
     "data": {
      "text/plain": [
       "(x1, x2, x3)"
      ]
     },
     "execution_count": 8,
     "metadata": {},
     "output_type": "execute_result"
    }
   ],
   "source": [
    "reset()\n",
    "#https://ask.sagemath.org/question/7925/a-list-of-symbolic-variables/\n",
    "for i in range(1, 4): \n",
    "    var(\"x\" + str(i))\n",
    "x1, x2, x3  # these are now defined symbolic variable names"
   ]
  },
  {
   "cell_type": "code",
   "execution_count": 57,
   "metadata": {},
   "outputs": [],
   "source": [
    "# Plot of real and imaginary parts and absolute value and agrument\n",
    "# of the Riemann zeta function evaluated along the critical line\n",
    "# 1/2 * t*i\n",
    "reset()\n",
    "i  = CDF.0      # define i this way for maximum speed.\n",
    "p = Graphics();\n",
    "p += plot(lambda t: arg( zeta(0.5+t*i)), 1, 50, rgbcolor=(0.8,0,0))\n",
    "p += plot(lambda t: abs( zeta(0.5+t*i)), 1, 50, color=hue(0.7))\n",
    "p += plot(lambda t: real(zeta(0.5+t*i)), 1, 50, color=\"green\")\n",
    "p += plot(lambda t: imag(zeta(0.5+t*i)), 1, 50, color=\"black\")\n",
    "#p\n",
    "# let's export this to a wave file and listen - maybe for the abs,\n",
    "# flip every other lobe, arg is nicely sawtooth-like, imag looks also\n",
    "# inetersting"
   ]
  },
  {
   "cell_type": "markdown",
   "metadata": {},
   "source": [
    "#%quickref\n",
    "#%magic\n",
    "https://ipython.readthedocs.io/en/stable/interactive/magics.html#cell-magics"
   ]
  },
  {
   "cell_type": "code",
   "execution_count": 1,
   "metadata": {},
   "outputs": [
    {
     "name": "stdout",
     "output_type": "stream",
     "text": [
      "[2, -2]\n",
      "[2*I, -2*I]\n",
      "[I, -I]\n",
      "[1, I, -1, -I]\n",
      "[(1/2*I + 1/2)*sqrt(2), (1/2*I - 1/2)*sqrt(2), -(1/2*I + 1/2)*sqrt(2), -(1/2*I - 1/2)*sqrt(2)]\n"
     ]
    }
   ],
   "source": [
    "reset()\n",
    "#load(\"Code/Sage/rsSymbolic.sage\")\n",
    "# Returns a list with all the n nth complex roots of a given number.\n",
    "# This function works for symbolic expressions in sage. \n",
    "def nthRoots(z, n):\n",
    "    r = abs(z)^(1/n)  # radius of output\n",
    "    p = arg(z)/n      # argument/angle of first output (main branch)\n",
    "    return [r*exp(I*(p + 2*k*pi/n)) for k in [0..n-1]]\n",
    "\n",
    "print nthRoots( 4, 2)   # 2, -2\n",
    "print nthRoots(-4, 2)   # \n",
    "print nthRoots(-1, 2)   # i, -i\n",
    "print nthRoots( 1, 4)   # 1, i, -1, -i\n",
    "print nthRoots(-1, 4)   # ...is this correct?"
   ]
  },
  {
   "cell_type": "code",
   "execution_count": 3,
   "metadata": {},
   "outputs": [
    {
     "data": {
      "text/plain": [
       "[1/2*sqrt(sqrt(2) + 2) + 1/2*I*sqrt(-sqrt(2) + 2),\n",
       " 1/2*I*sqrt(sqrt(2) + 2) + 1/2*sqrt(-sqrt(2) + 2),\n",
       " 1/2*I*sqrt(sqrt(2) + 2) - 1/2*sqrt(-sqrt(2) + 2),\n",
       " -1/2*sqrt(sqrt(2) + 2) + 1/2*I*sqrt(-sqrt(2) + 2),\n",
       " e^(9/8*I*pi),\n",
       " e^(11/8*I*pi),\n",
       " e^(13/8*I*pi),\n",
       " e^(15/8*I*pi)]"
      ]
     },
     "execution_count": 3,
     "metadata": {},
     "output_type": "execute_result"
    }
   ],
   "source": [
    "reset()\n",
    "load(\"Code/Sage/rsSymbolic.sage\")\n",
    "#r = nthRoots(x, 1) \n",
    "#r = simplify_full(r)\n",
    "#simplify(r[0])\n",
    "#simplify_full(r[0])\n",
    "\n",
    "#print nthRoots(x, 1) \n",
    "#nthRoots?\n",
    "r = butterworthPrototypeZPK(4)\n",
    "r"
   ]
  },
  {
   "cell_type": "code",
   "execution_count": 78,
   "metadata": {},
   "outputs": [],
   "source": [
    "import wave  # read/write wav files\n",
    "#import winsound\n",
    "writer = wave.open(\"Test.wav\", mode=\"wb\") # wb: write, rb: read\n",
    "\n",
    "writer.setnchannels(1)\n",
    "writer.setnframes(1000)\n",
    "writer.setframerate(44100)\n",
    "writer.setsampwidth(16)\n",
    "#writer.writeframes # how is this supposed to work? what sort of data should i feed?\n",
    "writer.close()"
   ]
  },
  {
   "cell_type": "markdown",
   "metadata": {},
   "source": [
    "https://docs.python.org/3/library/wave.html  \n",
    "https://docs.python.org/3/library/winsound.html  \n",
    "https://docs.python.org/3/library/wave.html"
   ]
  },
  {
   "cell_type": "code",
   "execution_count": 50,
   "metadata": {},
   "outputs": [],
   "source": [
    "# fill blocks at number pairs which are mutually prime\n",
    "reset()\n",
    "startX = 100\n",
    "startY = 450\n",
    "numX = 50\n",
    "numY = 50\n",
    "g = Graphics()\n",
    "for i in range(startX, startX+numX):\n",
    "    for j in range(startY, startY+numY):\n",
    "        if(gcd(i,j)==1):\n",
    "            g += polygon([[i,j],[i+1,j],[i+1,j+1],[i,j+1]],\\\n",
    "                         color=\"gray\")\n",
    "#g.show()\n",
    "# maybe use a grayscale depending on the ratio between the gcd and\n",
    "# the smaller of the two numbers: grayValue = 1 - min(i,j)/gcd(i,j)\n",
    "# or something like that\n",
    "# maybe analyze the density of coprimes - looks like they make up around 50%\n",
    "# see the wolfram mathworld page...\n",
    "# maybe mark primes in red (whenever i or j is prime)\n",
    "# could there be some kind of upper limit, how lare a \"cell\" in this pattern \n",
    "# is? i mean - start at a white position and cosider all reachable places \n",
    "# without hitting a gray wall - of course - most interesting are the horizontal\n",
    "# and vertical (pseudo) lines - ther seem to be a lot of twin almost-primes\n",
    "# what about the diagonal lines - could there be a limit for their length?\n",
    "# the loop may be optimized to run oly over half of the numbers due to symmetry\n",
    "# can we viusalize it in another way that reduces the redudancy due to symmetry?\n",
    "# maybe as a triangle? \n",
    "# check the diagonal line with startX = 10000000, startY = 20000000\n",
    "# how about classifying numbers by the length of the uninterrupted \"road\" that\n",
    "# passes through them? each number would have a vertical and horizontal \"longest\n",
    "# straight road section\". some numbers also have long diagonal roads\n",
    "# it seems to be the case that there are no roads thicker than 1 - why? hmm. but \n",
    "# there are thicker white sections around (105,476),(145,495) - three circularly \n",
    "# adjacent neighbours with the same color as the field itself seem to be rare\n",
    "# at 20023 there's a quite regular white dash-dot pattern over 100000 to 10050"
   ]
  },
  {
   "cell_type": "code",
   "execution_count": 44,
   "metadata": {},
   "outputs": [
    {
     "data": {
      "text/plain": [
       "(x |--> e^x, x |--> e^x, x |--> e^x, x |--> 0)"
      ]
     },
     "execution_count": 44,
     "metadata": {},
     "output_type": "execute_result"
    }
   ],
   "source": [
    "var(\"x k\")\n",
    "f(x) = exp(x)\n",
    "f1 = diff(f)\n",
    "f2 = diff(f, 2)\n",
    "f3 = diff(f, 3)\n",
    "fk = diff(f, k) # i'd like to get the *expression* 1/factorial(k) here\n",
    "#s = f.series(x==0, oo)\n",
    "#print s.coefficient(2)  // huh? gives x |--> 0\n",
    "f1, f2, f3, fk # fk says also x |--> 0 ...why?"
   ]
  },
  {
   "cell_type": "code",
   "execution_count": 30,
   "metadata": {},
   "outputs": [],
   "source": [
    "diff?"
   ]
  },
  {
   "cell_type": "markdown",
   "metadata": {},
   "source": [
    "Weitz zu Taylorreihen:\n",
    "https://www.youtube.com/watch?v=5LhbURL-_Ts\n",
    "https://www.youtube.com/watch?v=pcDFHkpMzYw"
   ]
  },
  {
   "cell_type": "code",
   "execution_count": 43,
   "metadata": {},
   "outputs": [
    {
     "data": {
      "text/plain": [
       "(25, 25, 25, 25, 2, 1320)"
      ]
     },
     "execution_count": 43,
     "metadata": {},
     "output_type": "execute_result"
    }
   ],
   "source": [
    "# Greatest common divisor algorithms:\n",
    "# https://en.wikipedia.org/wiki/Euclidean_algorithm#Implementations\n",
    "\n",
    "# Subtraction based algorithm (works for positive integers):\n",
    "def gcd1(a, b):\n",
    "    while a != b:\n",
    "        if b > a:\n",
    "            a, b = b, a\n",
    "        a = a - b\n",
    "    return a\n",
    "\n",
    "# another subtraction based version:\n",
    "def gcd2(a, b):\n",
    "    while a != b:\n",
    "        if a > b:\n",
    "            a = a - b\n",
    "        else:\n",
    "            b = b - a\n",
    "    return a\n",
    "\n",
    "# Modulo based algorithm (works for any integers and also for polynomials)\n",
    "# this is the most favorable implementation of all 4:\n",
    "def gcd3(a, b):\n",
    "    while b != 0:\n",
    "       # a, b = b, b % a  # concies alternative to the 3 lines below\n",
    "       t = b \n",
    "       b = a % b\n",
    "       a = t\n",
    "    return a\n",
    "\n",
    "# Recursive implementation (recursion sucks):\n",
    "def gcd4(a, b):\n",
    "    if b == 0:\n",
    "        return a\n",
    "    else:\n",
    "        return gcd4(b, a % b)\n",
    "\n",
    "# gcd3 is the preferred implementation:\n",
    "def gcd(a, b):\n",
    "    return gcd3(a, b)\n",
    "    \n",
    "def lcm(a, b):\n",
    "    return abs(a)/gcd(a,b) * abs(b)\n",
    "    \n",
    "def gcdList(arr):\n",
    "    return reduce(gcd, arr)\n",
    "\n",
    "def lcmList(arr):\n",
    "    return reduce(lcm, arr)\n",
    "\n",
    "a, b = 400, 225  # gcd is 25\n",
    "#a, b = 42, 24  # gcd is 6\n",
    "gcd1(a, b), gcd2(a, b), gcd3(a, b), gcd4(a, b),\\\n",
    "gcdList([8, 12, 18, 30]), lcmList([3, 4, 5, 6, 8, 11])"
   ]
  },
  {
   "cell_type": "code",
   "execution_count": 47,
   "metadata": {},
   "outputs": [
    {
     "data": {
      "text/plain": [
       "([0, 1, 16, 81, 256, 625, 1296, 2401, 4096, 6561, 10000, 14641],\n",
       " [1, 15, 65, 175, 369, 671, 1105, 1695, 2465, 3439, 4641],\n",
       " [14, 50, 110, 194, 302, 434, 590, 770, 974, 1202],\n",
       " [36, 60, 84, 108, 132, 156, 180, 204, 228],\n",
       " [24, 24, 24, 24, 24, 24, 24, 24],\n",
       " [0, 0, 0, 0, 0, 0, 0])"
      ]
     },
     "execution_count": 47,
     "metadata": {},
     "output_type": "execute_result"
    }
   ],
   "source": [
    "# trying to generalize from\n",
    "# https://www.youtube.com/watch?v=8qwUs87D_Ks\n",
    "# to arbitrary powers p:\n",
    "N = 12\n",
    "p = 2   # tweak the power here - ...make an interact\n",
    "c = [k^p for k in range(0,N)]\n",
    "d = [c[k+1]-c[k] for k in range(0, N-1)]\n",
    "e = [d[k+1]-d[k] for k in range(0, N-2)]\n",
    "f = [e[k+1]-e[k] for k in range(0, N-3)]\n",
    "g = [f[k+1]-f[k] for k in range(0, N-4)]\n",
    "h = [g[k+1]-g[k] for k in range(0, N-5)]\n",
    "c, d, e, f, g, h"
   ]
  },
  {
   "cell_type": "code",
   "execution_count": 40,
   "metadata": {},
   "outputs": [
    {
     "data": {
      "text/plain": [
       "(x |--> (18*x^3 + 27*x^2 + 16*x + 5)/(77*x^5 + 115*x^4 + 132*x^3 + 109*x^2 + 53*x + 20),\n",
       " x |--> (33*x^4 + 43*x^3 + 40*x^2 + 17*x + 5)/(42*x^4 + 71*x^3 + 60*x^2 + 49*x + 20),\n",
       " x |--> (75*x^4 + 114*x^3 + 100*x^2 + 66*x + 25)/(77*x^5 + 115*x^4 + 132*x^3 + 109*x^2 + 53*x + 20),\n",
       " x |--> -(9*x^4 + 28*x^3 + 20*x^2 + 32*x + 15)/(77*x^5 + 115*x^4 + 132*x^3 + 109*x^2 + 53*x + 20))"
      ]
     },
     "execution_count": 40,
     "metadata": {},
     "output_type": "execute_result"
    }
   ],
   "source": [
    "reset()\n",
    "#load(\"Code/Python/rsPolynomial.py\")\n",
    "#testRsPolynomial()\n",
    "\n",
    "# produce reference output for the operations on rational functions:\n",
    "def canonicalRational(r):\n",
    "    #n = r.normalize() # brings sums over a common denominator\n",
    "    return expand(r.numerator())/expand(r.denominator())\n",
    "\n",
    "r(x) = (1+2*x+3*x^2)/(4+5*x+6*x^2+7*x^3)\n",
    "s(x) = (5+6*x)/(5+7*x+11*x^2)\n",
    "t = canonicalRational(r*s)\n",
    "u = canonicalRational(r/s)\n",
    "v = canonicalRational(r+s)\n",
    "w = canonicalRational(r-s)\n",
    "t, u, v, w\n",
    "# todo: nesting of rationals"
   ]
  },
  {
   "cell_type": "code",
   "execution_count": 41,
   "metadata": {},
   "outputs": [
    {
     "data": {
      "text/plain": [
       "(x |--> -(5*x^3 - 4*x^2 + 3*x - 2)/(3*x + 2),\n",
       " x |--> -(3*x + 2)/(2*x - 5),\n",
       " -(259*x^3 - 90*x^2 + 377*x - 140)/(20*x^3 - 36*x^2 - 195*x + 400))"
      ]
     },
     "execution_count": 41,
     "metadata": {},
     "output_type": "execute_result"
    }
   ],
   "source": [
    "# for testing rational nesting:\n",
    "#f(x) = 2 - 3*x + 4*x^2 - 5*x^3 # f is actually just a polynomial, for the time being\n",
    "f(x) = (2-3*x+4*x^2-5*x^3)/(2+3*x)\n",
    "g(x) = (2+3*x) / (5-2*x)\n",
    "#h = (f(g(x))).expand()\n",
    "h = canonicalRational(f(g(x)))\n",
    "f, g, h"
   ]
  },
  {
   "cell_type": "code",
   "execution_count": 45,
   "metadata": {},
   "outputs": [
    {
     "data": {
      "text/plain": [
       "84"
      ]
     },
     "execution_count": 45,
     "metadata": {},
     "output_type": "execute_result"
    }
   ],
   "source": [
    "28*3\n"
   ]
  },
  {
   "cell_type": "code",
   "execution_count": 20,
   "metadata": {},
   "outputs": [
    {
     "data": {
      "text/plain": [
       "(Fraction(3, 1), 3, True, [Fraction(3, 1), Fraction(3, 1)], [3, 3], True)"
      ]
     },
     "execution_count": 20,
     "metadata": {},
     "output_type": "execute_result"
    }
   ],
   "source": [
    "# Trying to compare python integers to python Fractions and also\n",
    "# lists of them:\n",
    "# https://ask.sagemath.org/question/39717/pythons-fraction-incompatibility/\n",
    "from fractions import Fraction\n",
    "f = Fraction(int(3),int(1))  # to convert sage Integer back to python int\n",
    "i = int(3)\n",
    "fl = [f, f]\n",
    "il = [i, i]\n",
    "f, i, f == i, fl, il, fl == il\n",
    "# ...seems to work - but i get an error in rsRational when i try to compare\n",
    "# lists of fractions against lists of ints"
   ]
  },
  {
   "cell_type": "code",
   "execution_count": 26,
   "metadata": {},
   "outputs": [
    {
     "data": {
      "text/plain": [
       "(19, 24)"
      ]
     },
     "execution_count": 26,
     "metadata": {},
     "output_type": "execute_result"
    }
   ],
   "source": [
    "# adding two fractions over the lowest common multiple (optionally with \n",
    "# weights, so it can be used for subtraction, too):\n",
    "def addFractions(n1, d1, n2, d2, w1=1, w2=1):\n",
    "    g  = gcd(d1, d2)   # greatest common divisor of both denominators\n",
    "    f1 = d2 / g        # factor to multiply n1,d1 with to obtain lowest common denominator\n",
    "    f2 = d1 / g        # factor to multiply n2,d2 with\n",
    "    dr = f1 * d1       # denominator of result, equals also f2 * d2\n",
    "    nr = w1*f1*n1 + w2*f2*n2 # numerator of result\n",
    "    #print g, f1, f2\n",
    "    return nr, dr\n",
    "\n",
    "n, d = addFractions(3, 8, 5, 12) # 3/8 + 5/12 = 19/24\n",
    "n, d"
   ]
  },
  {
   "cell_type": "code",
   "execution_count": 45,
   "metadata": {},
   "outputs": [
    {
     "data": {
      "text/plain": [
       "(x |--> x^3 - 3*x^2 + 2*x + 1,\n",
       " x |--> 2*x^2 - x + 2,\n",
       " x |--> 2*x^6 - 12*x^5 + 26*x^4 - 21*x^3 - x^2 + 6*x + 3,\n",
       " x |--> 8*x^6 - 12*x^5 + 18*x^4 - 13*x^3 + 7*x^2 - 2*x + 1)"
      ]
     },
     "execution_count": 45,
     "metadata": {},
     "output_type": "execute_result"
    }
   ],
   "source": [
    "# for testing polynomial nesting:\n",
    "p(x) = 1 + 2*x - 3*x^2 + x^3\n",
    "q(x) = 2 - x + 2*x^2\n",
    "r(x) = (q(p(x))).expand()\n",
    "s(x) = (p(q(x))).expand()\n",
    "p, q, r, s"
   ]
  },
  {
   "cell_type": "code",
   "execution_count": 34,
   "metadata": {},
   "outputs": [
    {
     "data": {
      "text/plain": [
       "(21, 20, 9, 2, 3, 20, 7, 30, 0.233333333333333, 0.233333333333333)"
      ]
     },
     "execution_count": 34,
     "metadata": {},
     "output_type": "execute_result"
    }
   ],
   "source": [
    "reset()\n",
    "\n",
    "# for two fractions a/b, c/d, this computes two numbers p,q by which to \n",
    "# multiply the numerators and denominators such that we can do\n",
    "# n=(a/b)/(p/q), m=(c/d)/(p/q) such that n, m are integers that represent\n",
    "# the same pair of ratios in thes sense that (a/b)/(c/d)=n/m and these\n",
    "# integers are as small as possible (i.e. contain no common factors)\n",
    "def reductor(a, b, c, d):\n",
    "    return gcd(a,c), lcm(b,d) # p,q\n",
    "\n",
    "a, b = 21, 20  # a/b\n",
    "c, d =  9,  2  # c/d\n",
    "\n",
    "p, q = reductor(a,b,c,d) # numerator and denominator of reductor\n",
    "\n",
    "n = (a/b)/(p/q)\n",
    "m = (c/d)/(p/q)\n",
    "\n",
    "a,b,c,d, p,q, n,m, N((a/b)/(c/d)), N(n/m)"
   ]
  },
  {
   "cell_type": "code",
   "execution_count": 46,
   "metadata": {},
   "outputs": [
    {
     "data": {
      "text/plain": [
       "12"
      ]
     },
     "execution_count": 46,
     "metadata": {},
     "output_type": "execute_result"
    }
   ],
   "source": [
    "gcd(24,36)\n"
   ]
  },
  {
   "cell_type": "code",
   "execution_count": 62,
   "metadata": {},
   "outputs": [
    {
     "ename": "SyntaxError",
     "evalue": "invalid syntax (<string>, line 1)",
     "output_type": "error",
     "traceback": [
      "\u001b[0;36m  File \u001b[0;32m\"<string>\"\u001b[0;36m, line \u001b[0;32m1\u001b[0m\n\u001b[0;31m    f(x) = a0+a1*x^1+a2*x^2\u001b[0m\n\u001b[0m         ^\u001b[0m\n\u001b[0;31mSyntaxError\u001b[0m\u001b[0;31m:\u001b[0m invalid syntax\n"
     ]
    }
   ],
   "source": [
    "reset()\n",
    "\n",
    "# trying to automate the creation of symbolic polynomials and\n",
    "# rational functions:\n",
    "\n",
    "def symbPolyString(funcName, coeffsName, degree, varName=\"x\"):\n",
    "    s  = funcName\n",
    "    s += \"(\"\n",
    "    s += varName\n",
    "    s += \") = \"\n",
    "    s += coeffsName + str(0)\n",
    "    for i in range (1, degree+1):\n",
    "        s += \"+\" + coeffsName + str(i) + \"*\" + varName + \"^\" + str(i)\n",
    "    return s\n",
    "\n",
    "def defineSymbolicPolynomial(funcName, coeffsName, degree, varName=\"x\"):\n",
    "    s = symbPolyString(funcName, coeffsName, degree, varName)\n",
    "    #eval(s) # ...hhmmm...bot versions lead to syntax errors\n",
    "    #exec(s) #\n",
    "\n",
    "#p = symbPolyString(\"p\", \"a\", 5, \"t\")\n",
    "#p\n",
    "var(\"x, a0, a1, a2\")\n",
    "defineSymbolicPolynomial(\"f\", \"a\", 2, \"x\")\n",
    "\n",
    "\n",
    "    "
   ]
  },
  {
   "cell_type": "code",
   "execution_count": 15,
   "metadata": {},
   "outputs": [
    {
     "name": "stdout",
     "output_type": "stream",
     "text": [
      "Numerator Coeffcients:\n",
      "\n",
      "[[x |--> a2*c0^2 + a1*c0*d0 + a0*d0^2, x |--> 0], [x |--> 2*a2*c0*c1 + a1*c1*d0 + a1*c0*d1 + 2*a0*d0*d1, x |--> 1], [x |--> a2*c1^2 + a1*c1*d1 + a0*d1^2, x |--> 2]]\n",
      "\n",
      "Denominator Coeffcients:\n",
      "\n",
      "[[x |--> b2*c0^2 + b1*c0*d0 + b0*d0^2, x |--> 0], [x |--> 2*b2*c0*c1 + b1*c1*d0 + b1*c0*d1 + 2*b0*d0*d1, x |--> 1], [x |--> b2*c1^2 + b1*c1*d1 + b0*d1^2, x |--> 2]]\n",
      "\n"
     ]
    }
   ],
   "source": [
    "# test nesting of rational functions:\n",
    "reset()\n",
    "\n",
    "def canonicalRational(r):\n",
    "    return expand(r.numerator())/expand(r.denominator())\n",
    "\n",
    "var(\"a0, a1, a2, a3, b0, b1, b2, b3, b4\")\n",
    "var(\"c0, c1, c2, d0, d1, d2\")\n",
    "f(x) = (a0 + a1*x + a2*x^2)/(b0 + b1*x + b2*x^2)  # 2nd order outer function\n",
    "#g(x) = (c0 + c1*x + c2*x^2)/(d0 + d1*x + d2*x^2) # 2nd order inner function\n",
    "g(x) = (c0 + c1*x)/(d0 + d1*x) # 1st order inner function\n",
    "h(x) = f(g(x))\n",
    "hc = canonicalRational(h)\n",
    "hc = hc.collect(x)\n",
    "num = h.numerator()\n",
    "den = h.denominator()\n",
    "\n",
    "print \"Numerator Coefficients:\\n\"\n",
    "print str(num.coefficients(x)) + \"\\n\"\n",
    "\n",
    "print \"Denominator Coefficients:\\n\"\n",
    "print str(den.coefficients(x)) + \"\\n\"\n",
    "\n",
    "#f, g, num.coefficients(x)\n"
   ]
  },
  {
   "cell_type": "code",
   "execution_count": 1,
   "metadata": {},
   "outputs": [],
   "source": [
    "# Function with alternating derivatives at 0:\n",
    "reset()\n",
    "def f(x, n):\n",
    "    y = 0\n",
    "    for k in range(0, n+1):\n",
    "        y += (-1)^k * x^k / factorial(k)\n",
    "    return y\n",
    "\n",
    "#plot([f(x, n) for n in range(2, 10, 2)], -1, 3) # looks like e^-x - duh! it is!"
   ]
  },
  {
   "cell_type": "code",
   "execution_count": 8,
   "metadata": {},
   "outputs": [
    {
     "name": "stdout",
     "output_type": "stream",
     "text": [
      "x |--> e^(1/(abs(x)^2 - 1) + 1)\n"
     ]
    }
   ],
   "source": [
    "# Bump function - finite support and continuous derivatives of all orders\n",
    "var(\"t\")\n",
    "#g(x) = 1 / ((x-1)*(x+1))\n",
    "p = 2\n",
    "g(x) = 1 / (1-abs(x)^p)\n",
    "#f(x) = 2 / (1 + (g(x))^2 )\n",
    "f(x) = e * exp(-g(x))\n",
    "f1(x) = diff(f(x), x)\n",
    "f2(x) = diff(f1(x), x)\n",
    "assume(x <= 1)\n",
    "#fi(x) = integral(f(t), t, -1, x) # trying to obtain a sigmoid by integrating\n",
    "\n",
    "print f#, f1, f2\n",
    "\n",
    "p = Graphics()\n",
    "#p += plot(g(x), -3, 3, ymin=-2, ymax=2, color=\"blue\", detect_poles=\"show\")\n",
    "p += plot(f(x), -1, 1, ymin=0, ymax=1, color=\"blue\")\n",
    "#p += plot(f1(x), -1, 1, ymin=-1, ymax=1, color=\"green\")\n",
    "#p += plot(fi(x), -1, 1, ymin=-1, ymax=1, color=\"red\")\n",
    "#p += plot(f2(x), -1, 1, ymin=-1, ymax=1, color=\"brown\")\n",
    "#p.show()\n"
   ]
  },
  {
   "cell_type": "code",
   "execution_count": null,
   "metadata": {},
   "outputs": [],
   "source": []
  }
 ],
 "metadata": {
  "kernelspec": {
   "display_name": "SageMath 8.4",
   "language": "",
   "name": "sagemath"
  },
  "language_info": {
   "codemirror_mode": {
    "name": "ipython",
    "version": 2
   },
   "file_extension": ".py",
   "mimetype": "text/x-python",
   "name": "python",
   "nbconvert_exporter": "python",
   "pygments_lexer": "ipython2",
   "version": "2.7.15"
  }
 },
 "nbformat": 4,
 "nbformat_minor": 2
}
