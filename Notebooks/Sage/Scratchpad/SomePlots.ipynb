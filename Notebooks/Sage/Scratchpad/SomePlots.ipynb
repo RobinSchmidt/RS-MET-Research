{
 "cells": [
  {
   "cell_type": "code",
   "execution_count": 5,
   "metadata": {},
   "outputs": [
    {
     "data": {
      "application/vnd.jupyter.widget-view+json": {
       "model_id": "18b49893626148a1b0df5b19a76cd316",
       "version_major": 2,
       "version_minor": 0
      },
      "text/plain": [
       "SW50ZXJhY3RpdmUgZnVuY3Rpb24gPGZ1bmN0aW9uIHR3b0RlY2F5cyBhdCAweDZmZjUyOTMxMWI4PiB3aXRoIDMgd2lkZ2V0cwogIERlY2F5OiBUcmFuc2Zvcm1GbG9hdFNsaWRlcih2YWx1ZT3igKY=\n"
      ]
     },
     "metadata": {},
     "output_type": "display_data"
    }
   ],
   "source": [
    "@interact\n",
    "def twoDecays(Decay = slider(1,   20, 0.1, 10),\n",
    "              Ratio = slider(0.1,  1, 0.1, 0.1),\n",
    "              Mix   = slider(0,    1, 0.1, 0.7)):\n",
    "    d1 = Decay\n",
    "    d2 = Ratio*Decay\n",
    "    p = plot( (1-Mix)*exp(-x/d1)+Mix*exp(-x/d2)  , 0, 30)\n",
    "    #p.show()"
   ]
  },
  {
   "cell_type": "code",
   "execution_count": 15,
   "metadata": {},
   "outputs": [],
   "source": [
    "# Repeated convolutions of a square-pulse function with itself:\n",
    "f = piecewise([((-1/2,1/2),1)])        # define piecewise function f\n",
    "f1 = f.convolution(f)             # f1 is convolution of f with itself\n",
    "f2 = f1.convolution(f)            # f2 is convolution of f1 with f\n",
    "f3 = f2.convolution(f)            # etc.\n",
    "#plot([f,f1,f2,f3],xmin=-3,xmax=3)"
   ]
  },
  {
   "cell_type": "code",
   "execution_count": 4,
   "metadata": {},
   "outputs": [],
   "source": [
    "# Implicit plot of two conic sections\n",
    "var(\"x y\")\n",
    "eq1 = x^2/2 + y^2*2 + x*y + y + x/4 == 2 # ellipse\n",
    "eq2 = x^2   - y^2*3 + x*y + x + 2*y == 1 # hyperbola\n",
    "G = Graphics()\n",
    "G += implicit_plot(eq1, (x,-4,4),(y,-4,4)) \n",
    "G += implicit_plot(eq2, (x,-4,4),(y,-4,4)) \n",
    "#plot(G)"
   ]
  },
  {
   "cell_type": "markdown",
   "metadata": {},
   "source": [
    "Idea: to visualize a complex function w = f(z), take the magnitude r and angle p of the input z = a + b i = r * exp(i p) as parameters of a parametric surface in 3D. The 3 coordinates of the target point are x(r,p) = Re(w), y(r,p) = Im(w), z(r,p) = r or, alternatively: x(r,p) = abs(w), y(r,p) = arg(w)...or instead of x,y in the target space, use magnitude and phase there, too"
   ]
  }
 ],
 "metadata": {
  "kernelspec": {
   "display_name": "SageMath 8.4",
   "language": "",
   "name": "sagemath"
  },
  "language_info": {
   "codemirror_mode": {
    "name": "ipython",
    "version": 2
   },
   "file_extension": ".py",
   "mimetype": "text/x-python",
   "name": "python",
   "nbconvert_exporter": "python",
   "pygments_lexer": "ipython2",
   "version": "2.7.15"
  }
 },
 "nbformat": 4,
 "nbformat_minor": 2
}
