{
 "cells": [
  {
   "cell_type": "markdown",
   "metadata": {},
   "source": [
    "We want to solve a first order system of two differential equations.\n",
    "\n",
    "\n",
    "http://doc.sagemath.org/html/en/reference/calculus/sage/calculus/desolvers.html#sage.calculus.desolvers.desolve_system"
   ]
  },
  {
   "cell_type": "code",
   "execution_count": 2,
   "metadata": {},
   "outputs": [
    {
     "data": {
      "text/plain": [
       "[x(t) == ilt((laplace(x(t)^2, t, g2687) - laplace(y(t)^2, t, g2687) + x(0))/g2687, g2687, t),\n",
       " y(t) == ilt((2*laplace(x(t)*y(t), t, g2687) + y(0))/g2687, g2687, t)]"
      ]
     },
     "execution_count": 2,
     "metadata": {},
     "output_type": "execute_result"
    }
   ],
   "source": [
    "# solve a system of two first order ODEs:\n",
    "t = var('t')\n",
    "x = function('x')(t)\n",
    "y = function('y')(t)\n",
    "#de1 = diff(x,t) + y - 1 == 0\n",
    "#de2 = diff(y,t) - x + 1 == 0\n",
    "de1 = diff(x,t) == x^2 - y^2\n",
    "de2 = diff(y,t) == 2 * x * y\n",
    "desolve_system([de1, de2], [x,y])\n",
    "\n",
    "\n"
   ]
  },
  {
   "cell_type": "code",
   "execution_count": null,
   "metadata": {},
   "outputs": [],
   "source": []
  }
 ],
 "metadata": {
  "kernelspec": {
   "display_name": "SageMath 8.4",
   "language": "",
   "name": "sagemath"
  },
  "language_info": {
   "codemirror_mode": {
    "name": "ipython",
    "version": 2
   },
   "file_extension": ".py",
   "mimetype": "text/x-python",
   "name": "python",
   "nbconvert_exporter": "python",
   "pygments_lexer": "ipython2",
   "version": "2.7.15"
  }
 },
 "nbformat": 4,
 "nbformat_minor": 2
}
