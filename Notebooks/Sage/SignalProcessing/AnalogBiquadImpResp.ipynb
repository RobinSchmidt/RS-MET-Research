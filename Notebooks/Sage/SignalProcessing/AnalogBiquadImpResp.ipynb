{
 "cells": [
  {
   "cell_type": "code",
   "execution_count": 12,
   "metadata": {},
   "outputs": [
    {
     "data": {
      "text/plain": [
       "ilt((B2*s^2 + B1*s + B0)/(A2*s^2 + A1*s + A0), s, t)"
      ]
     },
     "execution_count": 12,
     "metadata": {},
     "output_type": "execute_result"
    }
   ],
   "source": [
    "# define analog biquad transfer function:\n",
    "var(\"s t A0 A1 A2 B0 B1 B2\") \n",
    "H = (B0 + B1*s + B2*s^2) / (A0 + A1*s + A2*s^2)\n",
    "\n",
    "# get impulse response by taking inverse Laplace trafo:\n",
    "h = inverse_laplace(H, s, t)\n",
    "h\n"
   ]
  },
  {
   "cell_type": "code",
   "execution_count": 9,
   "metadata": {},
   "outputs": [],
   "source": [
    "# hmm...seems like sage can't do it :-(\n",
    "# ...maybe we need to manually take the partial fraction expansion?\n",
    "# see also:\n",
    "# https://ask.sagemath.org/question/36656/how-to-find-inverse-laplace-transform/"
   ]
  },
  {
   "cell_type": "code",
   "execution_count": 29,
   "metadata": {},
   "outputs": [
    {
     "data": {
      "text/plain": [
       "-(p1^2 - p1*q1 - (p1 - q1)*q2)/((p1 - p2)*(p1 - s)) + (p2^2 - p2*q1 - (p2 - q1)*q2)/((p1 - p2)*(p2 - s)) + 1"
      ]
     },
     "execution_count": 29,
     "metadata": {},
     "output_type": "execute_result"
    }
   ],
   "source": [
    "# Let's try to give the transfer function in product form:\n",
    "var(\"s t p1 p2 q1 q2\")\n",
    "H  = ((s-q1)*(s-q2)) / ((s-p1)*(s-p2))\n",
    "Hp = H.partial_fraction(s)\n",
    "Hp"
   ]
  },
  {
   "cell_type": "code",
   "execution_count": 30,
   "metadata": {},
   "outputs": [
    {
     "data": {
      "text/plain": [
       "(p1^2 - p1*q1 - (p1 - q1)*q2)*e^(p1*t)/(p1 - p2) - (p2^2 - p2*q1 - (p2 - q1)*q2)*e^(p2*t)/(p1 - p2) + ilt(1, s, t)"
      ]
     },
     "execution_count": 30,
     "metadata": {},
     "output_type": "execute_result"
    }
   ],
   "source": [
    "Hp.inverse_laplace(s, t)"
   ]
  },
  {
   "cell_type": "code",
   "execution_count": 23,
   "metadata": {},
   "outputs": [],
   "source": [
    "# aha! that seems to work! ..almost - we still have the ilt(1,s,t)\n",
    "# in the result - but the ilt of a constant 1 should be easy\n",
    "# here are some tables:\n",
    "# https://www.rapidtables.com/math/calculus/laplace_transform.html#Laplace%20transform%20table\n",
    "# http://tutorial.math.lamar.edu/Classes/DE/Laplace_Table.aspx\n",
    "# the inverse laplace trafo of a constant is that constant times the\n",
    "# delta function ...hmmm\n",
    "# so what we get as impulse response is a sum of two exponentials\n",
    "# in order to discretize it via the impulse invariant transform, we \n",
    "# should sample it at the integers and take the z-transform of this\n",
    "# sampled function"
   ]
  },
  {
   "cell_type": "code",
   "execution_count": 32,
   "metadata": {},
   "outputs": [
    {
     "data": {
      "text/plain": [
       "(p1 - q1)*e^(p1*t)/(p1 - p2) - (p2 - q1)*e^(p2*t)/(p1 - p2)"
      ]
     },
     "execution_count": 32,
     "metadata": {},
     "output_type": "execute_result"
    }
   ],
   "source": [
    "# A strictly proper transfer function (with one zero):\n",
    "var(\"s t p1 p2 q1 q2\")\n",
    "H  = (s-q1) / ((s-p1)*(s-p2))\n",
    "Hp = H.partial_fraction(s)\n",
    "Hp.inverse_laplace(s,t)"
   ]
  },
  {
   "cell_type": "code",
   "execution_count": 33,
   "metadata": {},
   "outputs": [
    {
     "data": {
      "text/plain": [
       "e^(p1*t)/(p1 - p2) - e^(p2*t)/(p1 - p2)"
      ]
     },
     "execution_count": 33,
     "metadata": {},
     "output_type": "execute_result"
    }
   ],
   "source": [
    "# A strictly proper transfer function (with no zero):\n",
    "var(\"s t p1 p2 q1 q2\")\n",
    "H  = (1) / ((s-p1)*(s-p2))\n",
    "Hp = H.partial_fraction(s)\n",
    "Hp.inverse_laplace(s,t)"
   ]
  },
  {
   "cell_type": "code",
   "execution_count": null,
   "metadata": {},
   "outputs": [],
   "source": []
  }
 ],
 "metadata": {
  "kernelspec": {
   "display_name": "SageMath 8.4",
   "language": "",
   "name": "sagemath"
  },
  "language_info": {
   "codemirror_mode": {
    "name": "ipython",
    "version": 2
   },
   "file_extension": ".py",
   "mimetype": "text/x-python",
   "name": "python",
   "nbconvert_exporter": "python",
   "pygments_lexer": "ipython2",
   "version": "2.7.15"
  }
 },
 "nbformat": 4,
 "nbformat_minor": 2
}
