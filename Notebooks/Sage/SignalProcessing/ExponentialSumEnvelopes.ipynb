{
 "cells": [
  {
   "cell_type": "markdown",
   "metadata": {},
   "source": [
    "We consider the weighted sum of various exponential decay functions with different decay time constants which together give the total envelope. Such envelopes can be useful for extended modal synthesis in which each mode is not only a decaying sinusoid but a sinusoid with a more complex envelope."
   ]
  },
  {
   "cell_type": "code",
   "execution_count": 1,
   "metadata": {},
   "outputs": [
    {
     "data": {
      "text/plain": [
       "(t |--> (ma - 1)*e^(-a0*t) - ma*e^(-a1*t) - (md - 1)*e^(-d0*t) + md*e^(-d1*t),\n",
       " t |--> -a0*(ma - 1)*e^(-a0*t) + a1*ma*e^(-a1*t) + d0*(md - 1)*e^(-d0*t) - d1*md*e^(-d1*t),\n",
       " -((a0 - a1)*d0*d1*ma - (a0*a1 - a1*d0)*d1 - (a0*a1*d0 - a0*a1*d1)*md)/(a0*a1*d0*d1))"
      ]
     },
     "execution_count": 1,
     "metadata": {},
     "output_type": "execute_result"
    }
   ],
   "source": [
    "# symbolic variables for time, amplitude, attack-time 1, attack-time 2, \n",
    "# attack-mix, decay-time 1 decay-time 2, decay-mix:\n",
    "reset()\n",
    "var(\"t A a0 a1 ma d0 d1 md\")\n",
    "att0(t) = exp(-a0*t)  # attack function when ma = 0  \n",
    "att1(t) = exp(-a1*t)  # attack function when ma = 1\n",
    "dec0(t) = exp(-d0*t)  # decay  function when md = 0\n",
    "dec1(t) = exp(-d1*t)  # decay  function when md = 1\n",
    "att(t) = (1-ma)*att0(t) + ma*att1(t)  # attack function\n",
    "dec(t) = (1-md)*dec0(t) + md*dec1(t)  # decay  function\n",
    "env(t) = (dec(t) - att(t))            # envelope\n",
    "\n",
    "# find position of maximum:\n",
    "envP(t) = diff(env(t), t)  # env', p: \"prime\"\n",
    "assume(a0 >   0)\n",
    "assume(a1 > a0)\n",
    "assume(d0 > a1)\n",
    "assume(d1 > d0)\n",
    "assume(ma >  0)\n",
    "assume(ma-1 >  0)\n",
    "assume(md >  0)\n",
    "assume(md-1 >  0)\n",
    "#assume(ma != 0)\n",
    "eq = envP(t) == 0  \n",
    "#solve(eq,t)  # doesn't find a solution :-( - maybe 4 is too much - try 3 - only two-stage decay\n",
    "#energy = integral(env(t)*env(t), t, 0, oo)\n",
    "area = integral(env(t), t, 0, oo)\n",
    "\n",
    "env, envP, area\n",
    "\n",
    "# assign some values to the parameters and plot:\n",
    "#env1 = env.substitute(a0=1/10,a1=3/10,ma=1/4,d0=2,d1=8,md=1/2)\n",
    "#plot(-env1(t), 0, 30)"
   ]
  },
  {
   "cell_type": "code",
   "execution_count": 9,
   "metadata": {},
   "outputs": [
    {
     "ename": "NameError",
     "evalue": "name 'slider' is not defined",
     "output_type": "error",
     "traceback": [
      "\u001b[0;31m---------------------------------------------------------------------------\u001b[0m",
      "\u001b[0;31mNameError\u001b[0m                                 Traceback (most recent call last)",
      "\u001b[0;32m/opt/sagemath-8.4/local/lib/python2.7/site-packages/sage/all_cmdline.pyc\u001b[0m in \u001b[0;36m<module>\u001b[0;34m()\u001b[0m\n\u001b[1;32m      2\u001b[0m \u001b[0;31m# decay times and adjustable mix/blend factor:\u001b[0m\u001b[0;34m\u001b[0m\u001b[0;34m\u001b[0m\u001b[0m\n\u001b[1;32m      3\u001b[0m \u001b[0;34m@\u001b[0m\u001b[0minteract\u001b[0m\u001b[0;34m\u001b[0m\u001b[0m\n\u001b[0;32m----> 4\u001b[0;31m def twoDecays(Decay = slider(Integer(1),   Integer(20), RealNumber('0.1'), Integer(10)),\n\u001b[0m\u001b[1;32m      5\u001b[0m               \u001b[0mRatio\u001b[0m \u001b[0;34m=\u001b[0m \u001b[0mslider\u001b[0m\u001b[0;34m(\u001b[0m\u001b[0mRealNumber\u001b[0m\u001b[0;34m(\u001b[0m\u001b[0;34m'0.1'\u001b[0m\u001b[0;34m)\u001b[0m\u001b[0;34m,\u001b[0m  \u001b[0mInteger\u001b[0m\u001b[0;34m(\u001b[0m\u001b[0;36m1\u001b[0m\u001b[0;34m)\u001b[0m\u001b[0;34m,\u001b[0m \u001b[0mRealNumber\u001b[0m\u001b[0;34m(\u001b[0m\u001b[0;34m'0.1'\u001b[0m\u001b[0;34m)\u001b[0m\u001b[0;34m,\u001b[0m \u001b[0mRealNumber\u001b[0m\u001b[0;34m(\u001b[0m\u001b[0;34m'0.1'\u001b[0m\u001b[0;34m)\u001b[0m\u001b[0;34m)\u001b[0m\u001b[0;34m,\u001b[0m\u001b[0;34m\u001b[0m\u001b[0m\n\u001b[1;32m      6\u001b[0m               Mix   = slider(Integer(0),    Integer(1), RealNumber('0.1'), RealNumber('0.7'))):\n",
      "\u001b[0;31mNameError\u001b[0m: name 'slider' is not defined"
     ]
    }
   ],
   "source": [
    "# for a two-stage decay we mix two decaying exponentials with different\n",
    "# decay times and adjustable mix/blend factor:\n",
    "@interact\n",
    "def twoDecays(Decay = slider(1,   20, 0.1, 10),\n",
    "              Ratio = slider(0.1,  1, 0.1, 0.1),\n",
    "              Mix   = slider(0,    1, 0.1, 0.7)):\n",
    "    d1 = Decay\n",
    "    d2 = Ratio*Decay\n",
    "    p = plot( (1-Mix)*exp(-x/d1)+Mix*exp(-x/d2)  , 0, 30)\n",
    "    p.show()\n",
    "    "
   ]
  },
  {
   "cell_type": "code",
   "execution_count": 9,
   "metadata": {},
   "outputs": [
    {
     "data": {
      "text/plain": [
       "(t |--> -(md - 1)*e^(-d0*t) + md*e^(-d1*t) - e^(-a*t),\n",
       " t |--> d0*(md - 1)*e^(-d0*t) - d1*md*e^(-d1*t) + a*e^(-a*t))"
      ]
     },
     "execution_count": 9,
     "metadata": {},
     "output_type": "execute_result"
    }
   ],
   "source": [
    "# We try an envelope with one attack and two-stage decay\n",
    "reset()\n",
    "var(\"t a d0 d1 md\")\n",
    "dec0(t) = exp(-d0*t)  # decay  function when md = 0\n",
    "dec1(t) = exp(-d1*t)  # decay  function when md = 1\n",
    "dec(t) = (1-md)*dec0(t) + md*dec1(t)  # decay  function\n",
    "att(t) = exp(-a*t)                    # attack function \n",
    "env(t) = (dec(t) - att(t))            # envelope\n",
    "envP(t) = diff(env(t), t)             # env', p: \"prime\"\n",
    "env, envP\n",
    "#eq = envP(t) == 0  \n",
    "#solve(eq,t) # also no solution"
   ]
  },
  {
   "cell_type": "code",
   "execution_count": 8,
   "metadata": {},
   "outputs": [
    {
     "data": {
      "text/plain": [
       "(t |--> -e^(-a*t) + e^(-d*t), t |--> a*e^(-a*t) - d*e^(-d*t))"
      ]
     },
     "execution_count": 8,
     "metadata": {},
     "output_type": "execute_result"
    }
   ],
   "source": [
    "# PK - finally, try just a simple attack/decay shape - this actually has a \n",
    "# solution\n",
    "reset()\n",
    "var(\"t a d\")\n",
    "dec(t) = exp(-d*t)         # decay  function\n",
    "att(t) = exp(-a*t)         # attack function \n",
    "env(t) = (dec(t) - att(t)) # envelope\n",
    "envP(t) = diff(env(t), t)  # env', p: \"prime\"\n",
    "env, envP\n",
    "#eq = envP(t) == 0  \n",
    "#solve(eq,t) # sage also finds no solution - why?!\n",
    "# the solution is t = (log(d)-log(a))/(d-a)"
   ]
  },
  {
   "cell_type": "markdown",
   "metadata": {},
   "source": [
    "maybe the solution is to fix d0,d1,md,t (where t is the desired time instant of the peak) and then run a Newton iteration\n",
    "to find the attack parameter a - and maybe this procedure can be extended to two attack-parameters as well, when we define a \"major\"-attack and a minor-attack = fraction*majorAttack with given fraction. then, fraction is another (fixed) parameter and we solve the newton iteration for the major attack. i think two-stage decay is really desirable and maybe the second attack parameter could translate to some sort of attack-softness (making the shape more sigmoid?)...dunno, but seems reasonable\n",
    "...but...maybe it is futile to try to adjust the exact location of the envelope peak and we could just give the user the d0,d1,md,a0,a1,ma paremeters directly...the maybe adjust the amplitude according to an energy integral..this seems to be difficult to evaluate due to the square - but the area under the envelope function itself is easy to evaluate - maybe use that"
   ]
  },
  {
   "cell_type": "code",
   "execution_count": 5,
   "metadata": {},
   "outputs": [
    {
     "ename": "NameError",
     "evalue": "name 'slider' is not defined",
     "output_type": "error",
     "traceback": [
      "\u001b[0;31m---------------------------------------------------------------------------\u001b[0m",
      "\u001b[0;31mNameError\u001b[0m                                 Traceback (most recent call last)",
      "\u001b[0;32m/opt/sagemath-8.4/local/lib/python2.7/site-packages/sage/all_cmdline.pyc\u001b[0m in \u001b[0;36m<module>\u001b[0;34m()\u001b[0m\n\u001b[1;32m      2\u001b[0m \u001b[0;31m# decay times and adjustable mix/blend factor:\u001b[0m\u001b[0;34m\u001b[0m\u001b[0;34m\u001b[0m\u001b[0m\n\u001b[1;32m      3\u001b[0m \u001b[0;34m@\u001b[0m\u001b[0minteract\u001b[0m\u001b[0;34m\u001b[0m\u001b[0m\n\u001b[0;32m----> 4\u001b[0;31m def fourExps(Attack      = slider(RealNumber('0.1'),  Integer(5), RealNumber('0.1'), RealNumber('1.5')),\n\u001b[0m\u001b[1;32m      5\u001b[0m              \u001b[0mAttackRatio\u001b[0m \u001b[0;34m=\u001b[0m \u001b[0mslider\u001b[0m\u001b[0;34m(\u001b[0m\u001b[0mRealNumber\u001b[0m\u001b[0;34m(\u001b[0m\u001b[0;34m'0.1'\u001b[0m\u001b[0;34m)\u001b[0m\u001b[0;34m,\u001b[0m  \u001b[0mInteger\u001b[0m\u001b[0;34m(\u001b[0m\u001b[0;36m1\u001b[0m\u001b[0;34m)\u001b[0m\u001b[0;34m,\u001b[0m \u001b[0mRealNumber\u001b[0m\u001b[0;34m(\u001b[0m\u001b[0;34m'0.1'\u001b[0m\u001b[0;34m)\u001b[0m\u001b[0;34m,\u001b[0m \u001b[0mRealNumber\u001b[0m\u001b[0;34m(\u001b[0m\u001b[0;34m'0.5'\u001b[0m\u001b[0;34m)\u001b[0m\u001b[0;34m)\u001b[0m\u001b[0;34m,\u001b[0m\u001b[0;34m\u001b[0m\u001b[0m\n\u001b[1;32m      6\u001b[0m              \u001b[0mAttackMix\u001b[0m   \u001b[0;34m=\u001b[0m \u001b[0mslider\u001b[0m\u001b[0;34m(\u001b[0m\u001b[0mInteger\u001b[0m\u001b[0;34m(\u001b[0m\u001b[0;36m0\u001b[0m\u001b[0;34m)\u001b[0m\u001b[0;34m,\u001b[0m    \u001b[0mInteger\u001b[0m\u001b[0;34m(\u001b[0m\u001b[0;36m1\u001b[0m\u001b[0;34m)\u001b[0m\u001b[0;34m,\u001b[0m \u001b[0mRealNumber\u001b[0m\u001b[0;34m(\u001b[0m\u001b[0;34m'0.1'\u001b[0m\u001b[0;34m)\u001b[0m\u001b[0;34m,\u001b[0m \u001b[0mRealNumber\u001b[0m\u001b[0;34m(\u001b[0m\u001b[0;34m'0.3'\u001b[0m\u001b[0;34m)\u001b[0m\u001b[0;34m)\u001b[0m\u001b[0;34m,\u001b[0m\u001b[0;34m\u001b[0m\u001b[0m\n",
      "\u001b[0;31mNameError\u001b[0m: name 'slider' is not defined"
     ]
    }
   ],
   "source": [
    "# for a two-stage decay we mix two decaying exponentials with different\n",
    "# decay times and adjustable mix/blend factor:\n",
    "@interact\n",
    "def fourExps(Attack      = slider(0.1,  5, 0.1, 1.5),\n",
    "             AttackRatio = slider(0.1,  1, 0.1, 0.5),\n",
    "             AttackMix   = slider(0,    1, 0.1, 0.3),\n",
    "             Decay       = slider(1,   20, 0.1, 10),\n",
    "             DecayRatio  = slider(0.1,  1, 0.1, 0.1),\n",
    "             DecayMix    = slider(0,    1, 0.1, 0.1)):\n",
    "    d1  = Decay\n",
    "    d2  = DecayRatio*Decay\n",
    "    dec = (DecayMix)*exp(-x/d1)+(1-DecayMix)*exp(-x/d2)\n",
    "    a1  = Attack\n",
    "    a2  = AttackRatio*Attack\n",
    "    att = (AttackMix)*exp(-x/a1)+(1-AttackMix)*exp(-x/a2)\n",
    "    env = dec - att\n",
    "    p = plot(env, 0, 30)\n",
    "    #p.show()\n",
    "# OK - this gives a nice and flexible shape - but sometimes it can go below zero, so taking the area\n",
    "# for normalization may not be good idea because negative and postive areas may cancel\n",
    "# maybe the attack time should be defined as a fraction of the decay time"
   ]
  },
  {
   "cell_type": "code",
   "execution_count": 4,
   "metadata": {},
   "outputs": [
    {
     "data": {
      "text/plain": [
       "(t |--> A*e^(a*t) + B*e^(b*t) - C*e^(c*t) - D*e^(d*t),\n",
       " t |--> (A*e^(a*t) + B*e^(b*t) - C*e^(c*t) - D*e^(d*t))^2,\n",
       " -1/2*((D^2*a^3*b^2 + D^2*a^2*b^3)*c^4 + (C^2*a^3*b^2 + C^2*a^2*b^3 + (B^2*a^2 + A^2*b^2 + (A^2 + 4*A*B + B^2)*a*b)*c^3 + (B^2*a^3 + A^2*b^3 + (A^2 + 4*A*B + 2*B^2 - 4*(A + B)*C + C^2)*a^2*b + (2*A^2 + 4*A*B + B^2 - 4*(A + B)*C + C^2)*a*b^2)*c^2 + ((B^2 - 4*B*C + C^2)*a^3*b + (A^2 + 4*A*B + B^2 - 4*(A + B)*C + 2*C^2)*a^2*b^2 + (A^2 - 4*A*C + C^2)*a*b^3)*c)*d^4 + (D^2*a^4*b^2 + 2*D^2*a^3*b^3 + D^2*a^2*b^4)*c^3 + (C^2*a^4*b^2 + 2*C^2*a^3*b^3 + C^2*a^2*b^4 + (B^2*a^2 + A^2*b^2 + (A^2 + 4*A*B + B^2)*a*b)*c^4 + (2*B^2*a^3 + 2*A^2*b^3 + (2*A^2 + 8*A*B + 4*B^2 - 4*(A + B)*C + C^2 - 4*(A + B - C)*D + D^2)*a^2*b + (4*A^2 + 8*A*B + 2*B^2 - 4*(A + B)*C + C^2 - 4*(A + B - C)*D + D^2)*a*b^2)*c^3 + (B^2*a^4 + A^2*b^4 + (A^2 + 4*A*B + 4*B^2 - 4*(A + 2*B)*C + 2*C^2 - 4*(A + B - C)*D + D^2)*a^3*b + 2*(2*A^2 + 6*A*B + 2*B^2 - 6*(A + B)*C + 2*C^2 - 4*(A + B - C)*D + D^2)*a^2*b^2 + (4*A^2 + 4*A*B + B^2 - 4*(2*A + B)*C + 2*C^2 - 4*(A + B - C)*D + D^2)*a*b^3)*c^2 + ((B^2 - 4*B*C + C^2)*a^4*b + (A^2 + 4*A*B + 2*B^2 - 4*(A + 2*B)*C + 4*C^2 - 4*(A + B - C)*D + D^2)*a^3*b^2 + (2*A^2 + 4*A*B + B^2 - 4*(2*A + B)*C + 4*C^2 - 4*(A + B - C)*D + D^2)*a^2*b^3 + (A^2 - 4*A*C + C^2)*a*b^4)*c)*d^3 + (D^2*a^4*b^3 + D^2*a^3*b^4)*c^2 + (C^2*a^4*b^3 + C^2*a^3*b^4 + (B^2*a^3 + A^2*b^3 + (A^2 + 4*A*B + 2*B^2 - 4*(A + B)*D + D^2)*a^2*b + (2*A^2 + 4*A*B + B^2 - 4*(A + B)*D + D^2)*a*b^2)*c^4 + (B^2*a^4 + A^2*b^4 + (A^2 + 4*A*B + 4*B^2 - 4*(A + B)*C + C^2 - 4*(A + 2*B - C)*D + 2*D^2)*a^3*b + 2*(2*A^2 + 6*A*B + 2*B^2 - 4*(A + B)*C + C^2 - 2*(3*A + 3*B - 2*C)*D + 2*D^2)*a^2*b^2 + (4*A^2 + 4*A*B + B^2 - 4*(A + B)*C + C^2 - 4*(2*A + B - C)*D + 2*D^2)*a*b^3)*c^3 + ((2*B^2 - 4*B*C + C^2 - 4*(B - C)*D + D^2)*a^4*b + 2*(A^2 + 4*A*B + 2*B^2 - 2*(2*A + 3*B)*C + 2*C^2 - 2*(2*A + 3*B - 3*C)*D + 2*D^2)*a^3*b^2 + 2*(2*A^2 + 4*A*B + B^2 - 2*(3*A + 2*B)*C + 2*C^2 - 2*(3*A + 2*B - 3*C)*D + 2*D^2)*a^2*b^3 + (2*A^2 - 4*A*C + C^2 - 4*(A - C)*D + D^2)*a*b^4)*c^2 + ((B^2 - 4*B*C + 2*C^2 - 4*(B - C)*D + D^2)*a^4*b^2 + (A^2 + 4*A*B + B^2 - 4*(A + B)*C + 4*C^2 - 4*(A + B - 2*C)*D + 2*D^2)*a^3*b^3 + (A^2 - 4*A*C + 2*C^2 - 4*(A - C)*D + D^2)*a^2*b^4)*c)*d^2 + (((B^2 - 4*B*D + D^2)*a^3*b + (A^2 + 4*A*B + B^2 - 4*(A + B)*D + 2*D^2)*a^2*b^2 + (A^2 - 4*A*D + D^2)*a*b^3)*c^4 + ((B^2 - 4*B*D + D^2)*a^4*b + (A^2 + 4*A*B + 2*B^2 - 4*(A + B)*C + C^2 - 4*(A + 2*B - C)*D + 4*D^2)*a^3*b^2 + (2*A^2 + 4*A*B + B^2 - 4*(A + B)*C + C^2 - 4*(2*A + B - C)*D + 4*D^2)*a^2*b^3 + (A^2 - 4*A*D + D^2)*a*b^4)*c^3 + ((B^2 - 4*B*C + C^2 - 4*(B - C)*D + 2*D^2)*a^4*b^2 + (A^2 + 4*A*B + B^2 - 4*(A + B)*C + 2*C^2 - 4*(A + B - 2*C)*D + 4*D^2)*a^3*b^3 + (A^2 - 4*A*C + C^2 - 4*(A - C)*D + 2*D^2)*a^2*b^4)*c^2 + ((C^2 + 4*C*D + D^2)*a^4*b^3 + (C^2 + 4*C*D + D^2)*a^3*b^4)*c)*d)/(((a^2*b + a*b^2)*c^3 + (a^3*b + 2*a^2*b^2 + a*b^3)*c^2 + (a^3*b^2 + a^2*b^3)*c)*d^4 + ((a^2*b + a*b^2)*c^4 + 2*(a^3*b + 2*a^2*b^2 + a*b^3)*c^3 + (a^4*b + 4*a^3*b^2 + 4*a^2*b^3 + a*b^4)*c^2 + (a^4*b^2 + 2*a^3*b^3 + a^2*b^4)*c)*d^3 + ((a^3*b + 2*a^2*b^2 + a*b^3)*c^4 + (a^4*b + 4*a^3*b^2 + 4*a^2*b^3 + a*b^4)*c^3 + 2*(a^4*b^2 + 2*a^3*b^3 + a^2*b^4)*c^2 + (a^4*b^3 + a^3*b^4)*c)*d^2 + ((a^3*b^2 + a^2*b^3)*c^4 + (a^4*b^2 + 2*a^3*b^3 + a^2*b^4)*c^3 + (a^4*b^3 + a^3*b^4)*c^2)*d))"
      ]
     },
     "execution_count": 4,
     "metadata": {},
     "output_type": "execute_result"
    }
   ],
   "source": [
    "reset()\n",
    "var(\"t A B C D a b c d\")\n",
    "f(t) = A*exp(a*t) + B*exp(b*t) - C*exp(c*t) - D*exp(d*t)\n",
    "e(t) = (f(t))^2\n",
    "assume(A > 0)\n",
    "assume(B > 0)\n",
    "assume(C > 0)\n",
    "assume(D > 0)\n",
    "assume(a < 0)\n",
    "assume(b < 0)\n",
    "assume(c < 0)\n",
    "assume(d < 0)\n",
    "#assume(exp(b+a)-1 > 0)  # integral divergent in this case (takes long to compute)\n",
    "assume(exp(b+a)-1 < 0)\n",
    "energy = integral(e(t), t, 0, oo)\n",
    "f, e, energy\n",
    "# oookayyy - this gives a verry unwieldy solution but at least, a solution - but it can be optimized\n",
    "# perhaps, we should use B=1-A, D=1-C"
   ]
  },
  {
   "cell_type": "code",
   "execution_count": 43,
   "metadata": {},
   "outputs": [
    {
     "data": {
      "text/plain": [
       "(t |--> A*e^(a*t) - (A - 1)*e^(b*t) + C*e^(c*t) - (C - 1)*e^(d*t),\n",
       " t |--> (A*e^(a*t) - (A - 1)*e^(b*t) + C*e^(c*t) - (C - 1)*e^(d*t))^2,\n",
       " -1/2*(((C^2 - 2*C + 1)*a^3*b^2 + (C^2 - 2*C + 1)*a^2*b^3)*c^4 + (C^2*a^3*b^2 + C^2*a^2*b^3 + (A^2*b^2 + (A^2 - 2*A + 1)*a^2 - (2*A^2 - 2*A - 1)*a*b)*c^3 + (A^2*b^3 + (A^2 - 2*A + 1)*a^3 - (A^2 - C^2 - 4*C - 2)*a^2*b - (A^2 - C^2 - 2*A - 4*C - 1)*a*b^2)*c^2 + ((A^2 - 4*(A - 1)*C + C^2 - 2*A + 1)*a^3*b - (2*A^2 - 2*C^2 - 2*A - 4*C - 1)*a^2*b^2 + (A^2 + 4*A*C + C^2)*a*b^3)*c)*d^4 + ((C^2 - 2*C + 1)*a^4*b^2 + 2*(C^2 - 2*C + 1)*a^3*b^3 + (C^2 - 2*C + 1)*a^2*b^4)*c^3 + (C^2*a^4*b^2 + 2*C^2*a^3*b^3 + C^2*a^2*b^4 + (A^2*b^2 + (A^2 - 2*A + 1)*a^2 - (2*A^2 - 2*A - 1)*a*b)*c^4 + (2*A^2*b^3 + 2*(A^2 - 2*A + 1)*a^3 - (2*A^2 + 2*C^2 - 2*C - 9)*a^2*b - (2*A^2 + 2*C^2 - 4*A - 2*C - 7)*a*b^2)*c^3 + (A^2*b^4 + (A^2 - 2*A + 1)*a^4 + (A^2 - 2*(2*A - 3)*C - C^2 - 4*A + 9)*a^3*b - 2*(2*A^2 + C^2 - 2*A - 4*C - 7)*a^2*b^2 + (A^2 + 2*(2*A + 1)*C - C^2 + 2*A + 6)*a*b^3)*c^2 + ((A^2 - 4*(A - 1)*C + C^2 - 2*A + 1)*a^4*b - (A^2 + 2*(2*A - 3)*C - C^2 - 7)*a^3*b^2 - (A^2 - 2*(2*A + 1)*C - C^2 - 2*A - 6)*a^2*b^3 + (A^2 + 4*A*C + C^2)*a*b^4)*c)*d^3 + ((C^2 - 2*C + 1)*a^4*b^3 + (C^2 - 2*C + 1)*a^3*b^4)*c^2 + (C^2*a^4*b^3 + C^2*a^3*b^4 + (A^2*b^3 + (A^2 - 2*A + 1)*a^3 - (A^2 - C^2 + 6*C - 7)*a^2*b - (A^2 - C^2 - 2*A + 6*C - 6)*a*b^2)*c^4 + (A^2*b^4 + (A^2 - 2*A + 1)*a^4 + (A^2 + 4*(A - 1)*C - C^2 - 8*A + 14)*a^3*b - 2*(2*A^2 + C^2 - 2*A + 2*C - 10)*a^2*b^2 + (A^2 - 4*A*C - C^2 + 6*A + 7)*a*b^3)*c^3 + ((2*A^2 - 2*C^2 - 8*A + 2*C + 7)*a^4*b - 2*(A^2 + 2*C^2 + 2*A - 2*C - 10)*a^3*b^2 - 2*(A^2 + 2*C^2 - 4*A - 2*C - 7)*a^2*b^3 + (2*A^2 - 2*C^2 + 4*A + 2*C + 1)*a*b^4)*c^2 + ((A^2 - C^2 - 6*A + 2*C + 6)*a^4*b^2 - (2*A^2 + 2*C^2 - 2*A - 4*C - 7)*a^3*b^3 + (A^2 - C^2 + 4*A + 2*C + 1)*a^2*b^4)*c)*d^2 + (((A^2 + 2*(2*A - 3)*C + C^2 - 6*A + 6)*a^3*b - (2*A^2 - 2*C^2 - 2*A + 8*C - 7)*a^2*b^2 + (A^2 - 2*(2*A + 1)*C + C^2 + 4*A + 1)*a*b^3)*c^4 + ((A^2 + 2*(2*A - 3)*C + C^2 - 6*A + 6)*a^4*b - (A^2 - 4*(A - 2)*C - C^2 + 4*A - 14)*a^3*b^2 - (A^2 + 4*(A + 1)*C - C^2 - 6*A - 9)*a^2*b^3 + (A^2 - 2*(2*A + 1)*C + C^2 + 4*A + 1)*a*b^4)*c^3 + ((A^2 - C^2 - 6*A + 7)*a^4*b^2 - (2*A^2 + 2*C^2 - 2*A - 9)*a^3*b^3 + (A^2 - C^2 + 4*A + 2)*a^2*b^4)*c^2 - ((2*C^2 - 2*C - 1)*a^4*b^3 + (2*C^2 - 2*C - 1)*a^3*b^4)*c)*d)/(((a^2*b + a*b^2)*c^3 + (a^3*b + 2*a^2*b^2 + a*b^3)*c^2 + (a^3*b^2 + a^2*b^3)*c)*d^4 + ((a^2*b + a*b^2)*c^4 + 2*(a^3*b + 2*a^2*b^2 + a*b^3)*c^3 + (a^4*b + 4*a^3*b^2 + 4*a^2*b^3 + a*b^4)*c^2 + (a^4*b^2 + 2*a^3*b^3 + a^2*b^4)*c)*d^3 + ((a^3*b + 2*a^2*b^2 + a*b^3)*c^4 + (a^4*b + 4*a^3*b^2 + 4*a^2*b^3 + a*b^4)*c^3 + 2*(a^4*b^2 + 2*a^3*b^3 + a^2*b^4)*c^2 + (a^4*b^3 + a^3*b^4)*c)*d^2 + ((a^3*b^2 + a^2*b^3)*c^4 + (a^4*b^2 + 2*a^3*b^3 + a^2*b^4)*c^3 + (a^4*b^3 + a^3*b^4)*c^2)*d))"
      ]
     },
     "execution_count": 43,
     "metadata": {},
     "output_type": "execute_result"
    }
   ],
   "source": [
    "reset()\n",
    "var(\"t A C a b c d\")\n",
    "f(t) = A*exp(a*t) + (1-A)*exp(b*t) + C*exp(c*t) + (1-C)*exp(d*t)\n",
    "e(t) = (f(t))^2\n",
    "assume(A > 0)\n",
    "assume(1-A > 0)\n",
    "assume(C > 0)\n",
    "assume(1-C > 0)\n",
    "assume(a < 0)\n",
    "assume(b < 0)\n",
    "assume(c < 0)\n",
    "assume(d < 0)\n",
    "assume(exp(b+a)-1 < 0)\n",
    "assume(exp(b)-1 < 0)   \n",
    "assume(exp(d)-1 < 0)\n",
    "energy = integral(e(t), t, 0, oo)\n",
    "#energy2 = energy.expand()\n",
    "f, e, energy\n",
    "# OK that's better - still quite a moster formula - can it be simplified?"
   ]
  },
  {
   "cell_type": "code",
   "execution_count": null,
   "metadata": {},
   "outputs": [],
   "source": []
  }
 ],
 "metadata": {
  "kernelspec": {
   "display_name": "SageMath 8.4",
   "language": "",
   "name": "sagemath"
  },
  "language_info": {
   "codemirror_mode": {
    "name": "ipython",
    "version": 2
   },
   "file_extension": ".py",
   "mimetype": "text/x-python",
   "name": "python",
   "nbconvert_exporter": "python",
   "pygments_lexer": "ipython2",
   "version": "2.7.15"
  }
 },
 "nbformat": 4,
 "nbformat_minor": 2
}
