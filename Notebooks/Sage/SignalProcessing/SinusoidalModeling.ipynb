{
 "cells": [
  {
   "cell_type": "markdown",
   "metadata": {},
   "source": [
    "## Sinusoidal Modeling\n",
    "We model our signal $x(t)$ as a sum over K sinusoids $s_k(t)$:  \n",
    "\n",
    "$$x(t) = \\sum_{k=1}^K s_k(t), \\quad s_k(t) = a_k(t) \\sin( p_k(t) ), \\quad p_k(t) = \\int_0^t \\omega_k(u) du + \\varphi_k$$\n",
    "\n",
    "where $k$ is the index of the k-th partial, $s_k(t)$ is the k-th sinusoid (as a function of time $t$), $a_k(t)$ is its instantaneous amplitude at time $t$, $p_k(t)$ its instantaneous phase, $\\omega_k(t)$ its instantaneous radian frequency and $\\varphi_k$ its start-phase (i.e. the phase at time $t=0$). When we talk about a single partial, we may drop the index $k$ in order to not clutter the notation too much. So let's do that and have a zoomed in look at our model for a single partial:\n",
    "\n",
    "$$s(t) = a(t) \\sin(p(t)), \\quad p(t) = \\int_0^t \\omega(u) du + \\varphi$$\n",
    "\n",
    "We see that the instantaneous phase $p(t)$ of a sinusoid at any time instant $t$ is given by the definite integral from 0 to t over the instantaneous radian frequency $\\omega(t)$, plus some offset $\\varphi$ to account for the start phase. So our model consist of the 3 functions of time: $a(t),p(t),\\omega(t)$, where $p$ and $\\omega$ are connected via the integral above. We will typically not have a formula for any of these 3 functions but instead, we will have a set of data points $(t_i, a_i, f_i, p_i)$, where $\\omega_i = 2 \\pi f_i$. To actually synthesize a signal, we will have to interpolate between these data points in some way.\n",
    "\n"
   ]
  },
  {
   "cell_type": "code",
   "execution_count": null,
   "metadata": {},
   "outputs": [],
   "source": []
  }
 ],
 "metadata": {
  "kernelspec": {
   "display_name": "SageMath 8.4",
   "language": "",
   "name": "sagemath"
  },
  "language_info": {
   "codemirror_mode": {
    "name": "ipython",
    "version": 2
   },
   "file_extension": ".py",
   "mimetype": "text/x-python",
   "name": "python",
   "nbconvert_exporter": "python",
   "pygments_lexer": "ipython2",
   "version": "2.7.15"
  }
 },
 "nbformat": 4,
 "nbformat_minor": 2
}
