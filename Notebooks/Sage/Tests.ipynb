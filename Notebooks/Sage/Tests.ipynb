{
 "cells": [
  {
   "cell_type": "code",
   "execution_count": 1,
   "metadata": {},
   "outputs": [],
   "source": [
    "reset()\n",
    "load(\"Code/Python/rsRational.py\")"
   ]
  },
  {
   "cell_type": "code",
   "execution_count": 2,
   "metadata": {},
   "outputs": [
    {
     "data": {
      "text/plain": [
       "[d*r, d*q + c*r, d*p + c*q + b*r, c*p + b*q + a*r, b*p + a*q, a*p]"
      ]
     },
     "execution_count": 2,
     "metadata": {},
     "output_type": "execute_result"
    }
   ],
   "source": [
    "var(\"a b c d p q r\")   # symbolic polynomial coefficients\n",
    "P = [d,c,b,a]          # list of coeffs of polynomial P\n",
    "Q = [r,q,p]            # list of coeffs of polynomial Q\n",
    "PQ = polyMul(P,Q)      # product of PQ via convolving lists\n",
    "PQ"
   ]
  },
  {
   "cell_type": "code",
   "execution_count": 3,
   "metadata": {},
   "outputs": [
    {
     "data": {
      "text/plain": [
       "[d + r, c + q, b + p, a]"
      ]
     },
     "execution_count": 3,
     "metadata": {},
     "output_type": "execute_result"
    }
   ],
   "source": [
    "S = polyAdd(P,Q)\n",
    "S"
   ]
  },
  {
   "cell_type": "code",
   "execution_count": 4,
   "metadata": {},
   "outputs": [
    {
     "data": {
      "text/plain": [
       "[5, 9, -4, -5, 4, -4]"
      ]
     },
     "execution_count": 4,
     "metadata": {},
     "output_type": "execute_result"
    }
   ],
   "source": [
    "T = polyMul([2,3,-1,2],[1,1,-2])\n",
    "T = polyAdd(T,[3,4,-2])\n",
    "T"
   ]
  },
  {
   "cell_type": "code",
   "execution_count": 5,
   "metadata": {},
   "outputs": [
    {
     "data": {
      "text/plain": [
       "([2, -3, 6, 2, 0, 0, 0, 0, 0], [3, 1, 4, -5, 3, 0, 0, 0, 0])"
      ]
     },
     "execution_count": 5,
     "metadata": {},
     "output_type": "execute_result"
    }
   ],
   "source": [
    "D = [2,-1,5,7,-3,2]\n",
    "Q = [2,-3,6,2]\n",
    "R = [3,1,4,-5,3]   # seems to work, if R has 0 or 1 elements, fails with 2 or more\n",
    "P = polyMul(Q,D)\n",
    "P\n",
    "P = polyAdd(P,R)\n",
    "P\n",
    "polyDiv(P,D)"
   ]
  },
  {
   "cell_type": "code",
   "execution_count": 6,
   "metadata": {},
   "outputs": [
    {
     "data": {
      "text/plain": [
       "[2, 1, -9, 16, -10, -6, 6, 15, -28, 4, 13, -11, 1, 1]"
      ]
     },
     "execution_count": 6,
     "metadata": {},
     "output_type": "execute_result"
    }
   ],
   "source": [
    "polyMul([1,2,-2,3,-1,-3,-5,4,-3,-1],[2,-3,1,2,-1])"
   ]
  },
  {
   "cell_type": "code",
   "execution_count": 7,
   "metadata": {},
   "outputs": [
    {
     "data": {
      "text/plain": [
       "[3, -1, -1, 5, -2, -3, -5, 4, -3, -1]"
      ]
     },
     "execution_count": 7,
     "metadata": {},
     "output_type": "execute_result"
    }
   ],
   "source": [
    "polyAdd([2,-3,1,2,-1],[1,2,-2,3,-1,-3,-5,4,-3,-1])"
   ]
  },
  {
   "cell_type": "code",
   "execution_count": 74,
   "metadata": {},
   "outputs": [
    {
     "data": {
      "text/plain": [
       "(4*x^3 + 3*x^2 + 2*x + 1,\n",
       " [1, 2, 3, 4],\n",
       " 4*x^2 + 3*x + 2,\n",
       " [2, 3, 4],\n",
       " 16*x^5 + 24*x^4 + 25*x^3 + 16*x^2 + 7*x + 2,\n",
       " [2, 7, 16, 25, 24, 16])"
      ]
     },
     "execution_count": 74,
     "metadata": {},
     "output_type": "execute_result"
    }
   ],
   "source": [
    "# Test multiplication by comparing results from class rsPolynomial\n",
    "# to results from using sage expressions:\n",
    "reset()\n",
    "load(\"Code/Python/rsRational.py\")\n",
    "pe = 1 + 2*x + 3*x^2 + 4*x^3  # polynomial p as expression...\n",
    "pp = rsPolynomial([1,2,3,4])  # ...and as rsPolynomial object\n",
    "qe = 2 + 3*x + 4*x^2\n",
    "qp = rsPolynomial([2,3,4]) \n",
    "re = (pe*qe).expand()\n",
    "rp = pp*qp\n",
    "pe, pp, qe, qp, re, rp"
   ]
  },
  {
   "cell_type": "code",
   "execution_count": 77,
   "metadata": {},
   "outputs": [
    {
     "name": "stdout",
     "output_type": "stream",
     "text": [
      "4*x^3 + 3*x^2 + 2*x + 1 0\n",
      "[0]\n",
      "[0]\n"
     ]
    },
    {
     "data": {
      "text/plain": [
       "([3, 5, 7, 4], [0], [2, 4, 6, 8])"
      ]
     },
     "execution_count": 77,
     "metadata": {},
     "output_type": "execute_result"
    }
   ],
   "source": [
    "# test modulo (remainder of polynomial division):\n",
    "\n",
    "load(\"Code/Python/rsRational.py\")\n",
    "\n",
    "def division(dividend, divisor) : \n",
    "    q, r = dividend.maxima_methods().divide(divisor)\n",
    "    return q, r\n",
    "q,r = re.maxima_methods().divide(qe) # polynomial division re/qe gives back pe\n",
    "print q, r\n",
    "\n",
    "# now the same for the class object using operators /, %\n",
    "q = rp/qp   # should give pp\n",
    "print q\n",
    "r = rp%qp   # should give 0\n",
    "print r\n",
    "\n",
    "t = pp + qp\n",
    "t, pp - pp, pp + pp\n",
    "\n",
    "# ok - nice - but we really need to truncate trailing zeros\n",
    "\n",
    "\n",
    "#se = re / pe\n",
    "#sp = rp % pp  # gives error\n",
    "#te = re % qe\n",
    "#tp = re % qp\n",
    "#se"
   ]
  },
  {
   "cell_type": "code",
   "execution_count": null,
   "metadata": {},
   "outputs": [],
   "source": []
  },
  {
   "cell_type": "code",
   "execution_count": null,
   "metadata": {},
   "outputs": [],
   "source": []
  }
 ],
 "metadata": {
  "kernelspec": {
   "display_name": "SageMath 8.4",
   "language": "",
   "name": "sagemath"
  },
  "language_info": {
   "codemirror_mode": {
    "name": "ipython",
    "version": 2
   },
   "file_extension": ".py",
   "mimetype": "text/x-python",
   "name": "python",
   "nbconvert_exporter": "python",
   "pygments_lexer": "ipython2",
   "version": "2.7.15"
  }
 },
 "nbformat": 4,
 "nbformat_minor": 2
}
