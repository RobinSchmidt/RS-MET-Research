{
 "cells": [
  {
   "cell_type": "markdown",
   "metadata": {},
   "source": [
    "I want to do some experiments and play around with tensor concepts. The examples are based on the video series \"Tensors For Beginners\" bei eigenchris:  \n",
    "https://www.youtube.com/watch?v=8ptMTLzV4-I&list=PLJHszsWbB6hrkmmq57lX8BV-o-YIOFsiG  \n",
    "We represent our tensors as numpy arrays. We start by defining our old and new basis vectors, like here:  \n",
    "https://www.youtube.com/watch?v=sdCmW5N1LW4&t=0m35s"
   ]
  },
  {
   "cell_type": "code",
   "execution_count": 33,
   "metadata": {},
   "outputs": [
    {
     "data": {
      "text/plain": [
       "(array([1, 0]), array([0, 1]), array([2, 1]), array([-0.5 ,  0.25]))"
      ]
     },
     "execution_count": 33,
     "metadata": {},
     "output_type": "execute_result"
    }
   ],
   "source": [
    "import numpy as np\n",
    "\n",
    "e1  = np.array([1, 0])      # 1st basis vector in old basis\n",
    "e2  = np.array([0, 1])      # 2nd basis vector in old basis\n",
    "et1 = np.array([2, 1])      # 1st new basis vector (t for tilde)\n",
    "et2 = np.array([-1/2, 1/4]) # 2nd new basis vector\n",
    "e1, e2, et1, et2"
   ]
  },
  {
   "cell_type": "markdown",
   "metadata": {},
   "source": [
    "We define a function that takes two vectors as inputs and creates a matrix from them by writing the vectors as columns into the matrix. Then we use that function to define the forward transform matrix $F$ and we also define the backward transform matrix $B$. Note that the matrix given in the video above is wrong (transposed) - chris corrected himslef later in a follow up video (https://www.youtube.com/watch?v=ipRrCPvftTk). "
   ]
  },
  {
   "cell_type": "code",
   "execution_count": 34,
   "metadata": {},
   "outputs": [
    {
     "name": "stdout",
     "output_type": "stream",
     "text": [
      "[[ 2.   -0.5 ]\n",
      " [ 1.    0.25]]\n",
      "[[ 0.25  0.5 ]\n",
      " [-1.    2.  ]]\n"
     ]
    }
   ],
   "source": [
    "def vecs2mat(col1, col2):\n",
    "    return np.matrix([ [col1[0], col2[0]], [col1[1], col2[1]] ])\n",
    "\n",
    "F = vecs2mat(et1, et2)              # forward transform matrix\n",
    "B = np.matrix([[1/4, 1/2],[-1, 2]]) # backward transform matrix\n",
    "print(F); print(B)"
   ]
  },
  {
   "cell_type": "markdown",
   "metadata": {
    "collapsed": true
   },
   "source": [
    "The columns of the forward transform matrix $F$ are the vectors onto which the 1st and 2nd unit vector $(1, 0)^T$ and $(0, 1)^T$ get mapped, which happen to coincide with our first basis vectors (i.e. our first basis was chosen to be the canonical basis of $\\mathbb{R}^2$). \n",
    "<!--\n",
    "But that doesn't have to be the case. In general $F_{ij}$ tells, how much of $\\vec{e_i}$ is in $\\tilde{\\vec{e_j}}$ [verify, if that's true]\n",
    "https://www.youtube.com/watch?v=ipRrCPvftTk&t=47s\n",
    "-->\n",
    "The given backward transform matrix $B$ is actually the inverse matrix of $F$. Let's verify this:"
   ]
  },
  {
   "cell_type": "code",
   "execution_count": 35,
   "metadata": {},
   "outputs": [
    {
     "name": "stdout",
     "output_type": "stream",
     "text": [
      "[[ 0.25  0.5 ]\n",
      " [-1.    2.  ]]\n"
     ]
    }
   ],
   "source": [
    "print(np.linalg.inv(F))"
   ]
  },
  {
   "cell_type": "markdown",
   "metadata": {},
   "source": [
    "What that means is that if we matrix-multiply $F$ and $B$, we will get the identity matrix: $F B = B F = E$"
   ]
  },
  {
   "cell_type": "code",
   "execution_count": 37,
   "metadata": {},
   "outputs": [
    {
     "name": "stdout",
     "output_type": "stream",
     "text": [
      "[[ 1.  0.]\n",
      " [ 0.  1.]]\n",
      "[[ 1.  0.]\n",
      " [ 0.  1.]]\n"
     ]
    }
   ],
   "source": [
    "print(F.dot(B)); print(B.dot(F))"
   ]
  },
  {
   "cell_type": "code",
   "execution_count": null,
   "metadata": {
    "collapsed": true
   },
   "outputs": [],
   "source": []
  }
 ],
 "metadata": {
  "kernelspec": {
   "display_name": "Python 3",
   "language": "python",
   "name": "python3"
  },
  "language_info": {
   "codemirror_mode": {
    "name": "ipython",
    "version": 3
   },
   "file_extension": ".py",
   "mimetype": "text/x-python",
   "name": "python",
   "nbconvert_exporter": "python",
   "pygments_lexer": "ipython3",
   "version": "3.4.3"
  }
 },
 "nbformat": 4,
 "nbformat_minor": 2
}
