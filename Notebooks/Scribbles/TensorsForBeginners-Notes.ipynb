{
 "cells": [
  {
   "cell_type": "markdown",
   "metadata": {},
   "source": [
    "# Tensors for Beginners\n",
    "\n",
    "These are my notes, taken from watching the highly recommended video series \"Tensors For Beginners\" bei eigenchris:    \n",
    "https://www.youtube.com/watch?v=8ptMTLzV4-I&list=PLJHszsWbB6hrkmmq57lX8BV-o-YIOFsiG  "
   ]
  },
  {
   "cell_type": "markdown",
   "metadata": {},
   "source": [
    "## -1: Motivation\n",
    "https://www.youtube.com/watch?v=8ptMTLzV4-I  \n",
    "\n",
    "Tensors are required in many physical theories - for example to describe the curvature of spacetime in general relativity, state vectors in quantum mechanics (combined states of entangled systems are defined by a tensor product).  \n",
    "\n",
    "Remark:  \n",
    "They are also very important in continuum mechanics to describe, how materials deform under forces, i.e. how they respond to stress with strain (Chris doesn't mention this)."
   ]
  },
  {
   "cell_type": "markdown",
   "metadata": {},
   "source": [
    "## 0: Tensor Definition\n",
    "https://www.youtube.com/watch?v=TvxmkZmBa-k  \n",
    "\n",
    "A tensor may defined in various ways:  \n",
    "\n",
    "- Array definition: a tensor is a multi-dimensional array of numbers\n",
    " - Rank 0: a scalar, zero dimensions, no index to run over\n",
    " - Rank 1: a vector, one dimension, 1 index to run over\n",
    " - Rank 2: a matrix, two dimensional grid of numbers, 2 indices (row and column)\n",
    " - Rank 3: a sort of cube/block in space\n",
    " - and so on (next maybe a set of blocks, then a set of sets of blocks, ..)\n",
    " - that's actually a wrong definition: tensors can be *represented* as multi-dimensional arrays (after a basis has been chosen), but their fundamental nature is geometric and is independent from an (arbitrary) basis\n",
    " - Remark: i think, tensors are always represented as hypercubic arrays (the different indices have all the same range), so a multidimensional array is actually a more general data structure\n",
    "    \n",
    "    \n",
    "- Coordinate definition: a tensor is an object that is invariant under a change of coordinates and has components that change in a special, predictable way under a change of coordinates\n",
    " - the distance between two points does not depend on the choice of the coordinate system\n",
    " - the position of a point or the direction of a vector doesn't either\n",
    " - vectors are invariant but their components are not\n",
    "  \n",
    "  \n",
    "- Abstract definition: a tensor is a collection of vectors and covectors combined together using the tensor product\n",
    "  \n",
    "\n",
    "- Extra: tensors as partial derivatives and gradients that transform with the Jacobian matrix (later, in the Tensor Calculus series, this will be explained)\n",
    " "
   ]
  },
  {
   "cell_type": "markdown",
   "metadata": {},
   "source": [
    "## 1: Forward & Backward Transformations\n",
    "https://www.youtube.com/watch?v=sdCmW5N1LW4  \n",
    "\n",
    "Forward and backward transformations are the rules that let us switch between two coordinate systems. We represent our tensors as numpy arrays. We start by defining our old basis vectors $\\vec{e_1}, \\vec{e_2}$   and new basis vectors $\\tilde{\\vec{e_1}}, \\tilde{\\vec{e_2}}$ and plotting them:"
   ]
  },
  {
   "cell_type": "code",
   "execution_count": 79,
   "metadata": {},
   "outputs": [
    {
     "data": {
      "image/png": "[encoded data removed]",
      "text/plain": [
       "<matplotlib.figure.Figure at 0x7d6b2e8>"
      ]
     },
     "metadata": {},
     "output_type": "display_data"
    }
   ],
   "source": [
    "import numpy as np\n",
    "import matplotlib.pyplot as plt\n",
    "%matplotlib inline\n",
    "\n",
    "e1  = np.array([1, 0])      # 1st basis vector in old basis\n",
    "e2  = np.array([0, 1])      # 2nd basis vector in old basis\n",
    "et1 = np.array([2, 1])      # 1st new basis vector (t for tilde)\n",
    "et2 = np.array([-1/2, 1/4]) # 2nd new basis vector\n",
    "\n",
    "def plotVector(v, color='k'):\n",
    "    # todo: have an optional start point (also a vector), so we can draw\n",
    "    # vector sums (tip-to tail)\n",
    "    ax = plt.axes()\n",
    "    ax.arrow(0,0,v[0],v[1],head_width=0.1,head_length=0.1,\n",
    "             color=color, length_includes_head=True)\n",
    "    \n",
    "def plotVectors(vecs, color='k'):\n",
    "    for v in vecs:\n",
    "        plotVector(v, color=color)\n",
    "\n",
    "plt.xlim(-1,2.5)    \n",
    "plt.ylim(-0.5,1.5) \n",
    "plotVectors([e1,  e2],  'k')\n",
    "plotVectors([et1, et2], 'r')\n",
    "plt.grid(which='major')\n",
    "plt.axes().set_aspect('equal')\n",
    "plt.show()"
   ]
  },
  {
   "cell_type": "markdown",
   "metadata": {},
   "source": [
    "We define a function that takes two vectors as inputs and creates a matrix from them by writing the vectors as columns into the matrix. Then we use that function to define the forward transform matrix $F$ and we also define the backward transform matrix $B$. Note that the matrix given in the video above is wrong (transposed) - chris corrected himslef later in a follow up video (https://www.youtube.com/watch?v=ipRrCPvftTk). "
   ]
  },
  {
   "cell_type": "code",
   "execution_count": 39,
   "metadata": {},
   "outputs": [
    {
     "name": "stdout",
     "output_type": "stream",
     "text": [
      "[[ 2.   -0.5 ]\n",
      " [ 1.    0.25]]\n",
      "[[ 0.25  0.5 ]\n",
      " [-1.    2.  ]]\n"
     ]
    }
   ],
   "source": [
    "def vecs2mat(col1, col2):\n",
    "    return np.matrix([ [col1[0], col2[0]], [col1[1], col2[1]] ])\n",
    "\n",
    "F = vecs2mat(et1, et2)              # forward transform matrix\n",
    "B = np.matrix([[1/4, 1/2],[-1, 2]]) # backward transform matrix\n",
    "print(F); print(B)"
   ]
  },
  {
   "cell_type": "markdown",
   "metadata": {
    "collapsed": true
   },
   "source": [
    "The columns of the forward transform matrix $F$ are the vectors onto which the 1st and 2nd unit vector $(1, 0)^T$ and $(0, 1)^T$ get mapped, which happen to coincide with our first basis vectors (i.e. our first basis was chosen to be the canonical basis of $\\mathbb{R}^2$). \n",
    "<!--\n",
    "But that doesn't have to be the case. In general $F_{ij}$ tells, how much of $\\vec{e_i}$ is in $\\tilde{\\vec{e_j}}$ [verify, if that's true]\n",
    "https://www.youtube.com/watch?v=ipRrCPvftTk&t=47s\n",
    "-->\n",
    "The given backward transform matrix $B$ is actually the inverse matrix of $F$. Let's verify this:"
   ]
  },
  {
   "cell_type": "code",
   "execution_count": 40,
   "metadata": {},
   "outputs": [
    {
     "name": "stdout",
     "output_type": "stream",
     "text": [
      "[[ 0.25  0.5 ]\n",
      " [-1.    2.  ]]\n"
     ]
    }
   ],
   "source": [
    "print(np.linalg.inv(F))"
   ]
  },
  {
   "cell_type": "markdown",
   "metadata": {},
   "source": [
    "What that means is that if we matrix-multiply $F$ and $B$, we will get the identity matrix: $F B = B F = E$"
   ]
  },
  {
   "cell_type": "code",
   "execution_count": 41,
   "metadata": {},
   "outputs": [
    {
     "name": "stdout",
     "output_type": "stream",
     "text": [
      "[[ 1.  0.]\n",
      " [ 0.  1.]]\n",
      "[[ 1.  0.]\n",
      " [ 0.  1.]]\n"
     ]
    }
   ],
   "source": [
    "print(F.dot(B)); print(B.dot(F))"
   ]
  },
  {
   "cell_type": "code",
   "execution_count": null,
   "metadata": {
    "collapsed": true
   },
   "outputs": [],
   "source": []
  }
 ],
 "metadata": {
  "kernelspec": {
   "display_name": "Python 3",
   "language": "python",
   "name": "python3"
  },
  "language_info": {
   "codemirror_mode": {
    "name": "ipython",
    "version": 3
   },
   "file_extension": ".py",
   "mimetype": "text/x-python",
   "name": "python",
   "nbconvert_exporter": "python",
   "pygments_lexer": "ipython3",
   "version": "3.4.3"
  }
 },
 "nbformat": 4,
 "nbformat_minor": 2
}
