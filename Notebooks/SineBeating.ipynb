{
 "cells": [
  {
   "cell_type": "code",
   "execution_count": 1,
   "metadata": {},
   "outputs": [
    {
     "data": {
      "application/vnd.jupyter.widget-view+json": {
       "model_id": "e930846b07114fcc8cc90c934385d454",
       "version_major": 2,
       "version_minor": 0
      },
      "text/plain": [
       "aW50ZXJhY3RpdmUoY2hpbGRyZW49KEZsb2F0U2xpZGVyKHZhbHVlPTAuMCwgZGVzY3JpcHRpb249dSdQaGFzZScsIG1heD0zNjAuMCwgbWluPS0zNjAuMCwgc3RlcD0xNS4wKSwgQ2hlY2tib3jigKY=\n"
      ]
     },
     "metadata": {},
     "output_type": "display_data"
    }
   ],
   "source": [
    "from ipywidgets import interact, FloatSlider, Checkbox\n",
    "import numpy as np\n",
    "import matplotlib.pyplot as plt\n",
    "\n",
    "@interact\n",
    "def beatingSines(Phase    = FloatSlider(min=-360, max=360, step=15), \n",
    "                 Summands = Checkbox(False), \n",
    "                 Carrier  = Checkbox(True) ):\n",
    "    \n",
    "    # set signal parameters:\n",
    "    w1 = 2 * np.pi * 0.95     # radian freq of 1st sine\n",
    "    w2 = 2 * np.pi * 1.05     # radian freq of 2nd sine    \n",
    "    p  = np.pi * Phase/180    # phase offset of 2nd sine in radians\n",
    "    wc = (w1+w2)/2            # carrier freq\n",
    "    pc = +p/2                 # carrier phase\n",
    "    wm = (w1-w2)/2            # modulator radian freq    \n",
    "    pm = -p/2                 # modulator (cosine) phase\n",
    "\n",
    "    # create signals:\n",
    "    t  = np.linspace(0, 40, num=1000) # time axis\n",
    "    y1 = np.sin(w1*t)                 # 1st sine\n",
    "    y2 = np.sin(w2*t + p)             # 2nd sine\n",
    "    ys = y1 + y2                      # sum\n",
    "    yc = np.sin(wc*t + pc)            # carrier\n",
    "    ym = 2 * np.cos(wm*t + pm)        # modulator\n",
    "    \n",
    "    # add them to a plot:\n",
    "    plt.plot(t, ys)            # plot the sum  \n",
    "    plt.plot(t, ym)            # plot modulator\n",
    "    if(Summands):\n",
    "        plt.plot(t, y1, t, y2) # plot both summands\n",
    "    if(Carrier):\n",
    "        plt.plot(t, yc)        # plot carrier\n",
    "\n",
    "    # set plotting options and show:\n",
    "    fig = plt.gcf()           # get current figure?\n",
    "    fig.set_size_inches(17, 4) # how do we set it in pixels?\n",
    "    plt.grid(axis='x')\n",
    "    plt.show()"
   ]
  },
  {
   "cell_type": "code",
   "execution_count": 73,
   "metadata": {},
   "outputs": [],
   "source": [
    "?plt.grid"
   ]
  },
  {
   "cell_type": "markdown",
   "metadata": {},
   "source": [
    "python interacts:\n",
    "https://ipywidgets.readthedocs.io/en/stable/examples/Using%20Interact.html\n",
    "...move to resources/links file"
   ]
  }
 ],
 "metadata": {
  "kernelspec": {
   "display_name": "Python 2",
   "language": "python",
   "name": "python2"
  },
  "language_info": {
   "codemirror_mode": {
    "name": "ipython",
    "version": 2
   },
   "file_extension": ".py",
   "mimetype": "text/x-python",
   "name": "python",
   "nbconvert_exporter": "python",
   "pygments_lexer": "ipython2",
   "version": "2.7.15"
  }
 },
 "nbformat": 4,
 "nbformat_minor": 2
}
