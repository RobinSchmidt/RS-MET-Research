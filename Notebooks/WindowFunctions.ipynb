{
 "cells": [
  {
   "cell_type": "markdown",
   "metadata": {},
   "source": [
    "##Sum of cosines  \n",
    "We consider window functions that can be expressed as a weighted sum of cosine functions:\n",
    "\n",
    "$$w(t) = a_0 + a_1 \\cos(\\pi t) + a_2 \\cos(2 \\pi t) + a_3 \\cos(3 \\pi t) + a_4 \\cos(4 \\pi t) + \\ldots$$\n",
    "\n",
    "in the interval $-1 < t < 1$ and zero outside that interval. The goal is to find formulas for the $a$ coefficients by imposing constraints on the values of the window function and its derivatives at $t=0$ and $t=1$. Due to the even symmetry of the cosine functions, this will automatically set the values and derivatives at $t=-1$ to the same values as those at $t=1$. Let's start by looking at a 2-term window, i.e. only $a_0, a_1$ are nonzero:"
   ]
  },
  {
   "cell_type": "code",
   "execution_count": 1,
   "metadata": {},
   "outputs": [
    {
     "data": {
      "text/plain": [
       "(t |--> a1*cos(pi*t) + a0, t |--> -pi*a1*sin(pi*t), t |--> -pi^2*a1*cos(pi*t))"
      ]
     },
     "execution_count": 1,
     "metadata": {},
     "output_type": "execute_result"
    }
   ],
   "source": [
    "reset()\n",
    "var(\"t a0 a1\")\n",
    "f(t)  = a0 + a1*cos(pi*t)\n",
    "f1(t) = diff(f(t),  t)       # 1st derivative\n",
    "f2(t) = diff(f1(t), t)       # 2nd derivative\n",
    "f, f1, f2"
   ]
  },
  {
   "cell_type": "markdown",
   "metadata": {},
   "source": [
    "We have two degrees of freedom $a_0, a_1$. This means we can impose two requirements on our window function. Let's require $f(0)=1$ and $f(1)=0$:"
   ]
  },
  {
   "cell_type": "code",
   "execution_count": 2,
   "metadata": {},
   "outputs": [
    {
     "data": {
      "text/plain": [
       "[[a0 == (1/2), a1 == (1/2)]]"
      ]
     },
     "execution_count": 2,
     "metadata": {},
     "output_type": "execute_result"
    }
   ],
   "source": [
    "eq1 = f(0) == 1        # 1st requirement\n",
    "eq2 = f(1) == 0        # 2nd requirement\n",
    "solve([eq1,eq2],[a0,a1])"
   ]
  },
  {
   "cell_type": "markdown",
   "metadata": {},
   "source": [
    "OK - both coeffs are equal to 1/2. This sort of window is known as Hanning window in the DSP literature. Now let's evaluate its first two derivatives at $t=1$, i.e. at the point where its finite support ends:"
   ]
  },
  {
   "cell_type": "code",
   "execution_count": 3,
   "metadata": {},
   "outputs": [
    {
     "data": {
      "text/plain": [
       "(0, pi^2*a1)"
      ]
     },
     "execution_count": 3,
     "metadata": {},
     "output_type": "execute_result"
    }
   ],
   "source": [
    "f1(1), f2(1)"
   ]
  },
  {
   "cell_type": "markdown",
   "metadata": {},
   "source": [
    "The first derivative is zero - this is very desirable because it means our overall window function will not only be continuous at $t=1$ but will also have a continuous derivative..."
   ]
  },
  {
   "cell_type": "code",
   "execution_count": 4,
   "metadata": {},
   "outputs": [
    {
     "data": {
      "text/plain": [
       "[[a0 == (3/8), a1 == (1/2), a2 == (1/8)]]"
      ]
     },
     "execution_count": 4,
     "metadata": {},
     "output_type": "execute_result"
    }
   ],
   "source": [
    "reset()\n",
    "var(\"t a0 a1 a2\")\n",
    "f(t)  = a0 + a1*cos(pi*t) + a2*cos(2*pi*t)\n",
    "f2(t) = diff(f(t), t, 2) # 2nd derivative\n",
    "eq1 = f(0)  == 1         # 1st requirement\n",
    "eq2 = f(1)  == 0         # 2nd requirement\n",
    "eq3 = f2(1) == 0         # 3rd requirement\n",
    "solve([eq1,eq2,eq3],[a0,a1,a2])"
   ]
  },
  {
   "cell_type": "code",
   "execution_count": 5,
   "metadata": {},
   "outputs": [
    {
     "data": {
      "text/plain": [
       "[[a0 == (5/16), a1 == (15/32), a2 == (3/16), a3 == (1/32)]]"
      ]
     },
     "execution_count": 5,
     "metadata": {},
     "output_type": "execute_result"
    }
   ],
   "source": [
    "reset()\n",
    "var(\"t a0 a1 a2 a3\")\n",
    "f(t)  = a0 + a1*cos(pi*t) + a2*cos(2*pi*t) + a3*cos(3*pi*t)\n",
    "f2(t) = diff(f(t), t, 2) # 2nd derivative\n",
    "f4(t) = diff(f(t), t, 4) # 4th derivative\n",
    "eq1 = f(0)  == 1         # 1st requirement\n",
    "eq2 = f(1)  == 0         # 2nd requirement\n",
    "eq3 = f2(1) == 0         # 3rd requirement\n",
    "eq4 = f4(1) == 0         # 4th requirement\n",
    "solve([eq1,eq2,eq3,eq4],[a0,a1,a2,a3])"
   ]
  },
  {
   "cell_type": "code",
   "execution_count": 6,
   "metadata": {},
   "outputs": [
    {
     "data": {
      "text/plain": [
       "[[a0 == (35/128), a1 == (7/16), a2 == (7/32), a3 == (1/16), a4 == (1/128)]]"
      ]
     },
     "execution_count": 6,
     "metadata": {},
     "output_type": "execute_result"
    }
   ],
   "source": [
    "reset()\n",
    "var(\"t a0 a1 a2 a3 a4\")\n",
    "f(t)  = a0 + a1*cos(pi*t) + a2*cos(2*pi*t) + a3*cos(3*pi*t) + a4*cos(4*pi*t)\n",
    "f2(t) = diff(f(t), t, 2) # 2nd derivative\n",
    "f4(t) = diff(f(t), t, 4) # 4th derivative\n",
    "f6(t) = diff(f(t), t, 6) # 6th derivative\n",
    "eq1 = f(0)  == 1         # 1st requirement\n",
    "eq2 = f(1)  == 0         # 2nd requirement\n",
    "eq3 = f2(1) == 0         # 3rd requirement\n",
    "eq4 = f4(1) == 0         # 4th requirement\n",
    "eq5 = f6(1) == 0         # 5th requirement\n",
    "solve([eq1,eq2,eq3,eq4,eq5],[a0,a1,a2,a3,a4])"
   ]
  },
  {
   "cell_type": "code",
   "execution_count": null,
   "metadata": {},
   "outputs": [],
   "source": []
  }
 ],
 "metadata": {
  "kernelspec": {
   "display_name": "SageMath 8.4",
   "language": "",
   "name": "sagemath"
  },
  "language_info": {
   "codemirror_mode": {
    "name": "ipython",
    "version": 2
   },
   "file_extension": ".py",
   "mimetype": "text/x-python",
   "name": "python",
   "nbconvert_exporter": "python",
   "pygments_lexer": "ipython2",
   "version": "2.7.15"
  }
 },
 "nbformat": 4,
 "nbformat_minor": 2
}
